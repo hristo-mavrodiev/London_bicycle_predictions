{
  "nbformat": 4,
  "nbformat_minor": 0,
  "metadata": {
    "colab": {
      "name": "ML_Exam_softuni.ipynb",
      "provenance": [],
      "collapsed_sections": []
    },
    "kernelspec": {
      "name": "python3",
      "display_name": "Python 3"
    },
    "accelerator": "GPU"
  },
  "cells": [
    {
      "cell_type": "code",
      "metadata": {
        "id": "4u9UPWsk0EsU",
        "colab_type": "code",
        "colab": {
          "base_uri": "https://localhost:8080/",
          "height": 35
        },
        "outputId": "912901ac-affb-479a-aa5e-0f56a10fc45a"
      },
      "source": [
        "!pip install nose"
      ],
      "execution_count": 1,
      "outputs": [
        {
          "output_type": "stream",
          "text": [
            "Requirement already satisfied: nose in /usr/local/lib/python3.6/dist-packages (1.3.7)\n"
          ],
          "name": "stdout"
        }
      ]
    },
    {
      "cell_type": "code",
      "metadata": {
        "id": "tOspbzCy7g44",
        "colab_type": "code",
        "colab": {}
      },
      "source": [
        "#from google.colab import drive\n",
        "#drive.mount('/content/drive')"
      ],
      "execution_count": 0,
      "outputs": []
    },
    {
      "cell_type": "code",
      "metadata": {
        "id": "sMwYo3cbUg3N",
        "colab_type": "code",
        "colab": {}
      },
      "source": [
        "import pickle\n",
        "from urllib.request import urlopen\n",
        "\n",
        "import pandas as pd\n",
        "import numpy as np\n",
        "import matplotlib.pyplot as plt\n",
        "\n",
        "np.random.seed(42)\n",
        "np.random.RandomState(42)\n",
        "\n",
        "import warnings\n",
        "import sklearn.exceptions\n",
        "warnings.filterwarnings(\"ignore\", category=sklearn.exceptions.ConvergenceWarning)\n",
        "warnings.filterwarnings(\"ignore\", category=DeprecationWarning)\n",
        "warnings.filterwarnings(\"ignore\", category=FutureWarning)\n",
        "\n",
        "import seaborn as sns\n",
        "\n",
        "#import unittest\n",
        "from nose.tools import *\n",
        "\n",
        "import time\n",
        "\n",
        "import statsmodels.api as sm\n",
        "from scipy import stats\n",
        "from scipy.stats import norm, skew, kurtosis\n",
        "\n",
        "from sklearn.linear_model import LinearRegression\n",
        "from sklearn.svm import SVR\n",
        "from sklearn.model_selection import train_test_split, TimeSeriesSplit, GridSearchCV,cross_val_score \n",
        "from sklearn import preprocessing\n",
        "from sklearn.ensemble import BaggingRegressor, RandomForestRegressor, AdaBoostRegressor\n",
        "from xgboost.sklearn import XGBRegressor\n",
        "from sklearn.metrics import mean_absolute_error,r2_score, mean_squared_log_error,mean_squared_error, make_scorer\n"
      ],
      "execution_count": 0,
      "outputs": []
    },
    {
      "cell_type": "markdown",
      "metadata": {
        "id": "C9Vp0IFqIzxU",
        "colab_type": "text"
      },
      "source": [
        "# London Bike sharing demand predicton\n",
        "## Machine learning algorithms for prediction of bike sharing demand in London.\n",
        "\n",
        "\n",
        "## Author: Hristo Mavrodiev\n",
        "Project requirements - [link](https://softuni.bg/downloads/svn/Data-Science/June-2019/09.%20Exam/assessment-guidelines.txt)\n",
        "\n",
        "\n",
        "\n",
        "![alt text](https://imgs.xkcd.com/comics/timeline_of_bicycle_design.png)\n",
        "   \n",
        "   XKCD.com\n"
      ]
    },
    {
      "cell_type": "markdown",
      "metadata": {
        "id": "_7126eSVzCnk",
        "colab_type": "text"
      },
      "source": [
        "## Abstract:\n",
        "The purpose of this research is to try a machine learning approach for predicting bike sharing demand in London by given the hour, day, and information about the weather. The research contains: Data exploration, feature engineering, choosing appropriate scoring metric, cross algorithms, cross validation, tuning the algorithms,analysis of feature importance, analysis of residuals and performance evaluation. The used dataset is from years 2015 and 2016. With XGBoost the lowest RMSLE achieved on test set is 0.2611. With Random Forest lowest RMSLE is 0.2807.\n",
        "\n",
        "\n",
        "\n"
      ]
    },
    {
      "cell_type": "markdown",
      "metadata": {
        "id": "qdCGlwcJzE9K",
        "colab_type": "text"
      },
      "source": [
        "## Introduction:\n",
        "The bike sharing is one of the methods of reducing city traffic. It is also lowering the air pollution by reducing the number of cars on the roads. The hypothesis in the research is that the bike sharing are highly related with the time of the day, season and weather conditions. The research will try to predict the bike shares in the future. The predictions of future use could help for a better management of the service. Another point of view is to test the machine learning algorithms how good are at solving this problem."
      ]
    },
    {
      "cell_type": "markdown",
      "metadata": {
        "id": "9_a6FL6zQsZI",
        "colab_type": "text"
      },
      "source": [
        "## The  Datasets description\n",
        "The following code shows the loading of the bike sharing dataset. The data is gathered from 3 sources:  \n",
        " * https://cycling.data.tfl.gov.uk/ *'Contains OS data © Crown copyright and database rights 2016' and Geomni UK Map data © and database rights [2019] 'Powered by TfL Open Data'* - Bike sharing usage dataset\n",
        " * https://freemeteo.com - weather data\n",
        " * https://www.gov.uk/bank-holidays - official bank holidays in London.\n",
        " \n",
        " \n",
        "After the data is grouped by hour and merged is published on \"Kaggle\" - \n",
        "https://www.kaggle.com/hmavrodiev/london-bike-sharing-dataset [1]  \n",
        "*Note*: The official data for bike sharing contains \"Start date\" and \"End Date\" columns, for the calculations the trips are grouped by \"Start date\" column for every hour.So if the sharing is the long duration and passes 1 hour it's not  counted again.\n"
      ]
    },
    {
      "cell_type": "markdown",
      "metadata": {
        "id": "aIDqk4koFY5A",
        "colab_type": "text"
      },
      "source": [
        "## 1.Data Analysis and exploration\n",
        "\n",
        "### Metadata:\n",
        "\"timestamp\" - *timestamp field for grouping the data*  \n",
        "\"cnt\" - *the count of a new bike shares*  \n",
        "\"t1\" - *real temperature in C*  \n",
        "\"t2\" - *temperature in C \"feels like\"*  \n",
        "\"hum\" - *humidity in percentage*  \n",
        "\"wind_speed\" - *wind speed in km/h*  \n",
        "\"weather_code\" - *category of the weather*  \n",
        "\"is_holiday\" - *boolean field - 1 holiday / 0 non holiday*  \n",
        "\"is_weekend\" - *boolean field - 1 if the day is weekend*   \n",
        "\"season\" - *category field meteorological seasons: 0-spring ; 1-summer; 2-fall; 3-winter.*  \n",
        "\n",
        "       \n",
        "       \n",
        "  \n",
        "\n",
        "\n",
        "\"weathe_code\" category description:  \n",
        "*1 = Clear ; mostly clear but have some values with haze/fog/patches of fog/ fog in vicinity  \n",
        "2 = scattered clouds / few clouds  \n",
        "3 = Broken clouds  \n",
        "4 = Cloudy  \n",
        "7 = Rain/ light Rain shower/ Light rain  \n",
        "10 = rain with thunderstorm  \n",
        "26 = snowfall  \n",
        "94 = Freezing Fog*"
      ]
    },
    {
      "cell_type": "code",
      "metadata": {
        "id": "G9vthGH1aVNl",
        "colab_type": "code",
        "outputId": "5aeb384f-ded9-4c27-8f06-3a1490ed6091",
        "colab": {
          "base_uri": "https://localhost:8080/",
          "height": 206
        }
      },
      "source": [
        "london= pd.read_csv('https://www.dropbox.com/s/z0twef3ygv8budm/london_merged.csv?dl=1')\n",
        "assert_is_not_none(london)\n",
        "assert_is_instance(london, pd.DataFrame)\n",
        "assert_equal(london.shape, (17414,10))\n",
        "london.head()"
      ],
      "execution_count": 4,
      "outputs": [
        {
          "output_type": "execute_result",
          "data": {
            "text/html": [
              "<div>\n",
              "<style scoped>\n",
              "    .dataframe tbody tr th:only-of-type {\n",
              "        vertical-align: middle;\n",
              "    }\n",
              "\n",
              "    .dataframe tbody tr th {\n",
              "        vertical-align: top;\n",
              "    }\n",
              "\n",
              "    .dataframe thead th {\n",
              "        text-align: right;\n",
              "    }\n",
              "</style>\n",
              "<table border=\"1\" class=\"dataframe\">\n",
              "  <thead>\n",
              "    <tr style=\"text-align: right;\">\n",
              "      <th></th>\n",
              "      <th>timestamp</th>\n",
              "      <th>cnt</th>\n",
              "      <th>t1</th>\n",
              "      <th>t2</th>\n",
              "      <th>hum</th>\n",
              "      <th>wind_speed</th>\n",
              "      <th>weather_code</th>\n",
              "      <th>is_holiday</th>\n",
              "      <th>is_weekend</th>\n",
              "      <th>season</th>\n",
              "    </tr>\n",
              "  </thead>\n",
              "  <tbody>\n",
              "    <tr>\n",
              "      <th>0</th>\n",
              "      <td>2015-01-04 00:00:00</td>\n",
              "      <td>182</td>\n",
              "      <td>3.0</td>\n",
              "      <td>2.0</td>\n",
              "      <td>93.0</td>\n",
              "      <td>6.0</td>\n",
              "      <td>3.0</td>\n",
              "      <td>0.0</td>\n",
              "      <td>1.0</td>\n",
              "      <td>3.0</td>\n",
              "    </tr>\n",
              "    <tr>\n",
              "      <th>1</th>\n",
              "      <td>2015-01-04 01:00:00</td>\n",
              "      <td>138</td>\n",
              "      <td>3.0</td>\n",
              "      <td>2.5</td>\n",
              "      <td>93.0</td>\n",
              "      <td>5.0</td>\n",
              "      <td>1.0</td>\n",
              "      <td>0.0</td>\n",
              "      <td>1.0</td>\n",
              "      <td>3.0</td>\n",
              "    </tr>\n",
              "    <tr>\n",
              "      <th>2</th>\n",
              "      <td>2015-01-04 02:00:00</td>\n",
              "      <td>134</td>\n",
              "      <td>2.5</td>\n",
              "      <td>2.5</td>\n",
              "      <td>96.5</td>\n",
              "      <td>0.0</td>\n",
              "      <td>1.0</td>\n",
              "      <td>0.0</td>\n",
              "      <td>1.0</td>\n",
              "      <td>3.0</td>\n",
              "    </tr>\n",
              "    <tr>\n",
              "      <th>3</th>\n",
              "      <td>2015-01-04 03:00:00</td>\n",
              "      <td>72</td>\n",
              "      <td>2.0</td>\n",
              "      <td>2.0</td>\n",
              "      <td>100.0</td>\n",
              "      <td>0.0</td>\n",
              "      <td>1.0</td>\n",
              "      <td>0.0</td>\n",
              "      <td>1.0</td>\n",
              "      <td>3.0</td>\n",
              "    </tr>\n",
              "    <tr>\n",
              "      <th>4</th>\n",
              "      <td>2015-01-04 04:00:00</td>\n",
              "      <td>47</td>\n",
              "      <td>2.0</td>\n",
              "      <td>0.0</td>\n",
              "      <td>93.0</td>\n",
              "      <td>6.5</td>\n",
              "      <td>1.0</td>\n",
              "      <td>0.0</td>\n",
              "      <td>1.0</td>\n",
              "      <td>3.0</td>\n",
              "    </tr>\n",
              "  </tbody>\n",
              "</table>\n",
              "</div>"
            ],
            "text/plain": [
              "             timestamp  cnt   t1  ...  is_holiday  is_weekend  season\n",
              "0  2015-01-04 00:00:00  182  3.0  ...         0.0         1.0     3.0\n",
              "1  2015-01-04 01:00:00  138  3.0  ...         0.0         1.0     3.0\n",
              "2  2015-01-04 02:00:00  134  2.5  ...         0.0         1.0     3.0\n",
              "3  2015-01-04 03:00:00   72  2.0  ...         0.0         1.0     3.0\n",
              "4  2015-01-04 04:00:00   47  2.0  ...         0.0         1.0     3.0\n",
              "\n",
              "[5 rows x 10 columns]"
            ]
          },
          "metadata": {
            "tags": []
          },
          "execution_count": 4
        }
      ]
    },
    {
      "cell_type": "code",
      "metadata": {
        "id": "37A0tXRXAZ94",
        "colab_type": "code",
        "outputId": "1f6eef37-a119-4c6e-fd71-b2258fe08db8",
        "colab": {
          "base_uri": "https://localhost:8080/",
          "height": 214
        }
      },
      "source": [
        "london.dtypes"
      ],
      "execution_count": 5,
      "outputs": [
        {
          "output_type": "execute_result",
          "data": {
            "text/plain": [
              "timestamp        object\n",
              "cnt               int64\n",
              "t1              float64\n",
              "t2              float64\n",
              "hum             float64\n",
              "wind_speed      float64\n",
              "weather_code    float64\n",
              "is_holiday      float64\n",
              "is_weekend      float64\n",
              "season          float64\n",
              "dtype: object"
            ]
          },
          "metadata": {
            "tags": []
          },
          "execution_count": 5
        }
      ]
    },
    {
      "cell_type": "code",
      "metadata": {
        "id": "CQ-PtuPQpDlZ",
        "colab_type": "code",
        "outputId": "2294c35f-2557-465f-fd3e-23c72778aa82",
        "colab": {
          "base_uri": "https://localhost:8080/",
          "height": 300
        }
      },
      "source": [
        "london.describe()"
      ],
      "execution_count": 6,
      "outputs": [
        {
          "output_type": "execute_result",
          "data": {
            "text/html": [
              "<div>\n",
              "<style scoped>\n",
              "    .dataframe tbody tr th:only-of-type {\n",
              "        vertical-align: middle;\n",
              "    }\n",
              "\n",
              "    .dataframe tbody tr th {\n",
              "        vertical-align: top;\n",
              "    }\n",
              "\n",
              "    .dataframe thead th {\n",
              "        text-align: right;\n",
              "    }\n",
              "</style>\n",
              "<table border=\"1\" class=\"dataframe\">\n",
              "  <thead>\n",
              "    <tr style=\"text-align: right;\">\n",
              "      <th></th>\n",
              "      <th>cnt</th>\n",
              "      <th>t1</th>\n",
              "      <th>t2</th>\n",
              "      <th>hum</th>\n",
              "      <th>wind_speed</th>\n",
              "      <th>weather_code</th>\n",
              "      <th>is_holiday</th>\n",
              "      <th>is_weekend</th>\n",
              "      <th>season</th>\n",
              "    </tr>\n",
              "  </thead>\n",
              "  <tbody>\n",
              "    <tr>\n",
              "      <th>count</th>\n",
              "      <td>17414.000000</td>\n",
              "      <td>17414.000000</td>\n",
              "      <td>17414.000000</td>\n",
              "      <td>17414.000000</td>\n",
              "      <td>17414.000000</td>\n",
              "      <td>17414.000000</td>\n",
              "      <td>17414.000000</td>\n",
              "      <td>17414.000000</td>\n",
              "      <td>17414.000000</td>\n",
              "    </tr>\n",
              "    <tr>\n",
              "      <th>mean</th>\n",
              "      <td>1143.101642</td>\n",
              "      <td>12.468091</td>\n",
              "      <td>11.520836</td>\n",
              "      <td>72.324954</td>\n",
              "      <td>15.913063</td>\n",
              "      <td>2.722752</td>\n",
              "      <td>0.022051</td>\n",
              "      <td>0.285403</td>\n",
              "      <td>1.492075</td>\n",
              "    </tr>\n",
              "    <tr>\n",
              "      <th>std</th>\n",
              "      <td>1085.108068</td>\n",
              "      <td>5.571818</td>\n",
              "      <td>6.615145</td>\n",
              "      <td>14.313186</td>\n",
              "      <td>7.894570</td>\n",
              "      <td>2.341163</td>\n",
              "      <td>0.146854</td>\n",
              "      <td>0.451619</td>\n",
              "      <td>1.118911</td>\n",
              "    </tr>\n",
              "    <tr>\n",
              "      <th>min</th>\n",
              "      <td>0.000000</td>\n",
              "      <td>-1.500000</td>\n",
              "      <td>-6.000000</td>\n",
              "      <td>20.500000</td>\n",
              "      <td>0.000000</td>\n",
              "      <td>1.000000</td>\n",
              "      <td>0.000000</td>\n",
              "      <td>0.000000</td>\n",
              "      <td>0.000000</td>\n",
              "    </tr>\n",
              "    <tr>\n",
              "      <th>25%</th>\n",
              "      <td>257.000000</td>\n",
              "      <td>8.000000</td>\n",
              "      <td>6.000000</td>\n",
              "      <td>63.000000</td>\n",
              "      <td>10.000000</td>\n",
              "      <td>1.000000</td>\n",
              "      <td>0.000000</td>\n",
              "      <td>0.000000</td>\n",
              "      <td>0.000000</td>\n",
              "    </tr>\n",
              "    <tr>\n",
              "      <th>50%</th>\n",
              "      <td>844.000000</td>\n",
              "      <td>12.500000</td>\n",
              "      <td>12.500000</td>\n",
              "      <td>74.500000</td>\n",
              "      <td>15.000000</td>\n",
              "      <td>2.000000</td>\n",
              "      <td>0.000000</td>\n",
              "      <td>0.000000</td>\n",
              "      <td>1.000000</td>\n",
              "    </tr>\n",
              "    <tr>\n",
              "      <th>75%</th>\n",
              "      <td>1671.750000</td>\n",
              "      <td>16.000000</td>\n",
              "      <td>16.000000</td>\n",
              "      <td>83.000000</td>\n",
              "      <td>20.500000</td>\n",
              "      <td>3.000000</td>\n",
              "      <td>0.000000</td>\n",
              "      <td>1.000000</td>\n",
              "      <td>2.000000</td>\n",
              "    </tr>\n",
              "    <tr>\n",
              "      <th>max</th>\n",
              "      <td>7860.000000</td>\n",
              "      <td>34.000000</td>\n",
              "      <td>34.000000</td>\n",
              "      <td>100.000000</td>\n",
              "      <td>56.500000</td>\n",
              "      <td>26.000000</td>\n",
              "      <td>1.000000</td>\n",
              "      <td>1.000000</td>\n",
              "      <td>3.000000</td>\n",
              "    </tr>\n",
              "  </tbody>\n",
              "</table>\n",
              "</div>"
            ],
            "text/plain": [
              "                cnt            t1  ...    is_weekend        season\n",
              "count  17414.000000  17414.000000  ...  17414.000000  17414.000000\n",
              "mean    1143.101642     12.468091  ...      0.285403      1.492075\n",
              "std     1085.108068      5.571818  ...      0.451619      1.118911\n",
              "min        0.000000     -1.500000  ...      0.000000      0.000000\n",
              "25%      257.000000      8.000000  ...      0.000000      0.000000\n",
              "50%      844.000000     12.500000  ...      0.000000      1.000000\n",
              "75%     1671.750000     16.000000  ...      1.000000      2.000000\n",
              "max     7860.000000     34.000000  ...      1.000000      3.000000\n",
              "\n",
              "[8 rows x 9 columns]"
            ]
          },
          "metadata": {
            "tags": []
          },
          "execution_count": 6
        }
      ]
    },
    {
      "cell_type": "code",
      "metadata": {
        "id": "JrV-zB8fo5QF",
        "colab_type": "code",
        "outputId": "f3b6fd20-1db1-40f5-8ebb-ef842f78c0a5",
        "colab": {
          "base_uri": "https://localhost:8080/",
          "height": 285
        }
      },
      "source": [
        "london.info()"
      ],
      "execution_count": 7,
      "outputs": [
        {
          "output_type": "stream",
          "text": [
            "<class 'pandas.core.frame.DataFrame'>\n",
            "RangeIndex: 17414 entries, 0 to 17413\n",
            "Data columns (total 10 columns):\n",
            "timestamp       17414 non-null object\n",
            "cnt             17414 non-null int64\n",
            "t1              17414 non-null float64\n",
            "t2              17414 non-null float64\n",
            "hum             17414 non-null float64\n",
            "wind_speed      17414 non-null float64\n",
            "weather_code    17414 non-null float64\n",
            "is_holiday      17414 non-null float64\n",
            "is_weekend      17414 non-null float64\n",
            "season          17414 non-null float64\n",
            "dtypes: float64(8), int64(1), object(1)\n",
            "memory usage: 1.3+ MB\n"
          ],
          "name": "stdout"
        }
      ]
    },
    {
      "cell_type": "code",
      "metadata": {
        "id": "JApjFO8C1RqO",
        "colab_type": "code",
        "colab": {}
      },
      "source": [
        "london['timestamp'] = pd.to_datetime(london['timestamp'], format =\"%Y-%m-%d %H:%M:%S\")"
      ],
      "execution_count": 0,
      "outputs": []
    },
    {
      "cell_type": "code",
      "metadata": {
        "id": "q8mwBI73vgcQ",
        "colab_type": "code",
        "outputId": "efb54cf4-0ea9-4c5f-d22b-b1010109680d",
        "colab": {
          "base_uri": "https://localhost:8080/",
          "height": 35
        }
      },
      "source": [
        "london['weather_code'].unique()\n",
        "#1 = Clear ; mostly clear but have some values with haze/fog/patches of fog/ fog in vicinity\n",
        "#2 = scattered clouds / few clouds\n",
        "#3 = Broken clouds\n",
        "#4 = Cloudly\n",
        "#7 = Rain/ light Rain shower/ Light rain\n",
        "#10 = rain with thunderstorm\n",
        "#26 = snowfall\n",
        "#94 = Freezing Fog\n"
      ],
      "execution_count": 9,
      "outputs": [
        {
          "output_type": "execute_result",
          "data": {
            "text/plain": [
              "array([ 3.,  1.,  4.,  7.,  2., 26., 10.])"
            ]
          },
          "metadata": {
            "tags": []
          },
          "execution_count": 9
        }
      ]
    },
    {
      "cell_type": "code",
      "metadata": {
        "id": "TiQ9tYgWmIVC",
        "colab_type": "code",
        "colab": {}
      },
      "source": [
        "weather_dict = {1 : 100,  2 : 100,  3 : 100,  4 : 100, \n",
        "                7 : 200, 10 : 200, 26 : 200, 94 : 200}\n",
        "london['weather_code']=london['weather_code'].replace(weather_dict)"
      ],
      "execution_count": 0,
      "outputs": []
    },
    {
      "cell_type": "code",
      "metadata": {
        "id": "cT5WKWlRjTCo",
        "colab_type": "code",
        "colab": {}
      },
      "source": [
        "london['count_log'] = np.log1p(london['cnt'])"
      ],
      "execution_count": 0,
      "outputs": []
    },
    {
      "cell_type": "code",
      "metadata": {
        "id": "wgLlO6sAYXtS",
        "colab_type": "code",
        "outputId": "7bd6ea49-4c48-45c8-e3d3-a79525992551",
        "colab": {
          "base_uri": "https://localhost:8080/",
          "height": 391
        }
      },
      "source": [
        "def plot_distribution(london,columns,**kwargs ):\n",
        "    \"\"\"\n",
        "    Function to plot a dataframe feature distribution.\n",
        "    Input: \n",
        "    df - pandas DataFrame.\n",
        "    columns - list of the df columns that should be plotted\n",
        "    Output: multiple feature histograms\n",
        "    \n",
        "    Note: String columns should be dropped before passing to the function.\n",
        "    \"\"\"\n",
        "    assert_is_not_none(london)\n",
        "    assert_is_instance(london, pd.DataFrame)\n",
        "    \n",
        "    fig, axes = plt.subplots(ncols=len(columns),figsize=(30,5))\n",
        "    for axs, col in zip(axes, columns):\n",
        "        sns.distplot(london[col], ax=axs,**kwargs)\n",
        "    fig.suptitle('Feature distribution')\n",
        "    \n",
        "plot_distribution(london,london.drop(['timestamp'],axis=1).columns, kde=False)"
      ],
      "execution_count": 12,
      "outputs": [
        {
          "output_type": "display_data",
          "data": {
            "image/png": "[encoded data removed]",
            "text/plain": [
              "<Figure size 2160x360 with 10 Axes>"
            ]
          },
          "metadata": {
            "tags": []
          }
        }
      ]
    },
    {
      "cell_type": "markdown",
      "metadata": {
        "id": "JyaaWLCBtUmw",
        "colab_type": "text"
      },
      "source": [
        "The distribution of \"cnt\" column does not looks like Gaussian. It is more similar to \"Exponential-logarithmic distribution\" and it's highly skewed at the left. The column \"count_log\" represents the transformed of \"cnt\" column with \"log1p\" numpy function. The data contains zero values, so \"log1p\" adds 1 to the data and then calculates the natural logarithm function. There are different methods to transform the target variable to more Gaussian distribution. Some of the methods are : \"square root function\" , \"logarithmic function\", \"Box Cox transformation\". The transformation reduces the variance in the data and helps to reduce the effect of outliers in the data. If the target variable distribution is more likely to Gaussian, this will help the distribution of residuals also to be more likely to Gaussian. The distribution of \"coulnt_log\" columns looks \"Bimodal Gaussian\" (this is not confirmed by statistical test, just a visually interpretation). The distribution of other columns looks good, doesn't need any transformations. The column \"is_holiday\" looks highly imbalanced, maybe this could be grouped with \"is_weekend\" in a new column to represent a working day or not."
      ]
    },
    {
      "cell_type": "code",
      "metadata": {
        "id": "PtFucLf1ptGj",
        "colab_type": "code",
        "outputId": "3af066c0-4d57-42ac-ed85-39e50378223f",
        "colab": {
          "base_uri": "https://localhost:8080/",
          "height": 206
        }
      },
      "source": [
        "london.head()"
      ],
      "execution_count": 13,
      "outputs": [
        {
          "output_type": "execute_result",
          "data": {
            "text/html": [
              "<div>\n",
              "<style scoped>\n",
              "    .dataframe tbody tr th:only-of-type {\n",
              "        vertical-align: middle;\n",
              "    }\n",
              "\n",
              "    .dataframe tbody tr th {\n",
              "        vertical-align: top;\n",
              "    }\n",
              "\n",
              "    .dataframe thead th {\n",
              "        text-align: right;\n",
              "    }\n",
              "</style>\n",
              "<table border=\"1\" class=\"dataframe\">\n",
              "  <thead>\n",
              "    <tr style=\"text-align: right;\">\n",
              "      <th></th>\n",
              "      <th>timestamp</th>\n",
              "      <th>cnt</th>\n",
              "      <th>t1</th>\n",
              "      <th>t2</th>\n",
              "      <th>hum</th>\n",
              "      <th>wind_speed</th>\n",
              "      <th>weather_code</th>\n",
              "      <th>is_holiday</th>\n",
              "      <th>is_weekend</th>\n",
              "      <th>season</th>\n",
              "      <th>count_log</th>\n",
              "    </tr>\n",
              "  </thead>\n",
              "  <tbody>\n",
              "    <tr>\n",
              "      <th>0</th>\n",
              "      <td>2015-01-04 00:00:00</td>\n",
              "      <td>182</td>\n",
              "      <td>3.0</td>\n",
              "      <td>2.0</td>\n",
              "      <td>93.0</td>\n",
              "      <td>6.0</td>\n",
              "      <td>100.0</td>\n",
              "      <td>0.0</td>\n",
              "      <td>1.0</td>\n",
              "      <td>3.0</td>\n",
              "      <td>5.209486</td>\n",
              "    </tr>\n",
              "    <tr>\n",
              "      <th>1</th>\n",
              "      <td>2015-01-04 01:00:00</td>\n",
              "      <td>138</td>\n",
              "      <td>3.0</td>\n",
              "      <td>2.5</td>\n",
              "      <td>93.0</td>\n",
              "      <td>5.0</td>\n",
              "      <td>100.0</td>\n",
              "      <td>0.0</td>\n",
              "      <td>1.0</td>\n",
              "      <td>3.0</td>\n",
              "      <td>4.934474</td>\n",
              "    </tr>\n",
              "    <tr>\n",
              "      <th>2</th>\n",
              "      <td>2015-01-04 02:00:00</td>\n",
              "      <td>134</td>\n",
              "      <td>2.5</td>\n",
              "      <td>2.5</td>\n",
              "      <td>96.5</td>\n",
              "      <td>0.0</td>\n",
              "      <td>100.0</td>\n",
              "      <td>0.0</td>\n",
              "      <td>1.0</td>\n",
              "      <td>3.0</td>\n",
              "      <td>4.905275</td>\n",
              "    </tr>\n",
              "    <tr>\n",
              "      <th>3</th>\n",
              "      <td>2015-01-04 03:00:00</td>\n",
              "      <td>72</td>\n",
              "      <td>2.0</td>\n",
              "      <td>2.0</td>\n",
              "      <td>100.0</td>\n",
              "      <td>0.0</td>\n",
              "      <td>100.0</td>\n",
              "      <td>0.0</td>\n",
              "      <td>1.0</td>\n",
              "      <td>3.0</td>\n",
              "      <td>4.290459</td>\n",
              "    </tr>\n",
              "    <tr>\n",
              "      <th>4</th>\n",
              "      <td>2015-01-04 04:00:00</td>\n",
              "      <td>47</td>\n",
              "      <td>2.0</td>\n",
              "      <td>0.0</td>\n",
              "      <td>93.0</td>\n",
              "      <td>6.5</td>\n",
              "      <td>100.0</td>\n",
              "      <td>0.0</td>\n",
              "      <td>1.0</td>\n",
              "      <td>3.0</td>\n",
              "      <td>3.871201</td>\n",
              "    </tr>\n",
              "  </tbody>\n",
              "</table>\n",
              "</div>"
            ],
            "text/plain": [
              "            timestamp  cnt   t1   t2  ...  is_holiday  is_weekend  season  count_log\n",
              "0 2015-01-04 00:00:00  182  3.0  2.0  ...         0.0         1.0     3.0   5.209486\n",
              "1 2015-01-04 01:00:00  138  3.0  2.5  ...         0.0         1.0     3.0   4.934474\n",
              "2 2015-01-04 02:00:00  134  2.5  2.5  ...         0.0         1.0     3.0   4.905275\n",
              "3 2015-01-04 03:00:00   72  2.0  2.0  ...         0.0         1.0     3.0   4.290459\n",
              "4 2015-01-04 04:00:00   47  2.0  0.0  ...         0.0         1.0     3.0   3.871201\n",
              "\n",
              "[5 rows x 11 columns]"
            ]
          },
          "metadata": {
            "tags": []
          },
          "execution_count": 13
        }
      ]
    },
    {
      "cell_type": "code",
      "metadata": {
        "id": "CxyyfHloIxiB",
        "colab_type": "code",
        "outputId": "228420ea-89e4-4a76-b849-d6e6d363ce2a",
        "colab": {
          "base_uri": "https://localhost:8080/",
          "height": 1000
        }
      },
      "source": [
        "def plot_by_time(london,column,main_title,yaxis):\n",
        "    \"\"\"\n",
        "    Plot values by timestamp.\n",
        "    Input:\n",
        "    london - pandas DataFrame\n",
        "    column - name of the column to plot\n",
        "    main_title - string for title of the plot\n",
        "    yaxis -string for yaxis label\n",
        "    \n",
        "    \"\"\"\n",
        "    assert_true(column in set(london.columns))\n",
        "    \n",
        "    \n",
        "    ax = london.plot(x='timestamp',y=column, rot=90)\n",
        "    plt.title(main_title)\n",
        "    plt.ylabel(yaxis)\n",
        "    plt.show()\n",
        "\n",
        "#ax.set_xticklabels(pd.to_datetime(london.timestamp), rotation=90)\n",
        "plot_by_time(london,'t1','Temperature by date','Temperature in C')\n",
        "plot_by_time(london,'t2','Temperature \"feels like\" by date','Temperature in C')\n",
        "plot_by_time(london,'hum','humidity by date','% humidity')\n",
        "plot_by_time(london,'wind_speed','Wind speed by date','wind km/h')\n",
        "plot_by_time(london,'cnt','Bike shares by date','count')\n",
        "plot_by_time(london,'count_log','Bike shares by date','log of count')"
      ],
      "execution_count": 14,
      "outputs": [
        {
          "output_type": "display_data",
          "data": {
            "image/png": "[encoded data removed]",
            "text/plain": [
              "<Figure size 432x288 with 1 Axes>"
            ]
          },
          "metadata": {
            "tags": []
          }
        },
        {
          "output_type": "display_data",
          "data": {
            "image/png": "[encoded data removed]",
            "text/plain": [
              "<Figure size 432x288 with 1 Axes>"
            ]
          },
          "metadata": {
            "tags": []
          }
        },
        {
          "output_type": "display_data",
          "data": {
            "image/png": "[encoded data removed]",
            "text/plain": [
              "<Figure size 432x288 with 1 Axes>"
            ]
          },
          "metadata": {
            "tags": []
          }
        },
        {
          "output_type": "display_data",
          "data": {
            "image/png": "[encoded data removed]",
            "text/plain": [
              "<Figure size 432x288 with 1 Axes>"
            ]
          },
          "metadata": {
            "tags": []
          }
        },
        {
          "output_type": "display_data",
          "data": {
            "image/png": "[encoded data removed]",
            "text/plain": [
              "<Figure size 432x288 with 1 Axes>"
            ]
          },
          "metadata": {
            "tags": []
          }
        },
        {
          "output_type": "display_data",
          "data": {
            "image/png": "[encoded data removed]",
            "text/plain": [
              "<Figure size 432x288 with 1 Axes>"
            ]
          },
          "metadata": {
            "tags": []
          }
        }
      ]
    },
    {
      "cell_type": "markdown",
      "metadata": {
        "id": "Js7righSmLWD",
        "colab_type": "text"
      },
      "source": [
        "There are some positive outliers - values greater than 5000. The values in december/january could be interpreted as outliers too, because of their difference compared with the other data."
      ]
    },
    {
      "cell_type": "code",
      "metadata": {
        "id": "yPXt16T00Vb7",
        "colab_type": "code",
        "colab": {}
      },
      "source": [
        "london_non_weekend = london[london['is_weekend'] == 0]\n",
        "london_non_weekend = london_non_weekend.drop(['is_holiday','is_weekend'],axis=1)\n",
        "london_is_weekend = london[london['is_weekend'] == 1]\n",
        "london_is_weekend = london_is_weekend.drop(['is_holiday','is_weekend'],axis=1)\n",
        "london_is_holiday = london[london['is_holiday'] == 1]\n",
        "london_is_holiday = london_is_holiday.drop(['is_holiday','is_weekend'],axis=1)\n",
        "london_non_holiday = london[london['is_holiday'] == 0]\n",
        "london_non_holiday = london_non_holiday.drop(['is_holiday','is_weekend'],axis=1)"
      ],
      "execution_count": 0,
      "outputs": []
    },
    {
      "cell_type": "code",
      "metadata": {
        "id": "zrLCYbgTNady",
        "colab_type": "code",
        "outputId": "0362f320-1335-4203-8e3b-455e938fc417",
        "colab": {
          "base_uri": "https://localhost:8080/",
          "height": 295
        }
      },
      "source": [
        "def hourly_plot(df,title):\n",
        "    \"\"\"\n",
        "    Function for plotting bike shares by hour.\n",
        "    input: \n",
        "    df - pandas dataframe \n",
        "    title - main title of the plot\n",
        "    \n",
        "    \"\"\"\n",
        "    assert_true('timestamp' in set(df.columns))\n",
        "    assert_true('cnt' in set(df.columns))\n",
        "    \n",
        "    df.groupby(by=df.timestamp.dt.hour)['cnt'].mean().plot()\n",
        "    plt.title(title)\n",
        "    plt.ylabel('count')\n",
        "    plt.legend(['workdays','weekend','holidays'],loc=2, fontsize = 'medium')\n",
        "    \n",
        "hourly_plot(london_non_weekend, 'Bike shares by hour')\n",
        "hourly_plot(london_is_weekend, 'Bike shares by hour')\n",
        "hourly_plot(london_is_holiday, 'Bike shares by hour')\n"
      ],
      "execution_count": 16,
      "outputs": [
        {
          "output_type": "display_data",
          "data": {
            "image/png": "[encoded data removed]",
            "text/plain": [
              "<Figure size 432x288 with 1 Axes>"
            ]
          },
          "metadata": {
            "tags": []
          }
        }
      ]
    },
    {
      "cell_type": "code",
      "metadata": {
        "id": "nqbZfhvv1Yg7",
        "colab_type": "code",
        "outputId": "0c0da421-22bb-4eaf-9de1-9f890b15b1c3",
        "colab": {
          "base_uri": "https://localhost:8080/",
          "height": 363
        }
      },
      "source": [
        "london.corr()"
      ],
      "execution_count": 17,
      "outputs": [
        {
          "output_type": "execute_result",
          "data": {
            "text/html": [
              "<div>\n",
              "<style scoped>\n",
              "    .dataframe tbody tr th:only-of-type {\n",
              "        vertical-align: middle;\n",
              "    }\n",
              "\n",
              "    .dataframe tbody tr th {\n",
              "        vertical-align: top;\n",
              "    }\n",
              "\n",
              "    .dataframe thead th {\n",
              "        text-align: right;\n",
              "    }\n",
              "</style>\n",
              "<table border=\"1\" class=\"dataframe\">\n",
              "  <thead>\n",
              "    <tr style=\"text-align: right;\">\n",
              "      <th></th>\n",
              "      <th>cnt</th>\n",
              "      <th>t1</th>\n",
              "      <th>t2</th>\n",
              "      <th>hum</th>\n",
              "      <th>wind_speed</th>\n",
              "      <th>weather_code</th>\n",
              "      <th>is_holiday</th>\n",
              "      <th>is_weekend</th>\n",
              "      <th>season</th>\n",
              "      <th>count_log</th>\n",
              "    </tr>\n",
              "  </thead>\n",
              "  <tbody>\n",
              "    <tr>\n",
              "      <th>cnt</th>\n",
              "      <td>1.000000</td>\n",
              "      <td>0.388798</td>\n",
              "      <td>0.369035</td>\n",
              "      <td>-0.462901</td>\n",
              "      <td>0.116295</td>\n",
              "      <td>-0.156022</td>\n",
              "      <td>-0.051698</td>\n",
              "      <td>-0.096499</td>\n",
              "      <td>-0.116180</td>\n",
              "      <td>0.841791</td>\n",
              "    </tr>\n",
              "    <tr>\n",
              "      <th>t1</th>\n",
              "      <td>0.388798</td>\n",
              "      <td>1.000000</td>\n",
              "      <td>0.988344</td>\n",
              "      <td>-0.447781</td>\n",
              "      <td>0.145471</td>\n",
              "      <td>-0.048064</td>\n",
              "      <td>-0.042233</td>\n",
              "      <td>-0.005342</td>\n",
              "      <td>-0.285851</td>\n",
              "      <td>0.389534</td>\n",
              "    </tr>\n",
              "    <tr>\n",
              "      <th>t2</th>\n",
              "      <td>0.369035</td>\n",
              "      <td>0.988344</td>\n",
              "      <td>1.000000</td>\n",
              "      <td>-0.403495</td>\n",
              "      <td>0.088409</td>\n",
              "      <td>-0.051161</td>\n",
              "      <td>-0.040051</td>\n",
              "      <td>-0.008510</td>\n",
              "      <td>-0.285900</td>\n",
              "      <td>0.372239</td>\n",
              "    </tr>\n",
              "    <tr>\n",
              "      <th>hum</th>\n",
              "      <td>-0.462901</td>\n",
              "      <td>-0.447781</td>\n",
              "      <td>-0.403495</td>\n",
              "      <td>1.000000</td>\n",
              "      <td>-0.287789</td>\n",
              "      <td>0.270931</td>\n",
              "      <td>0.032068</td>\n",
              "      <td>0.028098</td>\n",
              "      <td>0.290381</td>\n",
              "      <td>-0.488664</td>\n",
              "    </tr>\n",
              "    <tr>\n",
              "      <th>wind_speed</th>\n",
              "      <td>0.116295</td>\n",
              "      <td>0.145471</td>\n",
              "      <td>0.088409</td>\n",
              "      <td>-0.287789</td>\n",
              "      <td>1.000000</td>\n",
              "      <td>0.103626</td>\n",
              "      <td>-0.002606</td>\n",
              "      <td>0.011479</td>\n",
              "      <td>0.010305</td>\n",
              "      <td>0.159161</td>\n",
              "    </tr>\n",
              "    <tr>\n",
              "      <th>weather_code</th>\n",
              "      <td>-0.156022</td>\n",
              "      <td>-0.048064</td>\n",
              "      <td>-0.051161</td>\n",
              "      <td>0.270931</td>\n",
              "      <td>0.103626</td>\n",
              "      <td>1.000000</td>\n",
              "      <td>0.027177</td>\n",
              "      <td>0.011004</td>\n",
              "      <td>0.035282</td>\n",
              "      <td>-0.159256</td>\n",
              "    </tr>\n",
              "    <tr>\n",
              "      <th>is_holiday</th>\n",
              "      <td>-0.051698</td>\n",
              "      <td>-0.042233</td>\n",
              "      <td>-0.040051</td>\n",
              "      <td>0.032068</td>\n",
              "      <td>-0.002606</td>\n",
              "      <td>0.027177</td>\n",
              "      <td>1.000000</td>\n",
              "      <td>-0.094898</td>\n",
              "      <td>-0.032488</td>\n",
              "      <td>-0.046805</td>\n",
              "    </tr>\n",
              "    <tr>\n",
              "      <th>is_weekend</th>\n",
              "      <td>-0.096499</td>\n",
              "      <td>-0.005342</td>\n",
              "      <td>-0.008510</td>\n",
              "      <td>0.028098</td>\n",
              "      <td>0.011479</td>\n",
              "      <td>0.011004</td>\n",
              "      <td>-0.094898</td>\n",
              "      <td>1.000000</td>\n",
              "      <td>0.001067</td>\n",
              "      <td>-0.031061</td>\n",
              "    </tr>\n",
              "    <tr>\n",
              "      <th>season</th>\n",
              "      <td>-0.116180</td>\n",
              "      <td>-0.285851</td>\n",
              "      <td>-0.285900</td>\n",
              "      <td>0.290381</td>\n",
              "      <td>0.010305</td>\n",
              "      <td>0.035282</td>\n",
              "      <td>-0.032488</td>\n",
              "      <td>0.001067</td>\n",
              "      <td>1.000000</td>\n",
              "      <td>-0.091471</td>\n",
              "    </tr>\n",
              "    <tr>\n",
              "      <th>count_log</th>\n",
              "      <td>0.841791</td>\n",
              "      <td>0.389534</td>\n",
              "      <td>0.372239</td>\n",
              "      <td>-0.488664</td>\n",
              "      <td>0.159161</td>\n",
              "      <td>-0.159256</td>\n",
              "      <td>-0.046805</td>\n",
              "      <td>-0.031061</td>\n",
              "      <td>-0.091471</td>\n",
              "      <td>1.000000</td>\n",
              "    </tr>\n",
              "  </tbody>\n",
              "</table>\n",
              "</div>"
            ],
            "text/plain": [
              "                   cnt        t1        t2  ...  is_weekend    season  count_log\n",
              "cnt           1.000000  0.388798  0.369035  ...   -0.096499 -0.116180   0.841791\n",
              "t1            0.388798  1.000000  0.988344  ...   -0.005342 -0.285851   0.389534\n",
              "t2            0.369035  0.988344  1.000000  ...   -0.008510 -0.285900   0.372239\n",
              "hum          -0.462901 -0.447781 -0.403495  ...    0.028098  0.290381  -0.488664\n",
              "wind_speed    0.116295  0.145471  0.088409  ...    0.011479  0.010305   0.159161\n",
              "weather_code -0.156022 -0.048064 -0.051161  ...    0.011004  0.035282  -0.159256\n",
              "is_holiday   -0.051698 -0.042233 -0.040051  ...   -0.094898 -0.032488  -0.046805\n",
              "is_weekend   -0.096499 -0.005342 -0.008510  ...    1.000000  0.001067  -0.031061\n",
              "season       -0.116180 -0.285851 -0.285900  ...    0.001067  1.000000  -0.091471\n",
              "count_log     0.841791  0.389534  0.372239  ...   -0.031061 -0.091471   1.000000\n",
              "\n",
              "[10 rows x 10 columns]"
            ]
          },
          "metadata": {
            "tags": []
          },
          "execution_count": 17
        }
      ]
    },
    {
      "cell_type": "code",
      "metadata": {
        "id": "2Z4uSbmN1Q3z",
        "colab_type": "code",
        "outputId": "675d3c7b-91e0-49f5-c1aa-848ce8756a19",
        "colab": {
          "base_uri": "https://localhost:8080/",
          "height": 300
        }
      },
      "source": [
        "london_is_weekend.corr()"
      ],
      "execution_count": 18,
      "outputs": [
        {
          "output_type": "execute_result",
          "data": {
            "text/html": [
              "<div>\n",
              "<style scoped>\n",
              "    .dataframe tbody tr th:only-of-type {\n",
              "        vertical-align: middle;\n",
              "    }\n",
              "\n",
              "    .dataframe tbody tr th {\n",
              "        vertical-align: top;\n",
              "    }\n",
              "\n",
              "    .dataframe thead th {\n",
              "        text-align: right;\n",
              "    }\n",
              "</style>\n",
              "<table border=\"1\" class=\"dataframe\">\n",
              "  <thead>\n",
              "    <tr style=\"text-align: right;\">\n",
              "      <th></th>\n",
              "      <th>cnt</th>\n",
              "      <th>t1</th>\n",
              "      <th>t2</th>\n",
              "      <th>hum</th>\n",
              "      <th>wind_speed</th>\n",
              "      <th>weather_code</th>\n",
              "      <th>season</th>\n",
              "      <th>count_log</th>\n",
              "    </tr>\n",
              "  </thead>\n",
              "  <tbody>\n",
              "    <tr>\n",
              "      <th>cnt</th>\n",
              "      <td>1.000000</td>\n",
              "      <td>0.584213</td>\n",
              "      <td>0.547861</td>\n",
              "      <td>-0.702457</td>\n",
              "      <td>0.166668</td>\n",
              "      <td>-0.191800</td>\n",
              "      <td>-0.193019</td>\n",
              "      <td>0.889169</td>\n",
              "    </tr>\n",
              "    <tr>\n",
              "      <th>t1</th>\n",
              "      <td>0.584213</td>\n",
              "      <td>1.000000</td>\n",
              "      <td>0.988952</td>\n",
              "      <td>-0.473904</td>\n",
              "      <td>0.154928</td>\n",
              "      <td>-0.102784</td>\n",
              "      <td>-0.286623</td>\n",
              "      <td>0.532552</td>\n",
              "    </tr>\n",
              "    <tr>\n",
              "      <th>t2</th>\n",
              "      <td>0.547861</td>\n",
              "      <td>0.988952</td>\n",
              "      <td>1.000000</td>\n",
              "      <td>-0.423833</td>\n",
              "      <td>0.100145</td>\n",
              "      <td>-0.105787</td>\n",
              "      <td>-0.291926</td>\n",
              "      <td>0.506284</td>\n",
              "    </tr>\n",
              "    <tr>\n",
              "      <th>hum</th>\n",
              "      <td>-0.702457</td>\n",
              "      <td>-0.473904</td>\n",
              "      <td>-0.423833</td>\n",
              "      <td>1.000000</td>\n",
              "      <td>-0.292217</td>\n",
              "      <td>0.278247</td>\n",
              "      <td>0.314693</td>\n",
              "      <td>-0.629389</td>\n",
              "    </tr>\n",
              "    <tr>\n",
              "      <th>wind_speed</th>\n",
              "      <td>0.166668</td>\n",
              "      <td>0.154928</td>\n",
              "      <td>0.100145</td>\n",
              "      <td>-0.292217</td>\n",
              "      <td>1.000000</td>\n",
              "      <td>0.087796</td>\n",
              "      <td>0.068977</td>\n",
              "      <td>0.167242</td>\n",
              "    </tr>\n",
              "    <tr>\n",
              "      <th>weather_code</th>\n",
              "      <td>-0.191800</td>\n",
              "      <td>-0.102784</td>\n",
              "      <td>-0.105787</td>\n",
              "      <td>0.278247</td>\n",
              "      <td>0.087796</td>\n",
              "      <td>1.000000</td>\n",
              "      <td>0.079075</td>\n",
              "      <td>-0.202370</td>\n",
              "    </tr>\n",
              "    <tr>\n",
              "      <th>season</th>\n",
              "      <td>-0.193019</td>\n",
              "      <td>-0.286623</td>\n",
              "      <td>-0.291926</td>\n",
              "      <td>0.314693</td>\n",
              "      <td>0.068977</td>\n",
              "      <td>0.079075</td>\n",
              "      <td>1.000000</td>\n",
              "      <td>-0.167812</td>\n",
              "    </tr>\n",
              "    <tr>\n",
              "      <th>count_log</th>\n",
              "      <td>0.889169</td>\n",
              "      <td>0.532552</td>\n",
              "      <td>0.506284</td>\n",
              "      <td>-0.629389</td>\n",
              "      <td>0.167242</td>\n",
              "      <td>-0.202370</td>\n",
              "      <td>-0.167812</td>\n",
              "      <td>1.000000</td>\n",
              "    </tr>\n",
              "  </tbody>\n",
              "</table>\n",
              "</div>"
            ],
            "text/plain": [
              "                   cnt        t1        t2  ...  weather_code    season  count_log\n",
              "cnt           1.000000  0.584213  0.547861  ...     -0.191800 -0.193019   0.889169\n",
              "t1            0.584213  1.000000  0.988952  ...     -0.102784 -0.286623   0.532552\n",
              "t2            0.547861  0.988952  1.000000  ...     -0.105787 -0.291926   0.506284\n",
              "hum          -0.702457 -0.473904 -0.423833  ...      0.278247  0.314693  -0.629389\n",
              "wind_speed    0.166668  0.154928  0.100145  ...      0.087796  0.068977   0.167242\n",
              "weather_code -0.191800 -0.102784 -0.105787  ...      1.000000  0.079075  -0.202370\n",
              "season       -0.193019 -0.286623 -0.291926  ...      0.079075  1.000000  -0.167812\n",
              "count_log     0.889169  0.532552  0.506284  ...     -0.202370 -0.167812   1.000000\n",
              "\n",
              "[8 rows x 8 columns]"
            ]
          },
          "metadata": {
            "tags": []
          },
          "execution_count": 18
        }
      ]
    },
    {
      "cell_type": "code",
      "metadata": {
        "id": "hnsQxGeC1uFa",
        "colab_type": "code",
        "outputId": "6dc564d5-128f-4a56-effe-094379065124",
        "colab": {
          "base_uri": "https://localhost:8080/",
          "height": 300
        }
      },
      "source": [
        "london_non_weekend.corr()"
      ],
      "execution_count": 19,
      "outputs": [
        {
          "output_type": "execute_result",
          "data": {
            "text/html": [
              "<div>\n",
              "<style scoped>\n",
              "    .dataframe tbody tr th:only-of-type {\n",
              "        vertical-align: middle;\n",
              "    }\n",
              "\n",
              "    .dataframe tbody tr th {\n",
              "        vertical-align: top;\n",
              "    }\n",
              "\n",
              "    .dataframe thead th {\n",
              "        text-align: right;\n",
              "    }\n",
              "</style>\n",
              "<table border=\"1\" class=\"dataframe\">\n",
              "  <thead>\n",
              "    <tr style=\"text-align: right;\">\n",
              "      <th></th>\n",
              "      <th>cnt</th>\n",
              "      <th>t1</th>\n",
              "      <th>t2</th>\n",
              "      <th>hum</th>\n",
              "      <th>wind_speed</th>\n",
              "      <th>weather_code</th>\n",
              "      <th>season</th>\n",
              "      <th>count_log</th>\n",
              "    </tr>\n",
              "  </thead>\n",
              "  <tbody>\n",
              "    <tr>\n",
              "      <th>cnt</th>\n",
              "      <td>1.000000</td>\n",
              "      <td>0.329470</td>\n",
              "      <td>0.313920</td>\n",
              "      <td>-0.387534</td>\n",
              "      <td>0.102268</td>\n",
              "      <td>-0.144686</td>\n",
              "      <td>-0.092348</td>\n",
              "      <td>0.831028</td>\n",
              "    </tr>\n",
              "    <tr>\n",
              "      <th>t1</th>\n",
              "      <td>0.329470</td>\n",
              "      <td>1.000000</td>\n",
              "      <td>0.988135</td>\n",
              "      <td>-0.437633</td>\n",
              "      <td>0.141725</td>\n",
              "      <td>-0.025797</td>\n",
              "      <td>-0.285551</td>\n",
              "      <td>0.345800</td>\n",
              "    </tr>\n",
              "    <tr>\n",
              "      <th>t2</th>\n",
              "      <td>0.313920</td>\n",
              "      <td>0.988135</td>\n",
              "      <td>1.000000</td>\n",
              "      <td>-0.395372</td>\n",
              "      <td>0.083642</td>\n",
              "      <td>-0.028579</td>\n",
              "      <td>-0.283485</td>\n",
              "      <td>0.330849</td>\n",
              "    </tr>\n",
              "    <tr>\n",
              "      <th>hum</th>\n",
              "      <td>-0.387534</td>\n",
              "      <td>-0.437633</td>\n",
              "      <td>-0.395372</td>\n",
              "      <td>1.000000</td>\n",
              "      <td>-0.286769</td>\n",
              "      <td>0.267764</td>\n",
              "      <td>0.280898</td>\n",
              "      <td>-0.445541</td>\n",
              "    </tr>\n",
              "    <tr>\n",
              "      <th>wind_speed</th>\n",
              "      <td>0.102268</td>\n",
              "      <td>0.141725</td>\n",
              "      <td>0.083642</td>\n",
              "      <td>-0.286769</td>\n",
              "      <td>1.000000</td>\n",
              "      <td>0.110319</td>\n",
              "      <td>-0.014444</td>\n",
              "      <td>0.158431</td>\n",
              "    </tr>\n",
              "    <tr>\n",
              "      <th>weather_code</th>\n",
              "      <td>-0.144686</td>\n",
              "      <td>-0.025797</td>\n",
              "      <td>-0.028579</td>\n",
              "      <td>0.267764</td>\n",
              "      <td>0.110319</td>\n",
              "      <td>1.000000</td>\n",
              "      <td>0.017277</td>\n",
              "      <td>-0.145746</td>\n",
              "    </tr>\n",
              "    <tr>\n",
              "      <th>season</th>\n",
              "      <td>-0.092348</td>\n",
              "      <td>-0.285551</td>\n",
              "      <td>-0.283485</td>\n",
              "      <td>0.280898</td>\n",
              "      <td>-0.014444</td>\n",
              "      <td>0.017277</td>\n",
              "      <td>1.000000</td>\n",
              "      <td>-0.067301</td>\n",
              "    </tr>\n",
              "    <tr>\n",
              "      <th>count_log</th>\n",
              "      <td>0.831028</td>\n",
              "      <td>0.345800</td>\n",
              "      <td>0.330849</td>\n",
              "      <td>-0.445541</td>\n",
              "      <td>0.158431</td>\n",
              "      <td>-0.145746</td>\n",
              "      <td>-0.067301</td>\n",
              "      <td>1.000000</td>\n",
              "    </tr>\n",
              "  </tbody>\n",
              "</table>\n",
              "</div>"
            ],
            "text/plain": [
              "                   cnt        t1        t2  ...  weather_code    season  count_log\n",
              "cnt           1.000000  0.329470  0.313920  ...     -0.144686 -0.092348   0.831028\n",
              "t1            0.329470  1.000000  0.988135  ...     -0.025797 -0.285551   0.345800\n",
              "t2            0.313920  0.988135  1.000000  ...     -0.028579 -0.283485   0.330849\n",
              "hum          -0.387534 -0.437633 -0.395372  ...      0.267764  0.280898  -0.445541\n",
              "wind_speed    0.102268  0.141725  0.083642  ...      0.110319 -0.014444   0.158431\n",
              "weather_code -0.144686 -0.025797 -0.028579  ...      1.000000  0.017277  -0.145746\n",
              "season       -0.092348 -0.285551 -0.283485  ...      0.017277  1.000000  -0.067301\n",
              "count_log     0.831028  0.345800  0.330849  ...     -0.145746 -0.067301   1.000000\n",
              "\n",
              "[8 rows x 8 columns]"
            ]
          },
          "metadata": {
            "tags": []
          },
          "execution_count": 19
        }
      ]
    },
    {
      "cell_type": "code",
      "metadata": {
        "id": "MuJ_sjiFIxkk",
        "colab_type": "code",
        "outputId": "7debd161-13cd-487a-edae-4afc2cb28929",
        "colab": {
          "base_uri": "https://localhost:8080/",
          "height": 445
        }
      },
      "source": [
        "def plot_heatmap_corr(df):\n",
        "    \"\"\"\n",
        "    Plot correlation heatmap from pandas dataframe.\n",
        "    Input:pandas dataframe\n",
        "    \n",
        "    Output: Correlation heatmap\n",
        "    \n",
        "    \"\"\"\n",
        "    assert_is_not_none(df)\n",
        "    assert_is_instance(df, pd.DataFrame)\n",
        "    \n",
        "    f, ax = plt.subplots(figsize=(8, 8))\n",
        "    cmap = sns.diverging_palette(220, 10, as_cmap=True)\n",
        "    sns.heatmap(df.corr(), cmap=cmap, vmax=1.0, vmin=-1.0, center=0,\n",
        "                square=True, linewidths=.5, cbar_kws={\"shrink\": .5})\n",
        "    plt.title('Correlation matrix')\n",
        "    \n",
        "plot_heatmap_corr(london)"
      ],
      "execution_count": 20,
      "outputs": [
        {
          "output_type": "display_data",
          "data": {
            "image/png": "[encoded data removed]",
            "text/plain": [
              "<Figure size 576x576 with 2 Axes>"
            ]
          },
          "metadata": {
            "tags": []
          }
        }
      ]
    },
    {
      "cell_type": "markdown",
      "metadata": {
        "id": "9ryNOsyzI04s",
        "colab_type": "text"
      },
      "source": [
        "## 2.Feature engineering"
      ]
    },
    {
      "cell_type": "code",
      "metadata": {
        "id": "6WqcGbEarNr_",
        "colab_type": "code",
        "colab": {}
      },
      "source": [
        "def add_non_workday(df):\n",
        "    \"\"\"\n",
        "    The function is grouping \"is_holiday\" and \"is_weekend\" columns into a new one \"is_non_workday\"\n",
        "    Input: pandas DataFrame that contains columns 'is_holiday','is_weekend'\n",
        "    \"\"\"\n",
        "    assert_true('is_holiday' in set(df.columns))\n",
        "    assert_true('is_weekend' in set(df.columns))\n",
        "    \n",
        "    df['is_non_workday'] = df['is_holiday'] + df['is_weekend']\n",
        "    df = df.drop(['is_holiday','is_weekend'],axis=1)\n",
        "    \n",
        "    assert_true('is_non_workday' in set(df.columns))\n",
        "    \n",
        "    return df"
      ],
      "execution_count": 0,
      "outputs": []
    },
    {
      "cell_type": "code",
      "metadata": {
        "id": "2KEnuotC2oSm",
        "colab_type": "code",
        "colab": {}
      },
      "source": [
        "def add_month(df):\n",
        "    \"\"\"\n",
        "    The function is extracting the month of a timestamp into a new column.\n",
        "    Input: pandas DataFrame that contains 'timestamp' column\n",
        "    \"\"\"\n",
        "    assert_true('timestamp' in set(df.columns))\n",
        "    \n",
        "    df['month'] = df['timestamp'].dt.month\n",
        "    \n",
        "    assert_true('month' in set(df.columns))\n",
        "    return df"
      ],
      "execution_count": 0,
      "outputs": []
    },
    {
      "cell_type": "code",
      "metadata": {
        "id": "95mSo8t45Etd",
        "colab_type": "code",
        "colab": {}
      },
      "source": [
        "def add_year(df):\n",
        "    \"\"\"\n",
        "    The function is extracting the year of a timestamp into a new column.\n",
        "    Input: pandas DataFrame that contains 'timestamp' column\n",
        "    \"\"\"\n",
        "    assert_true('timestamp' in set(df.columns))\n",
        "    \n",
        "    df['year'] = df['timestamp'].dt.year\n",
        "    \n",
        "    assert_true('year' in set(df.columns))\n",
        "    return df"
      ],
      "execution_count": 0,
      "outputs": []
    },
    {
      "cell_type": "code",
      "metadata": {
        "id": "i6ygBCZGhbTv",
        "colab_type": "code",
        "colab": {}
      },
      "source": [
        "def add_day_of_week(df):\n",
        "    \"\"\"\n",
        "    The function is extracting the day of the week of a timestamp into a new column.\n",
        "    Input: pandas DataFrame that contains 'timestamp' column\n",
        "    \"\"\"\n",
        "    assert_true('timestamp' in set(df.columns))\n",
        "    \n",
        "    df['day']=df['timestamp'].dt.dayofweek\n",
        "    \n",
        "    assert_true('day' in set(df.columns))\n",
        "    return df\n"
      ],
      "execution_count": 0,
      "outputs": []
    },
    {
      "cell_type": "code",
      "metadata": {
        "id": "WBcGcB0ajybe",
        "colab_type": "code",
        "colab": {}
      },
      "source": [
        "def add_hour(df):\n",
        "    \"\"\"\n",
        "    The function is extracting the hour of a timestamp into a new column.\n",
        "    Input: pandas DataFrame that contains 'timestamp' column\n",
        "    \"\"\"\n",
        "    assert_true('timestamp' in set(df.columns))\n",
        "    \n",
        "    df['hour'] = df['timestamp'].dt.hour\n",
        "    \n",
        "    assert_true('hour' in set(df.columns))\n",
        "    return df"
      ],
      "execution_count": 0,
      "outputs": []
    },
    {
      "cell_type": "code",
      "metadata": {
        "id": "_m1p2MaCnhaK",
        "colab_type": "code",
        "colab": {}
      },
      "source": [
        "def add_encode(df, column, max_value):\n",
        "    \"\"\"\n",
        "    The function is encoding time series cyclical features with sin and cos.\n",
        "    Input: \n",
        "    ---------\n",
        "    df - pandas DataFrame\n",
        "    column - column name\n",
        "    max_value - column max value\n",
        "    Output: \n",
        "    -----------\n",
        "    -same dataframe with _sin and _cos columns added\n",
        "    \"\"\"\n",
        "    assert_true(column in set(df.columns))\n",
        "    \n",
        "    df[column + '_sin'] = np.sin(2 * np.pi * df[column] / max_value)\n",
        "    df[column + '_cos'] = np.cos(2 * np.pi * df[column] / max_value)\n",
        "    \n",
        "    assert_true((column + '_sin') in set(df.columns))\n",
        "    assert_true((column + '_cos') in set(df.columns))\n",
        "    return df"
      ],
      "execution_count": 0,
      "outputs": []
    },
    {
      "cell_type": "code",
      "metadata": {
        "id": "IDhUB4mx45TI",
        "colab_type": "code",
        "outputId": "75e98d42-ef7d-40e5-bbac-54c6cdcf631f",
        "colab": {
          "base_uri": "https://localhost:8080/",
          "height": 617
        }
      },
      "source": [
        "london=add_non_workday(london)\n",
        "add_month(london)\n",
        "add_day_of_week(london)\n",
        "add_hour(london)\n",
        "add_year(london)\n",
        "add_encode(london,'hour',23)\n",
        "add_encode(london,'month',12)"
      ],
      "execution_count": 27,
      "outputs": [
        {
          "output_type": "execute_result",
          "data": {
            "text/html": [
              "<div>\n",
              "<style scoped>\n",
              "    .dataframe tbody tr th:only-of-type {\n",
              "        vertical-align: middle;\n",
              "    }\n",
              "\n",
              "    .dataframe tbody tr th {\n",
              "        vertical-align: top;\n",
              "    }\n",
              "\n",
              "    .dataframe thead th {\n",
              "        text-align: right;\n",
              "    }\n",
              "</style>\n",
              "<table border=\"1\" class=\"dataframe\">\n",
              "  <thead>\n",
              "    <tr style=\"text-align: right;\">\n",
              "      <th></th>\n",
              "      <th>timestamp</th>\n",
              "      <th>cnt</th>\n",
              "      <th>t1</th>\n",
              "      <th>t2</th>\n",
              "      <th>hum</th>\n",
              "      <th>wind_speed</th>\n",
              "      <th>weather_code</th>\n",
              "      <th>season</th>\n",
              "      <th>count_log</th>\n",
              "      <th>is_non_workday</th>\n",
              "      <th>month</th>\n",
              "      <th>day</th>\n",
              "      <th>hour</th>\n",
              "      <th>year</th>\n",
              "      <th>hour_sin</th>\n",
              "      <th>hour_cos</th>\n",
              "      <th>month_sin</th>\n",
              "      <th>month_cos</th>\n",
              "    </tr>\n",
              "  </thead>\n",
              "  <tbody>\n",
              "    <tr>\n",
              "      <th>0</th>\n",
              "      <td>2015-01-04 00:00:00</td>\n",
              "      <td>182</td>\n",
              "      <td>3.0</td>\n",
              "      <td>2.0</td>\n",
              "      <td>93.0</td>\n",
              "      <td>6.0</td>\n",
              "      <td>100.0</td>\n",
              "      <td>3.0</td>\n",
              "      <td>5.209486</td>\n",
              "      <td>1.0</td>\n",
              "      <td>1</td>\n",
              "      <td>6</td>\n",
              "      <td>0</td>\n",
              "      <td>2015</td>\n",
              "      <td>0.000000e+00</td>\n",
              "      <td>1.000000</td>\n",
              "      <td>0.5</td>\n",
              "      <td>0.866025</td>\n",
              "    </tr>\n",
              "    <tr>\n",
              "      <th>1</th>\n",
              "      <td>2015-01-04 01:00:00</td>\n",
              "      <td>138</td>\n",
              "      <td>3.0</td>\n",
              "      <td>2.5</td>\n",
              "      <td>93.0</td>\n",
              "      <td>5.0</td>\n",
              "      <td>100.0</td>\n",
              "      <td>3.0</td>\n",
              "      <td>4.934474</td>\n",
              "      <td>1.0</td>\n",
              "      <td>1</td>\n",
              "      <td>6</td>\n",
              "      <td>1</td>\n",
              "      <td>2015</td>\n",
              "      <td>2.697968e-01</td>\n",
              "      <td>0.962917</td>\n",
              "      <td>0.5</td>\n",
              "      <td>0.866025</td>\n",
              "    </tr>\n",
              "    <tr>\n",
              "      <th>2</th>\n",
              "      <td>2015-01-04 02:00:00</td>\n",
              "      <td>134</td>\n",
              "      <td>2.5</td>\n",
              "      <td>2.5</td>\n",
              "      <td>96.5</td>\n",
              "      <td>0.0</td>\n",
              "      <td>100.0</td>\n",
              "      <td>3.0</td>\n",
              "      <td>4.905275</td>\n",
              "      <td>1.0</td>\n",
              "      <td>1</td>\n",
              "      <td>6</td>\n",
              "      <td>2</td>\n",
              "      <td>2015</td>\n",
              "      <td>5.195840e-01</td>\n",
              "      <td>0.854419</td>\n",
              "      <td>0.5</td>\n",
              "      <td>0.866025</td>\n",
              "    </tr>\n",
              "    <tr>\n",
              "      <th>3</th>\n",
              "      <td>2015-01-04 03:00:00</td>\n",
              "      <td>72</td>\n",
              "      <td>2.0</td>\n",
              "      <td>2.0</td>\n",
              "      <td>100.0</td>\n",
              "      <td>0.0</td>\n",
              "      <td>100.0</td>\n",
              "      <td>3.0</td>\n",
              "      <td>4.290459</td>\n",
              "      <td>1.0</td>\n",
              "      <td>1</td>\n",
              "      <td>6</td>\n",
              "      <td>3</td>\n",
              "      <td>2015</td>\n",
              "      <td>7.308360e-01</td>\n",
              "      <td>0.682553</td>\n",
              "      <td>0.5</td>\n",
              "      <td>0.866025</td>\n",
              "    </tr>\n",
              "    <tr>\n",
              "      <th>4</th>\n",
              "      <td>2015-01-04 04:00:00</td>\n",
              "      <td>47</td>\n",
              "      <td>2.0</td>\n",
              "      <td>0.0</td>\n",
              "      <td>93.0</td>\n",
              "      <td>6.5</td>\n",
              "      <td>100.0</td>\n",
              "      <td>3.0</td>\n",
              "      <td>3.871201</td>\n",
              "      <td>1.0</td>\n",
              "      <td>1</td>\n",
              "      <td>6</td>\n",
              "      <td>4</td>\n",
              "      <td>2015</td>\n",
              "      <td>8.878852e-01</td>\n",
              "      <td>0.460065</td>\n",
              "      <td>0.5</td>\n",
              "      <td>0.866025</td>\n",
              "    </tr>\n",
              "    <tr>\n",
              "      <th>...</th>\n",
              "      <td>...</td>\n",
              "      <td>...</td>\n",
              "      <td>...</td>\n",
              "      <td>...</td>\n",
              "      <td>...</td>\n",
              "      <td>...</td>\n",
              "      <td>...</td>\n",
              "      <td>...</td>\n",
              "      <td>...</td>\n",
              "      <td>...</td>\n",
              "      <td>...</td>\n",
              "      <td>...</td>\n",
              "      <td>...</td>\n",
              "      <td>...</td>\n",
              "      <td>...</td>\n",
              "      <td>...</td>\n",
              "      <td>...</td>\n",
              "      <td>...</td>\n",
              "    </tr>\n",
              "    <tr>\n",
              "      <th>17409</th>\n",
              "      <td>2017-01-03 19:00:00</td>\n",
              "      <td>1042</td>\n",
              "      <td>5.0</td>\n",
              "      <td>1.0</td>\n",
              "      <td>81.0</td>\n",
              "      <td>19.0</td>\n",
              "      <td>100.0</td>\n",
              "      <td>3.0</td>\n",
              "      <td>6.949856</td>\n",
              "      <td>0.0</td>\n",
              "      <td>1</td>\n",
              "      <td>1</td>\n",
              "      <td>19</td>\n",
              "      <td>2017</td>\n",
              "      <td>-8.878852e-01</td>\n",
              "      <td>0.460065</td>\n",
              "      <td>0.5</td>\n",
              "      <td>0.866025</td>\n",
              "    </tr>\n",
              "    <tr>\n",
              "      <th>17410</th>\n",
              "      <td>2017-01-03 20:00:00</td>\n",
              "      <td>541</td>\n",
              "      <td>5.0</td>\n",
              "      <td>1.0</td>\n",
              "      <td>81.0</td>\n",
              "      <td>21.0</td>\n",
              "      <td>100.0</td>\n",
              "      <td>3.0</td>\n",
              "      <td>6.295266</td>\n",
              "      <td>0.0</td>\n",
              "      <td>1</td>\n",
              "      <td>1</td>\n",
              "      <td>20</td>\n",
              "      <td>2017</td>\n",
              "      <td>-7.308360e-01</td>\n",
              "      <td>0.682553</td>\n",
              "      <td>0.5</td>\n",
              "      <td>0.866025</td>\n",
              "    </tr>\n",
              "    <tr>\n",
              "      <th>17411</th>\n",
              "      <td>2017-01-03 21:00:00</td>\n",
              "      <td>337</td>\n",
              "      <td>5.5</td>\n",
              "      <td>1.5</td>\n",
              "      <td>78.5</td>\n",
              "      <td>24.0</td>\n",
              "      <td>100.0</td>\n",
              "      <td>3.0</td>\n",
              "      <td>5.823046</td>\n",
              "      <td>0.0</td>\n",
              "      <td>1</td>\n",
              "      <td>1</td>\n",
              "      <td>21</td>\n",
              "      <td>2017</td>\n",
              "      <td>-5.195840e-01</td>\n",
              "      <td>0.854419</td>\n",
              "      <td>0.5</td>\n",
              "      <td>0.866025</td>\n",
              "    </tr>\n",
              "    <tr>\n",
              "      <th>17412</th>\n",
              "      <td>2017-01-03 22:00:00</td>\n",
              "      <td>224</td>\n",
              "      <td>5.5</td>\n",
              "      <td>1.5</td>\n",
              "      <td>76.0</td>\n",
              "      <td>23.0</td>\n",
              "      <td>100.0</td>\n",
              "      <td>3.0</td>\n",
              "      <td>5.416100</td>\n",
              "      <td>0.0</td>\n",
              "      <td>1</td>\n",
              "      <td>1</td>\n",
              "      <td>22</td>\n",
              "      <td>2017</td>\n",
              "      <td>-2.697968e-01</td>\n",
              "      <td>0.962917</td>\n",
              "      <td>0.5</td>\n",
              "      <td>0.866025</td>\n",
              "    </tr>\n",
              "    <tr>\n",
              "      <th>17413</th>\n",
              "      <td>2017-01-03 23:00:00</td>\n",
              "      <td>139</td>\n",
              "      <td>5.0</td>\n",
              "      <td>1.0</td>\n",
              "      <td>76.0</td>\n",
              "      <td>22.0</td>\n",
              "      <td>100.0</td>\n",
              "      <td>3.0</td>\n",
              "      <td>4.941642</td>\n",
              "      <td>0.0</td>\n",
              "      <td>1</td>\n",
              "      <td>1</td>\n",
              "      <td>23</td>\n",
              "      <td>2017</td>\n",
              "      <td>-2.449294e-16</td>\n",
              "      <td>1.000000</td>\n",
              "      <td>0.5</td>\n",
              "      <td>0.866025</td>\n",
              "    </tr>\n",
              "  </tbody>\n",
              "</table>\n",
              "<p>17414 rows × 18 columns</p>\n",
              "</div>"
            ],
            "text/plain": [
              "                timestamp   cnt   t1  ...  hour_cos  month_sin  month_cos\n",
              "0     2015-01-04 00:00:00   182  3.0  ...  1.000000        0.5   0.866025\n",
              "1     2015-01-04 01:00:00   138  3.0  ...  0.962917        0.5   0.866025\n",
              "2     2015-01-04 02:00:00   134  2.5  ...  0.854419        0.5   0.866025\n",
              "3     2015-01-04 03:00:00    72  2.0  ...  0.682553        0.5   0.866025\n",
              "4     2015-01-04 04:00:00    47  2.0  ...  0.460065        0.5   0.866025\n",
              "...                   ...   ...  ...  ...       ...        ...        ...\n",
              "17409 2017-01-03 19:00:00  1042  5.0  ...  0.460065        0.5   0.866025\n",
              "17410 2017-01-03 20:00:00   541  5.0  ...  0.682553        0.5   0.866025\n",
              "17411 2017-01-03 21:00:00   337  5.5  ...  0.854419        0.5   0.866025\n",
              "17412 2017-01-03 22:00:00   224  5.5  ...  0.962917        0.5   0.866025\n",
              "17413 2017-01-03 23:00:00   139  5.0  ...  1.000000        0.5   0.866025\n",
              "\n",
              "[17414 rows x 18 columns]"
            ]
          },
          "metadata": {
            "tags": []
          },
          "execution_count": 27
        }
      ]
    },
    {
      "cell_type": "code",
      "metadata": {
        "id": "9e4vGdYOV39Z",
        "colab_type": "code",
        "outputId": "7c2bba1e-174f-4e42-d665-2db51eacb8af",
        "colab": {
          "base_uri": "https://localhost:8080/",
          "height": 226
        }
      },
      "source": [
        "london[london['count_log']<6].groupby(by='season').count()"
      ],
      "execution_count": 28,
      "outputs": [
        {
          "output_type": "execute_result",
          "data": {
            "text/html": [
              "<div>\n",
              "<style scoped>\n",
              "    .dataframe tbody tr th:only-of-type {\n",
              "        vertical-align: middle;\n",
              "    }\n",
              "\n",
              "    .dataframe tbody tr th {\n",
              "        vertical-align: top;\n",
              "    }\n",
              "\n",
              "    .dataframe thead th {\n",
              "        text-align: right;\n",
              "    }\n",
              "</style>\n",
              "<table border=\"1\" class=\"dataframe\">\n",
              "  <thead>\n",
              "    <tr style=\"text-align: right;\">\n",
              "      <th></th>\n",
              "      <th>timestamp</th>\n",
              "      <th>cnt</th>\n",
              "      <th>t1</th>\n",
              "      <th>t2</th>\n",
              "      <th>hum</th>\n",
              "      <th>wind_speed</th>\n",
              "      <th>weather_code</th>\n",
              "      <th>count_log</th>\n",
              "      <th>is_non_workday</th>\n",
              "      <th>month</th>\n",
              "      <th>day</th>\n",
              "      <th>hour</th>\n",
              "      <th>year</th>\n",
              "      <th>hour_sin</th>\n",
              "      <th>hour_cos</th>\n",
              "      <th>month_sin</th>\n",
              "      <th>month_cos</th>\n",
              "    </tr>\n",
              "    <tr>\n",
              "      <th>season</th>\n",
              "      <th></th>\n",
              "      <th></th>\n",
              "      <th></th>\n",
              "      <th></th>\n",
              "      <th></th>\n",
              "      <th></th>\n",
              "      <th></th>\n",
              "      <th></th>\n",
              "      <th></th>\n",
              "      <th></th>\n",
              "      <th></th>\n",
              "      <th></th>\n",
              "      <th></th>\n",
              "      <th></th>\n",
              "      <th></th>\n",
              "      <th></th>\n",
              "      <th></th>\n",
              "    </tr>\n",
              "  </thead>\n",
              "  <tbody>\n",
              "    <tr>\n",
              "      <th>0.0</th>\n",
              "      <td>1443</td>\n",
              "      <td>1443</td>\n",
              "      <td>1443</td>\n",
              "      <td>1443</td>\n",
              "      <td>1443</td>\n",
              "      <td>1443</td>\n",
              "      <td>1443</td>\n",
              "      <td>1443</td>\n",
              "      <td>1443</td>\n",
              "      <td>1443</td>\n",
              "      <td>1443</td>\n",
              "      <td>1443</td>\n",
              "      <td>1443</td>\n",
              "      <td>1443</td>\n",
              "      <td>1443</td>\n",
              "      <td>1443</td>\n",
              "      <td>1443</td>\n",
              "    </tr>\n",
              "    <tr>\n",
              "      <th>1.0</th>\n",
              "      <td>1146</td>\n",
              "      <td>1146</td>\n",
              "      <td>1146</td>\n",
              "      <td>1146</td>\n",
              "      <td>1146</td>\n",
              "      <td>1146</td>\n",
              "      <td>1146</td>\n",
              "      <td>1146</td>\n",
              "      <td>1146</td>\n",
              "      <td>1146</td>\n",
              "      <td>1146</td>\n",
              "      <td>1146</td>\n",
              "      <td>1146</td>\n",
              "      <td>1146</td>\n",
              "      <td>1146</td>\n",
              "      <td>1146</td>\n",
              "      <td>1146</td>\n",
              "    </tr>\n",
              "    <tr>\n",
              "      <th>2.0</th>\n",
              "      <td>1261</td>\n",
              "      <td>1261</td>\n",
              "      <td>1261</td>\n",
              "      <td>1261</td>\n",
              "      <td>1261</td>\n",
              "      <td>1261</td>\n",
              "      <td>1261</td>\n",
              "      <td>1261</td>\n",
              "      <td>1261</td>\n",
              "      <td>1261</td>\n",
              "      <td>1261</td>\n",
              "      <td>1261</td>\n",
              "      <td>1261</td>\n",
              "      <td>1261</td>\n",
              "      <td>1261</td>\n",
              "      <td>1261</td>\n",
              "      <td>1261</td>\n",
              "    </tr>\n",
              "    <tr>\n",
              "      <th>3.0</th>\n",
              "      <td>1649</td>\n",
              "      <td>1649</td>\n",
              "      <td>1649</td>\n",
              "      <td>1649</td>\n",
              "      <td>1649</td>\n",
              "      <td>1649</td>\n",
              "      <td>1649</td>\n",
              "      <td>1649</td>\n",
              "      <td>1649</td>\n",
              "      <td>1649</td>\n",
              "      <td>1649</td>\n",
              "      <td>1649</td>\n",
              "      <td>1649</td>\n",
              "      <td>1649</td>\n",
              "      <td>1649</td>\n",
              "      <td>1649</td>\n",
              "      <td>1649</td>\n",
              "    </tr>\n",
              "  </tbody>\n",
              "</table>\n",
              "</div>"
            ],
            "text/plain": [
              "        timestamp   cnt    t1    t2  ...  hour_sin  hour_cos  month_sin  month_cos\n",
              "season                               ...                                          \n",
              "0.0          1443  1443  1443  1443  ...      1443      1443       1443       1443\n",
              "1.0          1146  1146  1146  1146  ...      1146      1146       1146       1146\n",
              "2.0          1261  1261  1261  1261  ...      1261      1261       1261       1261\n",
              "3.0          1649  1649  1649  1649  ...      1649      1649       1649       1649\n",
              "\n",
              "[4 rows x 17 columns]"
            ]
          },
          "metadata": {
            "tags": []
          },
          "execution_count": 28
        }
      ]
    },
    {
      "cell_type": "code",
      "metadata": {
        "id": "PUqYl4IrXZgx",
        "colab_type": "code",
        "outputId": "228466de-d362-41ee-c0a7-166f62eba92d",
        "colab": {
          "base_uri": "https://localhost:8080/",
          "height": 320
        }
      },
      "source": [
        "london[london['count_log']<6].groupby(by='day').count()"
      ],
      "execution_count": 29,
      "outputs": [
        {
          "output_type": "execute_result",
          "data": {
            "text/html": [
              "<div>\n",
              "<style scoped>\n",
              "    .dataframe tbody tr th:only-of-type {\n",
              "        vertical-align: middle;\n",
              "    }\n",
              "\n",
              "    .dataframe tbody tr th {\n",
              "        vertical-align: top;\n",
              "    }\n",
              "\n",
              "    .dataframe thead th {\n",
              "        text-align: right;\n",
              "    }\n",
              "</style>\n",
              "<table border=\"1\" class=\"dataframe\">\n",
              "  <thead>\n",
              "    <tr style=\"text-align: right;\">\n",
              "      <th></th>\n",
              "      <th>timestamp</th>\n",
              "      <th>cnt</th>\n",
              "      <th>t1</th>\n",
              "      <th>t2</th>\n",
              "      <th>hum</th>\n",
              "      <th>wind_speed</th>\n",
              "      <th>weather_code</th>\n",
              "      <th>season</th>\n",
              "      <th>count_log</th>\n",
              "      <th>is_non_workday</th>\n",
              "      <th>month</th>\n",
              "      <th>hour</th>\n",
              "      <th>year</th>\n",
              "      <th>hour_sin</th>\n",
              "      <th>hour_cos</th>\n",
              "      <th>month_sin</th>\n",
              "      <th>month_cos</th>\n",
              "    </tr>\n",
              "    <tr>\n",
              "      <th>day</th>\n",
              "      <th></th>\n",
              "      <th></th>\n",
              "      <th></th>\n",
              "      <th></th>\n",
              "      <th></th>\n",
              "      <th></th>\n",
              "      <th></th>\n",
              "      <th></th>\n",
              "      <th></th>\n",
              "      <th></th>\n",
              "      <th></th>\n",
              "      <th></th>\n",
              "      <th></th>\n",
              "      <th></th>\n",
              "      <th></th>\n",
              "      <th></th>\n",
              "      <th></th>\n",
              "    </tr>\n",
              "  </thead>\n",
              "  <tbody>\n",
              "    <tr>\n",
              "      <th>0</th>\n",
              "      <td>800</td>\n",
              "      <td>800</td>\n",
              "      <td>800</td>\n",
              "      <td>800</td>\n",
              "      <td>800</td>\n",
              "      <td>800</td>\n",
              "      <td>800</td>\n",
              "      <td>800</td>\n",
              "      <td>800</td>\n",
              "      <td>800</td>\n",
              "      <td>800</td>\n",
              "      <td>800</td>\n",
              "      <td>800</td>\n",
              "      <td>800</td>\n",
              "      <td>800</td>\n",
              "      <td>800</td>\n",
              "      <td>800</td>\n",
              "    </tr>\n",
              "    <tr>\n",
              "      <th>1</th>\n",
              "      <td>731</td>\n",
              "      <td>731</td>\n",
              "      <td>731</td>\n",
              "      <td>731</td>\n",
              "      <td>731</td>\n",
              "      <td>731</td>\n",
              "      <td>731</td>\n",
              "      <td>731</td>\n",
              "      <td>731</td>\n",
              "      <td>731</td>\n",
              "      <td>731</td>\n",
              "      <td>731</td>\n",
              "      <td>731</td>\n",
              "      <td>731</td>\n",
              "      <td>731</td>\n",
              "      <td>731</td>\n",
              "      <td>731</td>\n",
              "    </tr>\n",
              "    <tr>\n",
              "      <th>2</th>\n",
              "      <td>711</td>\n",
              "      <td>711</td>\n",
              "      <td>711</td>\n",
              "      <td>711</td>\n",
              "      <td>711</td>\n",
              "      <td>711</td>\n",
              "      <td>711</td>\n",
              "      <td>711</td>\n",
              "      <td>711</td>\n",
              "      <td>711</td>\n",
              "      <td>711</td>\n",
              "      <td>711</td>\n",
              "      <td>711</td>\n",
              "      <td>711</td>\n",
              "      <td>711</td>\n",
              "      <td>711</td>\n",
              "      <td>711</td>\n",
              "    </tr>\n",
              "    <tr>\n",
              "      <th>3</th>\n",
              "      <td>715</td>\n",
              "      <td>715</td>\n",
              "      <td>715</td>\n",
              "      <td>715</td>\n",
              "      <td>715</td>\n",
              "      <td>715</td>\n",
              "      <td>715</td>\n",
              "      <td>715</td>\n",
              "      <td>715</td>\n",
              "      <td>715</td>\n",
              "      <td>715</td>\n",
              "      <td>715</td>\n",
              "      <td>715</td>\n",
              "      <td>715</td>\n",
              "      <td>715</td>\n",
              "      <td>715</td>\n",
              "      <td>715</td>\n",
              "    </tr>\n",
              "    <tr>\n",
              "      <th>4</th>\n",
              "      <td>683</td>\n",
              "      <td>683</td>\n",
              "      <td>683</td>\n",
              "      <td>683</td>\n",
              "      <td>683</td>\n",
              "      <td>683</td>\n",
              "      <td>683</td>\n",
              "      <td>683</td>\n",
              "      <td>683</td>\n",
              "      <td>683</td>\n",
              "      <td>683</td>\n",
              "      <td>683</td>\n",
              "      <td>683</td>\n",
              "      <td>683</td>\n",
              "      <td>683</td>\n",
              "      <td>683</td>\n",
              "      <td>683</td>\n",
              "    </tr>\n",
              "    <tr>\n",
              "      <th>5</th>\n",
              "      <td>865</td>\n",
              "      <td>865</td>\n",
              "      <td>865</td>\n",
              "      <td>865</td>\n",
              "      <td>865</td>\n",
              "      <td>865</td>\n",
              "      <td>865</td>\n",
              "      <td>865</td>\n",
              "      <td>865</td>\n",
              "      <td>865</td>\n",
              "      <td>865</td>\n",
              "      <td>865</td>\n",
              "      <td>865</td>\n",
              "      <td>865</td>\n",
              "      <td>865</td>\n",
              "      <td>865</td>\n",
              "      <td>865</td>\n",
              "    </tr>\n",
              "    <tr>\n",
              "      <th>6</th>\n",
              "      <td>994</td>\n",
              "      <td>994</td>\n",
              "      <td>994</td>\n",
              "      <td>994</td>\n",
              "      <td>994</td>\n",
              "      <td>994</td>\n",
              "      <td>994</td>\n",
              "      <td>994</td>\n",
              "      <td>994</td>\n",
              "      <td>994</td>\n",
              "      <td>994</td>\n",
              "      <td>994</td>\n",
              "      <td>994</td>\n",
              "      <td>994</td>\n",
              "      <td>994</td>\n",
              "      <td>994</td>\n",
              "      <td>994</td>\n",
              "    </tr>\n",
              "  </tbody>\n",
              "</table>\n",
              "</div>"
            ],
            "text/plain": [
              "     timestamp  cnt   t1   t2  ...  hour_sin  hour_cos  month_sin  month_cos\n",
              "day                            ...                                          \n",
              "0          800  800  800  800  ...       800       800        800        800\n",
              "1          731  731  731  731  ...       731       731        731        731\n",
              "2          711  711  711  711  ...       711       711        711        711\n",
              "3          715  715  715  715  ...       715       715        715        715\n",
              "4          683  683  683  683  ...       683       683        683        683\n",
              "5          865  865  865  865  ...       865       865        865        865\n",
              "6          994  994  994  994  ...       994       994        994        994\n",
              "\n",
              "[7 rows x 17 columns]"
            ]
          },
          "metadata": {
            "tags": []
          },
          "execution_count": 29
        }
      ]
    },
    {
      "cell_type": "code",
      "metadata": {
        "id": "N-B5qfXVXcAC",
        "colab_type": "code",
        "outputId": "44e70a7c-adb0-4d46-a4ba-ff86fac1e7fa",
        "colab": {
          "base_uri": "https://localhost:8080/",
          "height": 477
        }
      },
      "source": [
        "london[london['count_log']<6].groupby(by='month').count()"
      ],
      "execution_count": 30,
      "outputs": [
        {
          "output_type": "execute_result",
          "data": {
            "text/html": [
              "<div>\n",
              "<style scoped>\n",
              "    .dataframe tbody tr th:only-of-type {\n",
              "        vertical-align: middle;\n",
              "    }\n",
              "\n",
              "    .dataframe tbody tr th {\n",
              "        vertical-align: top;\n",
              "    }\n",
              "\n",
              "    .dataframe thead th {\n",
              "        text-align: right;\n",
              "    }\n",
              "</style>\n",
              "<table border=\"1\" class=\"dataframe\">\n",
              "  <thead>\n",
              "    <tr style=\"text-align: right;\">\n",
              "      <th></th>\n",
              "      <th>timestamp</th>\n",
              "      <th>cnt</th>\n",
              "      <th>t1</th>\n",
              "      <th>t2</th>\n",
              "      <th>hum</th>\n",
              "      <th>wind_speed</th>\n",
              "      <th>weather_code</th>\n",
              "      <th>season</th>\n",
              "      <th>count_log</th>\n",
              "      <th>is_non_workday</th>\n",
              "      <th>day</th>\n",
              "      <th>hour</th>\n",
              "      <th>year</th>\n",
              "      <th>hour_sin</th>\n",
              "      <th>hour_cos</th>\n",
              "      <th>month_sin</th>\n",
              "      <th>month_cos</th>\n",
              "    </tr>\n",
              "    <tr>\n",
              "      <th>month</th>\n",
              "      <th></th>\n",
              "      <th></th>\n",
              "      <th></th>\n",
              "      <th></th>\n",
              "      <th></th>\n",
              "      <th></th>\n",
              "      <th></th>\n",
              "      <th></th>\n",
              "      <th></th>\n",
              "      <th></th>\n",
              "      <th></th>\n",
              "      <th></th>\n",
              "      <th></th>\n",
              "      <th></th>\n",
              "      <th></th>\n",
              "      <th></th>\n",
              "      <th></th>\n",
              "    </tr>\n",
              "  </thead>\n",
              "  <tbody>\n",
              "    <tr>\n",
              "      <th>1</th>\n",
              "      <td>602</td>\n",
              "      <td>602</td>\n",
              "      <td>602</td>\n",
              "      <td>602</td>\n",
              "      <td>602</td>\n",
              "      <td>602</td>\n",
              "      <td>602</td>\n",
              "      <td>602</td>\n",
              "      <td>602</td>\n",
              "      <td>602</td>\n",
              "      <td>602</td>\n",
              "      <td>602</td>\n",
              "      <td>602</td>\n",
              "      <td>602</td>\n",
              "      <td>602</td>\n",
              "      <td>602</td>\n",
              "      <td>602</td>\n",
              "    </tr>\n",
              "    <tr>\n",
              "      <th>2</th>\n",
              "      <td>513</td>\n",
              "      <td>513</td>\n",
              "      <td>513</td>\n",
              "      <td>513</td>\n",
              "      <td>513</td>\n",
              "      <td>513</td>\n",
              "      <td>513</td>\n",
              "      <td>513</td>\n",
              "      <td>513</td>\n",
              "      <td>513</td>\n",
              "      <td>513</td>\n",
              "      <td>513</td>\n",
              "      <td>513</td>\n",
              "      <td>513</td>\n",
              "      <td>513</td>\n",
              "      <td>513</td>\n",
              "      <td>513</td>\n",
              "    </tr>\n",
              "    <tr>\n",
              "      <th>3</th>\n",
              "      <td>525</td>\n",
              "      <td>525</td>\n",
              "      <td>525</td>\n",
              "      <td>525</td>\n",
              "      <td>525</td>\n",
              "      <td>525</td>\n",
              "      <td>525</td>\n",
              "      <td>525</td>\n",
              "      <td>525</td>\n",
              "      <td>525</td>\n",
              "      <td>525</td>\n",
              "      <td>525</td>\n",
              "      <td>525</td>\n",
              "      <td>525</td>\n",
              "      <td>525</td>\n",
              "      <td>525</td>\n",
              "      <td>525</td>\n",
              "    </tr>\n",
              "    <tr>\n",
              "      <th>4</th>\n",
              "      <td>477</td>\n",
              "      <td>477</td>\n",
              "      <td>477</td>\n",
              "      <td>477</td>\n",
              "      <td>477</td>\n",
              "      <td>477</td>\n",
              "      <td>477</td>\n",
              "      <td>477</td>\n",
              "      <td>477</td>\n",
              "      <td>477</td>\n",
              "      <td>477</td>\n",
              "      <td>477</td>\n",
              "      <td>477</td>\n",
              "      <td>477</td>\n",
              "      <td>477</td>\n",
              "      <td>477</td>\n",
              "      <td>477</td>\n",
              "    </tr>\n",
              "    <tr>\n",
              "      <th>5</th>\n",
              "      <td>441</td>\n",
              "      <td>441</td>\n",
              "      <td>441</td>\n",
              "      <td>441</td>\n",
              "      <td>441</td>\n",
              "      <td>441</td>\n",
              "      <td>441</td>\n",
              "      <td>441</td>\n",
              "      <td>441</td>\n",
              "      <td>441</td>\n",
              "      <td>441</td>\n",
              "      <td>441</td>\n",
              "      <td>441</td>\n",
              "      <td>441</td>\n",
              "      <td>441</td>\n",
              "      <td>441</td>\n",
              "      <td>441</td>\n",
              "    </tr>\n",
              "    <tr>\n",
              "      <th>6</th>\n",
              "      <td>370</td>\n",
              "      <td>370</td>\n",
              "      <td>370</td>\n",
              "      <td>370</td>\n",
              "      <td>370</td>\n",
              "      <td>370</td>\n",
              "      <td>370</td>\n",
              "      <td>370</td>\n",
              "      <td>370</td>\n",
              "      <td>370</td>\n",
              "      <td>370</td>\n",
              "      <td>370</td>\n",
              "      <td>370</td>\n",
              "      <td>370</td>\n",
              "      <td>370</td>\n",
              "      <td>370</td>\n",
              "      <td>370</td>\n",
              "    </tr>\n",
              "    <tr>\n",
              "      <th>7</th>\n",
              "      <td>376</td>\n",
              "      <td>376</td>\n",
              "      <td>376</td>\n",
              "      <td>376</td>\n",
              "      <td>376</td>\n",
              "      <td>376</td>\n",
              "      <td>376</td>\n",
              "      <td>376</td>\n",
              "      <td>376</td>\n",
              "      <td>376</td>\n",
              "      <td>376</td>\n",
              "      <td>376</td>\n",
              "      <td>376</td>\n",
              "      <td>376</td>\n",
              "      <td>376</td>\n",
              "      <td>376</td>\n",
              "      <td>376</td>\n",
              "    </tr>\n",
              "    <tr>\n",
              "      <th>8</th>\n",
              "      <td>400</td>\n",
              "      <td>400</td>\n",
              "      <td>400</td>\n",
              "      <td>400</td>\n",
              "      <td>400</td>\n",
              "      <td>400</td>\n",
              "      <td>400</td>\n",
              "      <td>400</td>\n",
              "      <td>400</td>\n",
              "      <td>400</td>\n",
              "      <td>400</td>\n",
              "      <td>400</td>\n",
              "      <td>400</td>\n",
              "      <td>400</td>\n",
              "      <td>400</td>\n",
              "      <td>400</td>\n",
              "      <td>400</td>\n",
              "    </tr>\n",
              "    <tr>\n",
              "      <th>9</th>\n",
              "      <td>372</td>\n",
              "      <td>372</td>\n",
              "      <td>372</td>\n",
              "      <td>372</td>\n",
              "      <td>372</td>\n",
              "      <td>372</td>\n",
              "      <td>372</td>\n",
              "      <td>372</td>\n",
              "      <td>372</td>\n",
              "      <td>372</td>\n",
              "      <td>372</td>\n",
              "      <td>372</td>\n",
              "      <td>372</td>\n",
              "      <td>372</td>\n",
              "      <td>372</td>\n",
              "      <td>372</td>\n",
              "      <td>372</td>\n",
              "    </tr>\n",
              "    <tr>\n",
              "      <th>10</th>\n",
              "      <td>412</td>\n",
              "      <td>412</td>\n",
              "      <td>412</td>\n",
              "      <td>412</td>\n",
              "      <td>412</td>\n",
              "      <td>412</td>\n",
              "      <td>412</td>\n",
              "      <td>412</td>\n",
              "      <td>412</td>\n",
              "      <td>412</td>\n",
              "      <td>412</td>\n",
              "      <td>412</td>\n",
              "      <td>412</td>\n",
              "      <td>412</td>\n",
              "      <td>412</td>\n",
              "      <td>412</td>\n",
              "      <td>412</td>\n",
              "    </tr>\n",
              "    <tr>\n",
              "      <th>11</th>\n",
              "      <td>477</td>\n",
              "      <td>477</td>\n",
              "      <td>477</td>\n",
              "      <td>477</td>\n",
              "      <td>477</td>\n",
              "      <td>477</td>\n",
              "      <td>477</td>\n",
              "      <td>477</td>\n",
              "      <td>477</td>\n",
              "      <td>477</td>\n",
              "      <td>477</td>\n",
              "      <td>477</td>\n",
              "      <td>477</td>\n",
              "      <td>477</td>\n",
              "      <td>477</td>\n",
              "      <td>477</td>\n",
              "      <td>477</td>\n",
              "    </tr>\n",
              "    <tr>\n",
              "      <th>12</th>\n",
              "      <td>534</td>\n",
              "      <td>534</td>\n",
              "      <td>534</td>\n",
              "      <td>534</td>\n",
              "      <td>534</td>\n",
              "      <td>534</td>\n",
              "      <td>534</td>\n",
              "      <td>534</td>\n",
              "      <td>534</td>\n",
              "      <td>534</td>\n",
              "      <td>534</td>\n",
              "      <td>534</td>\n",
              "      <td>534</td>\n",
              "      <td>534</td>\n",
              "      <td>534</td>\n",
              "      <td>534</td>\n",
              "      <td>534</td>\n",
              "    </tr>\n",
              "  </tbody>\n",
              "</table>\n",
              "</div>"
            ],
            "text/plain": [
              "       timestamp  cnt   t1   t2  ...  hour_sin  hour_cos  month_sin  month_cos\n",
              "month                            ...                                          \n",
              "1            602  602  602  602  ...       602       602        602        602\n",
              "2            513  513  513  513  ...       513       513        513        513\n",
              "3            525  525  525  525  ...       525       525        525        525\n",
              "4            477  477  477  477  ...       477       477        477        477\n",
              "5            441  441  441  441  ...       441       441        441        441\n",
              "6            370  370  370  370  ...       370       370        370        370\n",
              "7            376  376  376  376  ...       376       376        376        376\n",
              "8            400  400  400  400  ...       400       400        400        400\n",
              "9            372  372  372  372  ...       372       372        372        372\n",
              "10           412  412  412  412  ...       412       412        412        412\n",
              "11           477  477  477  477  ...       477       477        477        477\n",
              "12           534  534  534  534  ...       534       534        534        534\n",
              "\n",
              "[12 rows x 17 columns]"
            ]
          },
          "metadata": {
            "tags": []
          },
          "execution_count": 30
        }
      ]
    },
    {
      "cell_type": "code",
      "metadata": {
        "id": "1oq1dQRfXiWq",
        "colab_type": "code",
        "outputId": "757a2c02-0738-4aed-c786-bee0ba8420ee",
        "colab": {
          "base_uri": "https://localhost:8080/",
          "height": 854
        }
      },
      "source": [
        "london[london['count_log']<6].groupby(by='hour').count()"
      ],
      "execution_count": 31,
      "outputs": [
        {
          "output_type": "execute_result",
          "data": {
            "text/html": [
              "<div>\n",
              "<style scoped>\n",
              "    .dataframe tbody tr th:only-of-type {\n",
              "        vertical-align: middle;\n",
              "    }\n",
              "\n",
              "    .dataframe tbody tr th {\n",
              "        vertical-align: top;\n",
              "    }\n",
              "\n",
              "    .dataframe thead th {\n",
              "        text-align: right;\n",
              "    }\n",
              "</style>\n",
              "<table border=\"1\" class=\"dataframe\">\n",
              "  <thead>\n",
              "    <tr style=\"text-align: right;\">\n",
              "      <th></th>\n",
              "      <th>timestamp</th>\n",
              "      <th>cnt</th>\n",
              "      <th>t1</th>\n",
              "      <th>t2</th>\n",
              "      <th>hum</th>\n",
              "      <th>wind_speed</th>\n",
              "      <th>weather_code</th>\n",
              "      <th>season</th>\n",
              "      <th>count_log</th>\n",
              "      <th>is_non_workday</th>\n",
              "      <th>month</th>\n",
              "      <th>day</th>\n",
              "      <th>year</th>\n",
              "      <th>hour_sin</th>\n",
              "      <th>hour_cos</th>\n",
              "      <th>month_sin</th>\n",
              "      <th>month_cos</th>\n",
              "    </tr>\n",
              "    <tr>\n",
              "      <th>hour</th>\n",
              "      <th></th>\n",
              "      <th></th>\n",
              "      <th></th>\n",
              "      <th></th>\n",
              "      <th></th>\n",
              "      <th></th>\n",
              "      <th></th>\n",
              "      <th></th>\n",
              "      <th></th>\n",
              "      <th></th>\n",
              "      <th></th>\n",
              "      <th></th>\n",
              "      <th></th>\n",
              "      <th></th>\n",
              "      <th></th>\n",
              "      <th></th>\n",
              "      <th></th>\n",
              "    </tr>\n",
              "  </thead>\n",
              "  <tbody>\n",
              "    <tr>\n",
              "      <th>0</th>\n",
              "      <td>585</td>\n",
              "      <td>585</td>\n",
              "      <td>585</td>\n",
              "      <td>585</td>\n",
              "      <td>585</td>\n",
              "      <td>585</td>\n",
              "      <td>585</td>\n",
              "      <td>585</td>\n",
              "      <td>585</td>\n",
              "      <td>585</td>\n",
              "      <td>585</td>\n",
              "      <td>585</td>\n",
              "      <td>585</td>\n",
              "      <td>585</td>\n",
              "      <td>585</td>\n",
              "      <td>585</td>\n",
              "      <td>585</td>\n",
              "    </tr>\n",
              "    <tr>\n",
              "      <th>1</th>\n",
              "      <td>632</td>\n",
              "      <td>632</td>\n",
              "      <td>632</td>\n",
              "      <td>632</td>\n",
              "      <td>632</td>\n",
              "      <td>632</td>\n",
              "      <td>632</td>\n",
              "      <td>632</td>\n",
              "      <td>632</td>\n",
              "      <td>632</td>\n",
              "      <td>632</td>\n",
              "      <td>632</td>\n",
              "      <td>632</td>\n",
              "      <td>632</td>\n",
              "      <td>632</td>\n",
              "      <td>632</td>\n",
              "      <td>632</td>\n",
              "    </tr>\n",
              "    <tr>\n",
              "      <th>2</th>\n",
              "      <td>696</td>\n",
              "      <td>696</td>\n",
              "      <td>696</td>\n",
              "      <td>696</td>\n",
              "      <td>696</td>\n",
              "      <td>696</td>\n",
              "      <td>696</td>\n",
              "      <td>696</td>\n",
              "      <td>696</td>\n",
              "      <td>696</td>\n",
              "      <td>696</td>\n",
              "      <td>696</td>\n",
              "      <td>696</td>\n",
              "      <td>696</td>\n",
              "      <td>696</td>\n",
              "      <td>696</td>\n",
              "      <td>696</td>\n",
              "    </tr>\n",
              "    <tr>\n",
              "      <th>3</th>\n",
              "      <td>720</td>\n",
              "      <td>720</td>\n",
              "      <td>720</td>\n",
              "      <td>720</td>\n",
              "      <td>720</td>\n",
              "      <td>720</td>\n",
              "      <td>720</td>\n",
              "      <td>720</td>\n",
              "      <td>720</td>\n",
              "      <td>720</td>\n",
              "      <td>720</td>\n",
              "      <td>720</td>\n",
              "      <td>720</td>\n",
              "      <td>720</td>\n",
              "      <td>720</td>\n",
              "      <td>720</td>\n",
              "      <td>720</td>\n",
              "    </tr>\n",
              "    <tr>\n",
              "      <th>4</th>\n",
              "      <td>721</td>\n",
              "      <td>721</td>\n",
              "      <td>721</td>\n",
              "      <td>721</td>\n",
              "      <td>721</td>\n",
              "      <td>721</td>\n",
              "      <td>721</td>\n",
              "      <td>721</td>\n",
              "      <td>721</td>\n",
              "      <td>721</td>\n",
              "      <td>721</td>\n",
              "      <td>721</td>\n",
              "      <td>721</td>\n",
              "      <td>721</td>\n",
              "      <td>721</td>\n",
              "      <td>721</td>\n",
              "      <td>721</td>\n",
              "    </tr>\n",
              "    <tr>\n",
              "      <th>5</th>\n",
              "      <td>721</td>\n",
              "      <td>721</td>\n",
              "      <td>721</td>\n",
              "      <td>721</td>\n",
              "      <td>721</td>\n",
              "      <td>721</td>\n",
              "      <td>721</td>\n",
              "      <td>721</td>\n",
              "      <td>721</td>\n",
              "      <td>721</td>\n",
              "      <td>721</td>\n",
              "      <td>721</td>\n",
              "      <td>721</td>\n",
              "      <td>721</td>\n",
              "      <td>721</td>\n",
              "      <td>721</td>\n",
              "      <td>721</td>\n",
              "    </tr>\n",
              "    <tr>\n",
              "      <th>6</th>\n",
              "      <td>253</td>\n",
              "      <td>253</td>\n",
              "      <td>253</td>\n",
              "      <td>253</td>\n",
              "      <td>253</td>\n",
              "      <td>253</td>\n",
              "      <td>253</td>\n",
              "      <td>253</td>\n",
              "      <td>253</td>\n",
              "      <td>253</td>\n",
              "      <td>253</td>\n",
              "      <td>253</td>\n",
              "      <td>253</td>\n",
              "      <td>253</td>\n",
              "      <td>253</td>\n",
              "      <td>253</td>\n",
              "      <td>253</td>\n",
              "    </tr>\n",
              "    <tr>\n",
              "      <th>7</th>\n",
              "      <td>228</td>\n",
              "      <td>228</td>\n",
              "      <td>228</td>\n",
              "      <td>228</td>\n",
              "      <td>228</td>\n",
              "      <td>228</td>\n",
              "      <td>228</td>\n",
              "      <td>228</td>\n",
              "      <td>228</td>\n",
              "      <td>228</td>\n",
              "      <td>228</td>\n",
              "      <td>228</td>\n",
              "      <td>228</td>\n",
              "      <td>228</td>\n",
              "      <td>228</td>\n",
              "      <td>228</td>\n",
              "      <td>228</td>\n",
              "    </tr>\n",
              "    <tr>\n",
              "      <th>8</th>\n",
              "      <td>106</td>\n",
              "      <td>106</td>\n",
              "      <td>106</td>\n",
              "      <td>106</td>\n",
              "      <td>106</td>\n",
              "      <td>106</td>\n",
              "      <td>106</td>\n",
              "      <td>106</td>\n",
              "      <td>106</td>\n",
              "      <td>106</td>\n",
              "      <td>106</td>\n",
              "      <td>106</td>\n",
              "      <td>106</td>\n",
              "      <td>106</td>\n",
              "      <td>106</td>\n",
              "      <td>106</td>\n",
              "      <td>106</td>\n",
              "    </tr>\n",
              "    <tr>\n",
              "      <th>9</th>\n",
              "      <td>20</td>\n",
              "      <td>20</td>\n",
              "      <td>20</td>\n",
              "      <td>20</td>\n",
              "      <td>20</td>\n",
              "      <td>20</td>\n",
              "      <td>20</td>\n",
              "      <td>20</td>\n",
              "      <td>20</td>\n",
              "      <td>20</td>\n",
              "      <td>20</td>\n",
              "      <td>20</td>\n",
              "      <td>20</td>\n",
              "      <td>20</td>\n",
              "      <td>20</td>\n",
              "      <td>20</td>\n",
              "      <td>20</td>\n",
              "    </tr>\n",
              "    <tr>\n",
              "      <th>10</th>\n",
              "      <td>14</td>\n",
              "      <td>14</td>\n",
              "      <td>14</td>\n",
              "      <td>14</td>\n",
              "      <td>14</td>\n",
              "      <td>14</td>\n",
              "      <td>14</td>\n",
              "      <td>14</td>\n",
              "      <td>14</td>\n",
              "      <td>14</td>\n",
              "      <td>14</td>\n",
              "      <td>14</td>\n",
              "      <td>14</td>\n",
              "      <td>14</td>\n",
              "      <td>14</td>\n",
              "      <td>14</td>\n",
              "      <td>14</td>\n",
              "    </tr>\n",
              "    <tr>\n",
              "      <th>11</th>\n",
              "      <td>23</td>\n",
              "      <td>23</td>\n",
              "      <td>23</td>\n",
              "      <td>23</td>\n",
              "      <td>23</td>\n",
              "      <td>23</td>\n",
              "      <td>23</td>\n",
              "      <td>23</td>\n",
              "      <td>23</td>\n",
              "      <td>23</td>\n",
              "      <td>23</td>\n",
              "      <td>23</td>\n",
              "      <td>23</td>\n",
              "      <td>23</td>\n",
              "      <td>23</td>\n",
              "      <td>23</td>\n",
              "      <td>23</td>\n",
              "    </tr>\n",
              "    <tr>\n",
              "      <th>12</th>\n",
              "      <td>14</td>\n",
              "      <td>14</td>\n",
              "      <td>14</td>\n",
              "      <td>14</td>\n",
              "      <td>14</td>\n",
              "      <td>14</td>\n",
              "      <td>14</td>\n",
              "      <td>14</td>\n",
              "      <td>14</td>\n",
              "      <td>14</td>\n",
              "      <td>14</td>\n",
              "      <td>14</td>\n",
              "      <td>14</td>\n",
              "      <td>14</td>\n",
              "      <td>14</td>\n",
              "      <td>14</td>\n",
              "      <td>14</td>\n",
              "    </tr>\n",
              "    <tr>\n",
              "      <th>13</th>\n",
              "      <td>13</td>\n",
              "      <td>13</td>\n",
              "      <td>13</td>\n",
              "      <td>13</td>\n",
              "      <td>13</td>\n",
              "      <td>13</td>\n",
              "      <td>13</td>\n",
              "      <td>13</td>\n",
              "      <td>13</td>\n",
              "      <td>13</td>\n",
              "      <td>13</td>\n",
              "      <td>13</td>\n",
              "      <td>13</td>\n",
              "      <td>13</td>\n",
              "      <td>13</td>\n",
              "      <td>13</td>\n",
              "      <td>13</td>\n",
              "    </tr>\n",
              "    <tr>\n",
              "      <th>14</th>\n",
              "      <td>13</td>\n",
              "      <td>13</td>\n",
              "      <td>13</td>\n",
              "      <td>13</td>\n",
              "      <td>13</td>\n",
              "      <td>13</td>\n",
              "      <td>13</td>\n",
              "      <td>13</td>\n",
              "      <td>13</td>\n",
              "      <td>13</td>\n",
              "      <td>13</td>\n",
              "      <td>13</td>\n",
              "      <td>13</td>\n",
              "      <td>13</td>\n",
              "      <td>13</td>\n",
              "      <td>13</td>\n",
              "      <td>13</td>\n",
              "    </tr>\n",
              "    <tr>\n",
              "      <th>15</th>\n",
              "      <td>13</td>\n",
              "      <td>13</td>\n",
              "      <td>13</td>\n",
              "      <td>13</td>\n",
              "      <td>13</td>\n",
              "      <td>13</td>\n",
              "      <td>13</td>\n",
              "      <td>13</td>\n",
              "      <td>13</td>\n",
              "      <td>13</td>\n",
              "      <td>13</td>\n",
              "      <td>13</td>\n",
              "      <td>13</td>\n",
              "      <td>13</td>\n",
              "      <td>13</td>\n",
              "      <td>13</td>\n",
              "      <td>13</td>\n",
              "    </tr>\n",
              "    <tr>\n",
              "      <th>16</th>\n",
              "      <td>6</td>\n",
              "      <td>6</td>\n",
              "      <td>6</td>\n",
              "      <td>6</td>\n",
              "      <td>6</td>\n",
              "      <td>6</td>\n",
              "      <td>6</td>\n",
              "      <td>6</td>\n",
              "      <td>6</td>\n",
              "      <td>6</td>\n",
              "      <td>6</td>\n",
              "      <td>6</td>\n",
              "      <td>6</td>\n",
              "      <td>6</td>\n",
              "      <td>6</td>\n",
              "      <td>6</td>\n",
              "      <td>6</td>\n",
              "    </tr>\n",
              "    <tr>\n",
              "      <th>17</th>\n",
              "      <td>7</td>\n",
              "      <td>7</td>\n",
              "      <td>7</td>\n",
              "      <td>7</td>\n",
              "      <td>7</td>\n",
              "      <td>7</td>\n",
              "      <td>7</td>\n",
              "      <td>7</td>\n",
              "      <td>7</td>\n",
              "      <td>7</td>\n",
              "      <td>7</td>\n",
              "      <td>7</td>\n",
              "      <td>7</td>\n",
              "      <td>7</td>\n",
              "      <td>7</td>\n",
              "      <td>7</td>\n",
              "      <td>7</td>\n",
              "    </tr>\n",
              "    <tr>\n",
              "      <th>18</th>\n",
              "      <td>9</td>\n",
              "      <td>9</td>\n",
              "      <td>9</td>\n",
              "      <td>9</td>\n",
              "      <td>9</td>\n",
              "      <td>9</td>\n",
              "      <td>9</td>\n",
              "      <td>9</td>\n",
              "      <td>9</td>\n",
              "      <td>9</td>\n",
              "      <td>9</td>\n",
              "      <td>9</td>\n",
              "      <td>9</td>\n",
              "      <td>9</td>\n",
              "      <td>9</td>\n",
              "      <td>9</td>\n",
              "      <td>9</td>\n",
              "    </tr>\n",
              "    <tr>\n",
              "      <th>19</th>\n",
              "      <td>18</td>\n",
              "      <td>18</td>\n",
              "      <td>18</td>\n",
              "      <td>18</td>\n",
              "      <td>18</td>\n",
              "      <td>18</td>\n",
              "      <td>18</td>\n",
              "      <td>18</td>\n",
              "      <td>18</td>\n",
              "      <td>18</td>\n",
              "      <td>18</td>\n",
              "      <td>18</td>\n",
              "      <td>18</td>\n",
              "      <td>18</td>\n",
              "      <td>18</td>\n",
              "      <td>18</td>\n",
              "      <td>18</td>\n",
              "    </tr>\n",
              "    <tr>\n",
              "      <th>20</th>\n",
              "      <td>48</td>\n",
              "      <td>48</td>\n",
              "      <td>48</td>\n",
              "      <td>48</td>\n",
              "      <td>48</td>\n",
              "      <td>48</td>\n",
              "      <td>48</td>\n",
              "      <td>48</td>\n",
              "      <td>48</td>\n",
              "      <td>48</td>\n",
              "      <td>48</td>\n",
              "      <td>48</td>\n",
              "      <td>48</td>\n",
              "      <td>48</td>\n",
              "      <td>48</td>\n",
              "      <td>48</td>\n",
              "      <td>48</td>\n",
              "    </tr>\n",
              "    <tr>\n",
              "      <th>21</th>\n",
              "      <td>100</td>\n",
              "      <td>100</td>\n",
              "      <td>100</td>\n",
              "      <td>100</td>\n",
              "      <td>100</td>\n",
              "      <td>100</td>\n",
              "      <td>100</td>\n",
              "      <td>100</td>\n",
              "      <td>100</td>\n",
              "      <td>100</td>\n",
              "      <td>100</td>\n",
              "      <td>100</td>\n",
              "      <td>100</td>\n",
              "      <td>100</td>\n",
              "      <td>100</td>\n",
              "      <td>100</td>\n",
              "      <td>100</td>\n",
              "    </tr>\n",
              "    <tr>\n",
              "      <th>22</th>\n",
              "      <td>174</td>\n",
              "      <td>174</td>\n",
              "      <td>174</td>\n",
              "      <td>174</td>\n",
              "      <td>174</td>\n",
              "      <td>174</td>\n",
              "      <td>174</td>\n",
              "      <td>174</td>\n",
              "      <td>174</td>\n",
              "      <td>174</td>\n",
              "      <td>174</td>\n",
              "      <td>174</td>\n",
              "      <td>174</td>\n",
              "      <td>174</td>\n",
              "      <td>174</td>\n",
              "      <td>174</td>\n",
              "      <td>174</td>\n",
              "    </tr>\n",
              "    <tr>\n",
              "      <th>23</th>\n",
              "      <td>365</td>\n",
              "      <td>365</td>\n",
              "      <td>365</td>\n",
              "      <td>365</td>\n",
              "      <td>365</td>\n",
              "      <td>365</td>\n",
              "      <td>365</td>\n",
              "      <td>365</td>\n",
              "      <td>365</td>\n",
              "      <td>365</td>\n",
              "      <td>365</td>\n",
              "      <td>365</td>\n",
              "      <td>365</td>\n",
              "      <td>365</td>\n",
              "      <td>365</td>\n",
              "      <td>365</td>\n",
              "      <td>365</td>\n",
              "    </tr>\n",
              "  </tbody>\n",
              "</table>\n",
              "</div>"
            ],
            "text/plain": [
              "      timestamp  cnt   t1   t2  ...  hour_sin  hour_cos  month_sin  month_cos\n",
              "hour                            ...                                          \n",
              "0           585  585  585  585  ...       585       585        585        585\n",
              "1           632  632  632  632  ...       632       632        632        632\n",
              "2           696  696  696  696  ...       696       696        696        696\n",
              "3           720  720  720  720  ...       720       720        720        720\n",
              "4           721  721  721  721  ...       721       721        721        721\n",
              "5           721  721  721  721  ...       721       721        721        721\n",
              "6           253  253  253  253  ...       253       253        253        253\n",
              "7           228  228  228  228  ...       228       228        228        228\n",
              "8           106  106  106  106  ...       106       106        106        106\n",
              "9            20   20   20   20  ...        20        20         20         20\n",
              "10           14   14   14   14  ...        14        14         14         14\n",
              "11           23   23   23   23  ...        23        23         23         23\n",
              "12           14   14   14   14  ...        14        14         14         14\n",
              "13           13   13   13   13  ...        13        13         13         13\n",
              "14           13   13   13   13  ...        13        13         13         13\n",
              "15           13   13   13   13  ...        13        13         13         13\n",
              "16            6    6    6    6  ...         6         6          6          6\n",
              "17            7    7    7    7  ...         7         7          7          7\n",
              "18            9    9    9    9  ...         9         9          9          9\n",
              "19           18   18   18   18  ...        18        18         18         18\n",
              "20           48   48   48   48  ...        48        48         48         48\n",
              "21          100  100  100  100  ...       100       100        100        100\n",
              "22          174  174  174  174  ...       174       174        174        174\n",
              "23          365  365  365  365  ...       365       365        365        365\n",
              "\n",
              "[24 rows x 17 columns]"
            ]
          },
          "metadata": {
            "tags": []
          },
          "execution_count": 31
        }
      ]
    },
    {
      "cell_type": "code",
      "metadata": {
        "id": "myrmKU3qX3SK",
        "colab_type": "code",
        "outputId": "32d96ac0-e34e-457f-c75f-00d9f4d0aa85",
        "colab": {
          "base_uri": "https://localhost:8080/",
          "height": 163
        }
      },
      "source": [
        "london[london['count_log']<6].groupby(by='is_non_workday').count()"
      ],
      "execution_count": 32,
      "outputs": [
        {
          "output_type": "execute_result",
          "data": {
            "text/html": [
              "<div>\n",
              "<style scoped>\n",
              "    .dataframe tbody tr th:only-of-type {\n",
              "        vertical-align: middle;\n",
              "    }\n",
              "\n",
              "    .dataframe tbody tr th {\n",
              "        vertical-align: top;\n",
              "    }\n",
              "\n",
              "    .dataframe thead th {\n",
              "        text-align: right;\n",
              "    }\n",
              "</style>\n",
              "<table border=\"1\" class=\"dataframe\">\n",
              "  <thead>\n",
              "    <tr style=\"text-align: right;\">\n",
              "      <th></th>\n",
              "      <th>timestamp</th>\n",
              "      <th>cnt</th>\n",
              "      <th>t1</th>\n",
              "      <th>t2</th>\n",
              "      <th>hum</th>\n",
              "      <th>wind_speed</th>\n",
              "      <th>weather_code</th>\n",
              "      <th>season</th>\n",
              "      <th>count_log</th>\n",
              "      <th>month</th>\n",
              "      <th>day</th>\n",
              "      <th>hour</th>\n",
              "      <th>year</th>\n",
              "      <th>hour_sin</th>\n",
              "      <th>hour_cos</th>\n",
              "      <th>month_sin</th>\n",
              "      <th>month_cos</th>\n",
              "    </tr>\n",
              "    <tr>\n",
              "      <th>is_non_workday</th>\n",
              "      <th></th>\n",
              "      <th></th>\n",
              "      <th></th>\n",
              "      <th></th>\n",
              "      <th></th>\n",
              "      <th></th>\n",
              "      <th></th>\n",
              "      <th></th>\n",
              "      <th></th>\n",
              "      <th></th>\n",
              "      <th></th>\n",
              "      <th></th>\n",
              "      <th></th>\n",
              "      <th></th>\n",
              "      <th></th>\n",
              "      <th></th>\n",
              "      <th></th>\n",
              "    </tr>\n",
              "  </thead>\n",
              "  <tbody>\n",
              "    <tr>\n",
              "      <th>0.0</th>\n",
              "      <td>3461</td>\n",
              "      <td>3461</td>\n",
              "      <td>3461</td>\n",
              "      <td>3461</td>\n",
              "      <td>3461</td>\n",
              "      <td>3461</td>\n",
              "      <td>3461</td>\n",
              "      <td>3461</td>\n",
              "      <td>3461</td>\n",
              "      <td>3461</td>\n",
              "      <td>3461</td>\n",
              "      <td>3461</td>\n",
              "      <td>3461</td>\n",
              "      <td>3461</td>\n",
              "      <td>3461</td>\n",
              "      <td>3461</td>\n",
              "      <td>3461</td>\n",
              "    </tr>\n",
              "    <tr>\n",
              "      <th>1.0</th>\n",
              "      <td>2038</td>\n",
              "      <td>2038</td>\n",
              "      <td>2038</td>\n",
              "      <td>2038</td>\n",
              "      <td>2038</td>\n",
              "      <td>2038</td>\n",
              "      <td>2038</td>\n",
              "      <td>2038</td>\n",
              "      <td>2038</td>\n",
              "      <td>2038</td>\n",
              "      <td>2038</td>\n",
              "      <td>2038</td>\n",
              "      <td>2038</td>\n",
              "      <td>2038</td>\n",
              "      <td>2038</td>\n",
              "      <td>2038</td>\n",
              "      <td>2038</td>\n",
              "    </tr>\n",
              "  </tbody>\n",
              "</table>\n",
              "</div>"
            ],
            "text/plain": [
              "                timestamp   cnt    t1  ...  hour_cos  month_sin  month_cos\n",
              "is_non_workday                         ...                                \n",
              "0.0                  3461  3461  3461  ...      3461       3461       3461\n",
              "1.0                  2038  2038  2038  ...      2038       2038       2038\n",
              "\n",
              "[2 rows x 17 columns]"
            ]
          },
          "metadata": {
            "tags": []
          },
          "execution_count": 32
        }
      ]
    },
    {
      "cell_type": "markdown",
      "metadata": {
        "id": "8DzOiOZUnoJg",
        "colab_type": "text"
      },
      "source": [
        "The grouping above shows that hourly grouping is separating the two distributions. The daylight could be a crucial factor that is creating two distributions of the data. A new column \"is_night\" is created that is approximately separating the data."
      ]
    },
    {
      "cell_type": "code",
      "metadata": {
        "id": "zJhK2oSLZK2y",
        "colab_type": "code",
        "colab": {}
      },
      "source": [
        "def add_night_hours(df):\n",
        "    \"\"\"\n",
        "    The function is creating a new column \"is_night\". It requires a column with hours.\n",
        "    If the hour is from 8:00 to 20:00 the data is classified as 0, if not in this interval it's 1.\n",
        "    The purpose is try to to catch the sunlight status, but it's not taking in acount the time of the year and summertime.\n",
        "    \n",
        "    Input:\n",
        "    df- pandas DataFrame, containing 'hour' column\n",
        "    Output :\n",
        "    Pandas DataFrame with added \"is_night column\"\n",
        "    \"\"\"\n",
        "    assert_true('hour' in set(df.columns))\n",
        "    \n",
        "    df['is_night'] = 0\n",
        "    df.loc[(df['hour'] < 8) | (df['hour'] > 20), 'is_night'] = 1\n",
        "    \n",
        "    assert_true('is_night' in set(df.columns))\n",
        "    return df"
      ],
      "execution_count": 0,
      "outputs": []
    },
    {
      "cell_type": "code",
      "metadata": {
        "id": "zYViwNSpaQYF",
        "colab_type": "code",
        "outputId": "3af12907-31e6-4da8-8b34-5e62ecbd5a09",
        "colab": {
          "base_uri": "https://localhost:8080/",
          "height": 617
        }
      },
      "source": [
        "add_night_hours(london)\n"
      ],
      "execution_count": 34,
      "outputs": [
        {
          "output_type": "execute_result",
          "data": {
            "text/html": [
              "<div>\n",
              "<style scoped>\n",
              "    .dataframe tbody tr th:only-of-type {\n",
              "        vertical-align: middle;\n",
              "    }\n",
              "\n",
              "    .dataframe tbody tr th {\n",
              "        vertical-align: top;\n",
              "    }\n",
              "\n",
              "    .dataframe thead th {\n",
              "        text-align: right;\n",
              "    }\n",
              "</style>\n",
              "<table border=\"1\" class=\"dataframe\">\n",
              "  <thead>\n",
              "    <tr style=\"text-align: right;\">\n",
              "      <th></th>\n",
              "      <th>timestamp</th>\n",
              "      <th>cnt</th>\n",
              "      <th>t1</th>\n",
              "      <th>t2</th>\n",
              "      <th>hum</th>\n",
              "      <th>wind_speed</th>\n",
              "      <th>weather_code</th>\n",
              "      <th>season</th>\n",
              "      <th>count_log</th>\n",
              "      <th>is_non_workday</th>\n",
              "      <th>month</th>\n",
              "      <th>day</th>\n",
              "      <th>hour</th>\n",
              "      <th>year</th>\n",
              "      <th>hour_sin</th>\n",
              "      <th>hour_cos</th>\n",
              "      <th>month_sin</th>\n",
              "      <th>month_cos</th>\n",
              "      <th>is_night</th>\n",
              "    </tr>\n",
              "  </thead>\n",
              "  <tbody>\n",
              "    <tr>\n",
              "      <th>0</th>\n",
              "      <td>2015-01-04 00:00:00</td>\n",
              "      <td>182</td>\n",
              "      <td>3.0</td>\n",
              "      <td>2.0</td>\n",
              "      <td>93.0</td>\n",
              "      <td>6.0</td>\n",
              "      <td>100.0</td>\n",
              "      <td>3.0</td>\n",
              "      <td>5.209486</td>\n",
              "      <td>1.0</td>\n",
              "      <td>1</td>\n",
              "      <td>6</td>\n",
              "      <td>0</td>\n",
              "      <td>2015</td>\n",
              "      <td>0.000000e+00</td>\n",
              "      <td>1.000000</td>\n",
              "      <td>0.5</td>\n",
              "      <td>0.866025</td>\n",
              "      <td>1</td>\n",
              "    </tr>\n",
              "    <tr>\n",
              "      <th>1</th>\n",
              "      <td>2015-01-04 01:00:00</td>\n",
              "      <td>138</td>\n",
              "      <td>3.0</td>\n",
              "      <td>2.5</td>\n",
              "      <td>93.0</td>\n",
              "      <td>5.0</td>\n",
              "      <td>100.0</td>\n",
              "      <td>3.0</td>\n",
              "      <td>4.934474</td>\n",
              "      <td>1.0</td>\n",
              "      <td>1</td>\n",
              "      <td>6</td>\n",
              "      <td>1</td>\n",
              "      <td>2015</td>\n",
              "      <td>2.697968e-01</td>\n",
              "      <td>0.962917</td>\n",
              "      <td>0.5</td>\n",
              "      <td>0.866025</td>\n",
              "      <td>1</td>\n",
              "    </tr>\n",
              "    <tr>\n",
              "      <th>2</th>\n",
              "      <td>2015-01-04 02:00:00</td>\n",
              "      <td>134</td>\n",
              "      <td>2.5</td>\n",
              "      <td>2.5</td>\n",
              "      <td>96.5</td>\n",
              "      <td>0.0</td>\n",
              "      <td>100.0</td>\n",
              "      <td>3.0</td>\n",
              "      <td>4.905275</td>\n",
              "      <td>1.0</td>\n",
              "      <td>1</td>\n",
              "      <td>6</td>\n",
              "      <td>2</td>\n",
              "      <td>2015</td>\n",
              "      <td>5.195840e-01</td>\n",
              "      <td>0.854419</td>\n",
              "      <td>0.5</td>\n",
              "      <td>0.866025</td>\n",
              "      <td>1</td>\n",
              "    </tr>\n",
              "    <tr>\n",
              "      <th>3</th>\n",
              "      <td>2015-01-04 03:00:00</td>\n",
              "      <td>72</td>\n",
              "      <td>2.0</td>\n",
              "      <td>2.0</td>\n",
              "      <td>100.0</td>\n",
              "      <td>0.0</td>\n",
              "      <td>100.0</td>\n",
              "      <td>3.0</td>\n",
              "      <td>4.290459</td>\n",
              "      <td>1.0</td>\n",
              "      <td>1</td>\n",
              "      <td>6</td>\n",
              "      <td>3</td>\n",
              "      <td>2015</td>\n",
              "      <td>7.308360e-01</td>\n",
              "      <td>0.682553</td>\n",
              "      <td>0.5</td>\n",
              "      <td>0.866025</td>\n",
              "      <td>1</td>\n",
              "    </tr>\n",
              "    <tr>\n",
              "      <th>4</th>\n",
              "      <td>2015-01-04 04:00:00</td>\n",
              "      <td>47</td>\n",
              "      <td>2.0</td>\n",
              "      <td>0.0</td>\n",
              "      <td>93.0</td>\n",
              "      <td>6.5</td>\n",
              "      <td>100.0</td>\n",
              "      <td>3.0</td>\n",
              "      <td>3.871201</td>\n",
              "      <td>1.0</td>\n",
              "      <td>1</td>\n",
              "      <td>6</td>\n",
              "      <td>4</td>\n",
              "      <td>2015</td>\n",
              "      <td>8.878852e-01</td>\n",
              "      <td>0.460065</td>\n",
              "      <td>0.5</td>\n",
              "      <td>0.866025</td>\n",
              "      <td>1</td>\n",
              "    </tr>\n",
              "    <tr>\n",
              "      <th>...</th>\n",
              "      <td>...</td>\n",
              "      <td>...</td>\n",
              "      <td>...</td>\n",
              "      <td>...</td>\n",
              "      <td>...</td>\n",
              "      <td>...</td>\n",
              "      <td>...</td>\n",
              "      <td>...</td>\n",
              "      <td>...</td>\n",
              "      <td>...</td>\n",
              "      <td>...</td>\n",
              "      <td>...</td>\n",
              "      <td>...</td>\n",
              "      <td>...</td>\n",
              "      <td>...</td>\n",
              "      <td>...</td>\n",
              "      <td>...</td>\n",
              "      <td>...</td>\n",
              "      <td>...</td>\n",
              "    </tr>\n",
              "    <tr>\n",
              "      <th>17409</th>\n",
              "      <td>2017-01-03 19:00:00</td>\n",
              "      <td>1042</td>\n",
              "      <td>5.0</td>\n",
              "      <td>1.0</td>\n",
              "      <td>81.0</td>\n",
              "      <td>19.0</td>\n",
              "      <td>100.0</td>\n",
              "      <td>3.0</td>\n",
              "      <td>6.949856</td>\n",
              "      <td>0.0</td>\n",
              "      <td>1</td>\n",
              "      <td>1</td>\n",
              "      <td>19</td>\n",
              "      <td>2017</td>\n",
              "      <td>-8.878852e-01</td>\n",
              "      <td>0.460065</td>\n",
              "      <td>0.5</td>\n",
              "      <td>0.866025</td>\n",
              "      <td>0</td>\n",
              "    </tr>\n",
              "    <tr>\n",
              "      <th>17410</th>\n",
              "      <td>2017-01-03 20:00:00</td>\n",
              "      <td>541</td>\n",
              "      <td>5.0</td>\n",
              "      <td>1.0</td>\n",
              "      <td>81.0</td>\n",
              "      <td>21.0</td>\n",
              "      <td>100.0</td>\n",
              "      <td>3.0</td>\n",
              "      <td>6.295266</td>\n",
              "      <td>0.0</td>\n",
              "      <td>1</td>\n",
              "      <td>1</td>\n",
              "      <td>20</td>\n",
              "      <td>2017</td>\n",
              "      <td>-7.308360e-01</td>\n",
              "      <td>0.682553</td>\n",
              "      <td>0.5</td>\n",
              "      <td>0.866025</td>\n",
              "      <td>0</td>\n",
              "    </tr>\n",
              "    <tr>\n",
              "      <th>17411</th>\n",
              "      <td>2017-01-03 21:00:00</td>\n",
              "      <td>337</td>\n",
              "      <td>5.5</td>\n",
              "      <td>1.5</td>\n",
              "      <td>78.5</td>\n",
              "      <td>24.0</td>\n",
              "      <td>100.0</td>\n",
              "      <td>3.0</td>\n",
              "      <td>5.823046</td>\n",
              "      <td>0.0</td>\n",
              "      <td>1</td>\n",
              "      <td>1</td>\n",
              "      <td>21</td>\n",
              "      <td>2017</td>\n",
              "      <td>-5.195840e-01</td>\n",
              "      <td>0.854419</td>\n",
              "      <td>0.5</td>\n",
              "      <td>0.866025</td>\n",
              "      <td>1</td>\n",
              "    </tr>\n",
              "    <tr>\n",
              "      <th>17412</th>\n",
              "      <td>2017-01-03 22:00:00</td>\n",
              "      <td>224</td>\n",
              "      <td>5.5</td>\n",
              "      <td>1.5</td>\n",
              "      <td>76.0</td>\n",
              "      <td>23.0</td>\n",
              "      <td>100.0</td>\n",
              "      <td>3.0</td>\n",
              "      <td>5.416100</td>\n",
              "      <td>0.0</td>\n",
              "      <td>1</td>\n",
              "      <td>1</td>\n",
              "      <td>22</td>\n",
              "      <td>2017</td>\n",
              "      <td>-2.697968e-01</td>\n",
              "      <td>0.962917</td>\n",
              "      <td>0.5</td>\n",
              "      <td>0.866025</td>\n",
              "      <td>1</td>\n",
              "    </tr>\n",
              "    <tr>\n",
              "      <th>17413</th>\n",
              "      <td>2017-01-03 23:00:00</td>\n",
              "      <td>139</td>\n",
              "      <td>5.0</td>\n",
              "      <td>1.0</td>\n",
              "      <td>76.0</td>\n",
              "      <td>22.0</td>\n",
              "      <td>100.0</td>\n",
              "      <td>3.0</td>\n",
              "      <td>4.941642</td>\n",
              "      <td>0.0</td>\n",
              "      <td>1</td>\n",
              "      <td>1</td>\n",
              "      <td>23</td>\n",
              "      <td>2017</td>\n",
              "      <td>-2.449294e-16</td>\n",
              "      <td>1.000000</td>\n",
              "      <td>0.5</td>\n",
              "      <td>0.866025</td>\n",
              "      <td>1</td>\n",
              "    </tr>\n",
              "  </tbody>\n",
              "</table>\n",
              "<p>17414 rows × 19 columns</p>\n",
              "</div>"
            ],
            "text/plain": [
              "                timestamp   cnt   t1  ...  month_sin  month_cos  is_night\n",
              "0     2015-01-04 00:00:00   182  3.0  ...        0.5   0.866025         1\n",
              "1     2015-01-04 01:00:00   138  3.0  ...        0.5   0.866025         1\n",
              "2     2015-01-04 02:00:00   134  2.5  ...        0.5   0.866025         1\n",
              "3     2015-01-04 03:00:00    72  2.0  ...        0.5   0.866025         1\n",
              "4     2015-01-04 04:00:00    47  2.0  ...        0.5   0.866025         1\n",
              "...                   ...   ...  ...  ...        ...        ...       ...\n",
              "17409 2017-01-03 19:00:00  1042  5.0  ...        0.5   0.866025         0\n",
              "17410 2017-01-03 20:00:00   541  5.0  ...        0.5   0.866025         0\n",
              "17411 2017-01-03 21:00:00   337  5.5  ...        0.5   0.866025         1\n",
              "17412 2017-01-03 22:00:00   224  5.5  ...        0.5   0.866025         1\n",
              "17413 2017-01-03 23:00:00   139  5.0  ...        0.5   0.866025         1\n",
              "\n",
              "[17414 rows x 19 columns]"
            ]
          },
          "metadata": {
            "tags": []
          },
          "execution_count": 34
        }
      ]
    },
    {
      "cell_type": "code",
      "metadata": {
        "id": "eFBXOw9JBrQp",
        "colab_type": "code",
        "colab": {}
      },
      "source": [
        "def sns_hist(data,title):\n",
        "    \"\"\"\"\n",
        "    Function to plot seaborn histogram.\n",
        "    \"\"\"\n",
        "    assert_is_not_none(data)\n",
        "    \n",
        "    sns.distplot(data, fit=norm)\n",
        "    plt.title(title)\n",
        "    plt.ylabel('Density')"
      ],
      "execution_count": 0,
      "outputs": []
    },
    {
      "cell_type": "code",
      "metadata": {
        "id": "A6bl2rznC1gW",
        "colab_type": "code",
        "colab": {
          "base_uri": "https://localhost:8080/",
          "height": 296
        },
        "outputId": "613754fc-994a-43a9-ef13-ae12c3f28fe4"
      },
      "source": [
        "sns_hist(london[london['is_night']==1]['count_log'],\"Histogram of logarithm transformed count of bike shares during the night.\")"
      ],
      "execution_count": 36,
      "outputs": [
        {
          "output_type": "display_data",
          "data": {
            "image/png": "[encoded data removed]",
            "text/plain": [
              "<Figure size 432x288 with 1 Axes>"
            ]
          },
          "metadata": {
            "tags": []
          }
        }
      ]
    },
    {
      "cell_type": "code",
      "metadata": {
        "id": "Yy0fbLgYD12H",
        "colab_type": "code",
        "colab": {
          "base_uri": "https://localhost:8080/",
          "height": 296
        },
        "outputId": "03304930-c62d-4a71-c6e2-37f26c7af71a"
      },
      "source": [
        "sns_hist(london[london['is_night']==0]['count_log'],\"Histogram of logarithm transformed count of bike shares during the day.\")"
      ],
      "execution_count": 37,
      "outputs": [
        {
          "output_type": "display_data",
          "data": {
            "image/png": "[encoded data removed]",
            "text/plain": [
              "<Figure size 432x288 with 1 Axes>"
            ]
          },
          "metadata": {
            "tags": []
          }
        }
      ]
    },
    {
      "cell_type": "markdown",
      "metadata": {
        "id": "g8C4Z7onu5D8",
        "colab_type": "text"
      },
      "source": [
        "The conclusion from the graphics above is that when the data is separated by day/night the distributions of transformed data looks more Gaussian. The next step is to implement machine learning algorithms. "
      ]
    },
    {
      "cell_type": "markdown",
      "metadata": {
        "id": "0L6bifzwJBa7",
        "colab_type": "text"
      },
      "source": [
        "## 3.Machine Learning"
      ]
    },
    {
      "cell_type": "markdown",
      "metadata": {
        "id": "BQoxnH_1GdWh",
        "colab_type": "text"
      },
      "source": [
        "## 3.1.Train test split\n",
        "The data should be separated to train and test sets, also the training set will be splitted for cross validation. As per [14] and to avoid \"data leakage\" - the training and testing sets are splitted by a single date. This means there there is no shuffling in the data and simulates the case when the testing set is in the future. The graphic below shows the process of splitting and cross validation used by this research. The algorithm is always trained with past data and validated with future data."
      ]
    },
    {
      "cell_type": "markdown",
      "metadata": {
        "id": "9EQTQof9S-x1",
        "colab_type": "text"
      },
      "source": [
        "<img src=\"data:image/png;base64,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\" width=\"480\">"
      ]
    },
    {
      "cell_type": "markdown",
      "metadata": {
        "id": "_N5ezePN6HDp",
        "colab_type": "text"
      },
      "source": [
        "This decision affects the research, so another step could be to check the results with different split by the function - train_test_split or use pandas dataframe sampling the data for different days. For the scaling of the data is used the MinMaxScaler. Another possible algorithm is RobustScaler which is reducing the effect of outliers."
      ]
    },
    {
      "cell_type": "code",
      "metadata": {
        "id": "IQ7HQCFR6NB-",
        "colab_type": "code",
        "colab": {}
      },
      "source": [
        "london_df = london.drop(['timestamp','cnt'],axis=1)\n",
        "X = london_df.drop(['count_log'], axis=1)\n",
        "y = london_df['count_log']\n",
        "scaler_x = preprocessing.MinMaxScaler()\n",
        "X =  pd.DataFrame(scaler_x.fit_transform(X), columns = X.columns)"
      ],
      "execution_count": 0,
      "outputs": []
    },
    {
      "cell_type": "code",
      "metadata": {
        "id": "q9GM0TKB7eqb",
        "colab_type": "code",
        "colab": {}
      },
      "source": [
        "def df_split(df,train_percent):\n",
        "    \"\"\"\n",
        "    Function to split DataFrame/Series on percentage value.\n",
        "    Input:\n",
        "    -------\n",
        "    -df - pandas DataFrame\n",
        "    -train_percent - the percentage /100 of the data that we want to split. value between [0,1]\n",
        "    \n",
        "    Output:\n",
        "    --------\n",
        "    -two pandas DataFrames\n",
        "    \"\"\"\n",
        "    assert_is_not_none(df)\n",
        "    assert_greater(train_percent,0)\n",
        "    assert_less(train_percent,1)\n",
        "    \n",
        "    split_index = int(train_percent * len(df))\n",
        "    train = df.iloc[:split_index]\n",
        "    test = df.iloc[split_index:]\n",
        "    return train,test"
      ],
      "execution_count": 0,
      "outputs": []
    },
    {
      "cell_type": "code",
      "metadata": {
        "id": "IEGvtxAj8WAb",
        "colab_type": "code",
        "colab": {}
      },
      "source": [
        "X_train,X_test = df_split(X,0.7)\n",
        "y_train,y_test = df_split(y,0.7)"
      ],
      "execution_count": 0,
      "outputs": []
    },
    {
      "cell_type": "code",
      "metadata": {
        "id": "xMS8xXkpGig5",
        "colab_type": "code",
        "outputId": "4fe4cc8d-4918-430d-e166-f9e579382021",
        "colab": {
          "base_uri": "https://localhost:8080/",
          "height": 35
        }
      },
      "source": [
        "X_train.shape"
      ],
      "execution_count": 41,
      "outputs": [
        {
          "output_type": "execute_result",
          "data": {
            "text/plain": [
              "(12189, 16)"
            ]
          },
          "metadata": {
            "tags": []
          },
          "execution_count": 41
        }
      ]
    },
    {
      "cell_type": "code",
      "metadata": {
        "id": "GKEfxPMI9ReC",
        "colab_type": "code",
        "outputId": "695be5e0-73bf-421e-b5d7-5a4b554712d5",
        "colab": {
          "base_uri": "https://localhost:8080/",
          "height": 35
        }
      },
      "source": [
        "y_train.shape"
      ],
      "execution_count": 42,
      "outputs": [
        {
          "output_type": "execute_result",
          "data": {
            "text/plain": [
              "(12189,)"
            ]
          },
          "metadata": {
            "tags": []
          },
          "execution_count": 42
        }
      ]
    },
    {
      "cell_type": "code",
      "metadata": {
        "id": "Tb3eCT1rG-v1",
        "colab_type": "code",
        "outputId": "e6395c55-e690-42bc-e839-3709c3bd9a66",
        "colab": {
          "base_uri": "https://localhost:8080/",
          "height": 35
        }
      },
      "source": [
        "X_test.shape"
      ],
      "execution_count": 43,
      "outputs": [
        {
          "output_type": "execute_result",
          "data": {
            "text/plain": [
              "(5225, 16)"
            ]
          },
          "metadata": {
            "tags": []
          },
          "execution_count": 43
        }
      ]
    },
    {
      "cell_type": "code",
      "metadata": {
        "id": "Up0-bn8F9WgW",
        "colab_type": "code",
        "outputId": "06e48b49-ff04-428c-8d40-88d484279aec",
        "colab": {
          "base_uri": "https://localhost:8080/",
          "height": 35
        }
      },
      "source": [
        "y_test.shape"
      ],
      "execution_count": 44,
      "outputs": [
        {
          "output_type": "execute_result",
          "data": {
            "text/plain": [
              "(5225,)"
            ]
          },
          "metadata": {
            "tags": []
          },
          "execution_count": 44
        }
      ]
    },
    {
      "cell_type": "code",
      "metadata": {
        "id": "pZUH-YGgHBky",
        "colab_type": "code",
        "outputId": "31def312-0763-419b-b68c-a21105fe16c1",
        "colab": {
          "base_uri": "https://localhost:8080/",
          "height": 35
        }
      },
      "source": [
        "london.shape"
      ],
      "execution_count": 45,
      "outputs": [
        {
          "output_type": "execute_result",
          "data": {
            "text/plain": [
              "(17414, 19)"
            ]
          },
          "metadata": {
            "tags": []
          },
          "execution_count": 45
        }
      ]
    },
    {
      "cell_type": "code",
      "metadata": {
        "id": "74-ZBw0k5Zbq",
        "colab_type": "code",
        "outputId": "b95d1f38-7735-44be-ee54-d4c0ce320fb8",
        "colab": {
          "base_uri": "https://localhost:8080/",
          "height": 281
        }
      },
      "source": [
        "sns_hist(pd.DataFrame(y_train),\"Histogram of logarithm transformed count of bike shares train set\")"
      ],
      "execution_count": 46,
      "outputs": [
        {
          "output_type": "display_data",
          "data": {
            "image/png": "[encoded data removed]",
            "text/plain": [
              "<Figure size 432x288 with 1 Axes>"
            ]
          },
          "metadata": {
            "tags": []
          }
        }
      ]
    },
    {
      "cell_type": "code",
      "metadata": {
        "id": "gRg9bTNy5ZlU",
        "colab_type": "code",
        "outputId": "84b814e0-6006-45f6-f1e5-34bb3f6a0e5b",
        "colab": {
          "base_uri": "https://localhost:8080/",
          "height": 281
        }
      },
      "source": [
        "sns_hist(pd.DataFrame(y_test),\"Histogram of logarithm transformed count of bike shares test set\")\n",
        "#sns.distplot(pd.DataFrame(y_test), fit=norm)\n",
        "#plt.title(\"Histogram of logarithm transformed count of bike shares test set\")\n",
        "#plt.ylabel('Density')"
      ],
      "execution_count": 47,
      "outputs": [
        {
          "output_type": "display_data",
          "data": {
            "image/png": "[encoded data removed]",
            "text/plain": [
              "<Figure size 432x288 with 1 Axes>"
            ]
          },
          "metadata": {
            "tags": []
          }
        }
      ]
    },
    {
      "cell_type": "markdown",
      "metadata": {
        "id": "O-NVQUgHdujR",
        "colab_type": "text"
      },
      "source": [
        "## 3.2.Choosing a scoring metric\n",
        "A custom scoring function is implemented - *Root mean squared logarithmic error* -  ***RMSLE***. The built-in function *mean_squared_log_error* can not handle negative values, also the linear regression can return very high values. The new custom function is replacing the negative values with 0 and highly positive values with 10. Prediction of 10 after transforming back e<sup>10</sup>=22026 shared bikes, which is far above the dataset maximum of 8000. The evaluation metric of RMSLE is chosen because the dataset contains very large and very small values [5]. With this metric the outlier will have smaller effects during the scoring and predictions are evaluated with percentage error. Another effect of this metric is that it is adding extra penalty to underestimates - see the graphic below, from [5].\n",
        "\n",
        "\n",
        "<img src=\" data:image/png;base64,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\" width=\"448\">"
      ]
    },
    {
      "cell_type": "code",
      "metadata": {
        "id": "o79yA0Bo11BR",
        "colab_type": "code",
        "colab": {}
      },
      "source": [
        "def rmsle(y, y_pred):\n",
        "    \"\"\"\n",
        "    Root squared logarithmic loss function.\n",
        "    The function is trimming the negative values and replace them with 0. After that calculates the RMSLE.\n",
        "    Input:\n",
        "    y - true values\n",
        "    y_pred - predicted values\n",
        "\n",
        "    Output: RMSLE\n",
        "    \"\"\"\n",
        "    assert(y.shape == y_pred.shape)\n",
        "    y = np.expm1(y)\n",
        "    y_pred=y_pred.clip(min=0)\n",
        "    y_pred=y_pred.clip(max=10)\n",
        "    y_pred = np.expm1(y_pred)\n",
        "    return np.sqrt(mean_squared_log_error( y, y_pred))\n",
        "\n",
        "\n",
        "rmsle_scorer = make_scorer(rmsle, greater_is_better=False)\n",
        "tscv = TimeSeriesSplit(n_splits=5)"
      ],
      "execution_count": 0,
      "outputs": []
    },
    {
      "cell_type": "code",
      "metadata": {
        "id": "RV-3pwASvv-E",
        "colab_type": "code",
        "colab": {}
      },
      "source": [
        "columns = ['weather_code','season','is_non_workday']\n",
        "X_dummies = pd.get_dummies(X_train, columns=columns)\n",
        "X_dummies = X_dummies.drop(['day','year','month'],axis=1)\n"
      ],
      "execution_count": 0,
      "outputs": []
    },
    {
      "cell_type": "markdown",
      "metadata": {
        "id": "yh8iOja4i8sr",
        "colab_type": "text"
      },
      "source": [
        "Please wait 1 minute for the performance tests, if you want to speed it up, just remove SVR() from **regressors** variable and the 4<sup>th</sup> element of **data_X** variable."
      ]
    },
    {
      "cell_type": "code",
      "metadata": {
        "id": "SXaa-eVt85dY",
        "colab_type": "code",
        "outputId": "0591805b-fe45-47ff-9862-a8f77fe8d840",
        "colab": {
          "base_uri": "https://localhost:8080/",
          "height": 363
        }
      },
      "source": [
        "def test_algorithms():\n",
        "    \n",
        "    \"\"\"\n",
        "    A custom function designed for cross validation score on \"london bike sharing dataset\".\n",
        "    The function is comparing the following algorithms :\n",
        "    \"LinearRegression\", \"Random Forrest\", \"XGBoost\", \"SVR\" , \"AdaBoost\",\"BaggingRegressor\",\n",
        "    on \"London bicycle sharing dataset\" with mean RMSLE error, standard deviation on RMSLE and execution time. \n",
        "    The output of this function is a pandas dataframe.\n",
        "    \"\"\"\n",
        "    names = [\"LinearRegression\", \"Random Forrest\", \"XGBoost\", \"SVR\" , \"AdaBoost\",\n",
        "             \"BaggingRegressor\"]\n",
        "    \n",
        "    regressors = [\n",
        "        LinearRegression(),\n",
        "        RandomForestRegressor(random_state=42),\n",
        "        XGBRegressor(objective ='reg:squarederror',random_state=42),\n",
        "        SVR(),\n",
        "        AdaBoostRegressor(random_state=42),\n",
        "        BaggingRegressor(random_state=42)    \n",
        "        ]\n",
        "    \n",
        "    data_X = [X_dummies,X_train ,X_train ,X_dummies ,X_train ,X_train ]\n",
        "    reg_columns=['algorithm','score_rmsle_mean','score_std','time']\n",
        "    reg_performance = pd.DataFrame(columns=reg_columns)\n",
        "    print('Please wait 1-2 minutes for all algorithms to complete.')\n",
        "    for name, regressor, X_trains in zip(names, regressors,data_X):\n",
        "        time_start = time.time()\n",
        "        cv_results = cross_val_score(regressor, X_trains,y_train, cv=5 ,scoring = rmsle_scorer)\n",
        "        time_end = round(time.time() - time_start,3)\n",
        "        mean_score = round(-cv_results.mean(),4)\n",
        "        std_score = round(cv_results.std(),4)\n",
        "        t= pd.DataFrame([[name,mean_score,std_score,time_end]],columns = reg_columns)\n",
        "        reg_performance = reg_performance.append(t, ignore_index=True)\n",
        "        print(name , ' RMSLE = ',mean_score , 'with std=',std_score ,\" execution_time =  \", time_end,\"s\")\n",
        "    return reg_performance\n",
        "reg_performance = test_algorithms()\n",
        "reg_performance"
      ],
      "execution_count": 50,
      "outputs": [
        {
          "output_type": "stream",
          "text": [
            "Please wait 1-2 minutes for all algorithms to complete.\n",
            "LinearRegression  RMSLE =  0.7334 with std= 0.0178  execution_time =   0.125 s\n",
            "Random Forrest  RMSLE =  0.2841 with std= 0.0486  execution_time =   2.309 s\n",
            "XGBoost  RMSLE =  0.3164 with std= 0.0405  execution_time =   2.633 s\n",
            "SVR  RMSLE =  0.6355 with std= 0.0226  execution_time =   33.875 s\n",
            "AdaBoost  RMSLE =  0.5167 with std= 0.0495  execution_time =   3.619 s\n",
            "BaggingRegressor  RMSLE =  0.2832 with std= 0.0491  execution_time =   2.25 s\n"
          ],
          "name": "stdout"
        },
        {
          "output_type": "execute_result",
          "data": {
            "text/html": [
              "<div>\n",
              "<style scoped>\n",
              "    .dataframe tbody tr th:only-of-type {\n",
              "        vertical-align: middle;\n",
              "    }\n",
              "\n",
              "    .dataframe tbody tr th {\n",
              "        vertical-align: top;\n",
              "    }\n",
              "\n",
              "    .dataframe thead th {\n",
              "        text-align: right;\n",
              "    }\n",
              "</style>\n",
              "<table border=\"1\" class=\"dataframe\">\n",
              "  <thead>\n",
              "    <tr style=\"text-align: right;\">\n",
              "      <th></th>\n",
              "      <th>algorithm</th>\n",
              "      <th>score_rmsle_mean</th>\n",
              "      <th>score_std</th>\n",
              "      <th>time</th>\n",
              "    </tr>\n",
              "  </thead>\n",
              "  <tbody>\n",
              "    <tr>\n",
              "      <th>0</th>\n",
              "      <td>LinearRegression</td>\n",
              "      <td>0.7334</td>\n",
              "      <td>0.0178</td>\n",
              "      <td>0.125</td>\n",
              "    </tr>\n",
              "    <tr>\n",
              "      <th>1</th>\n",
              "      <td>Random Forrest</td>\n",
              "      <td>0.2841</td>\n",
              "      <td>0.0486</td>\n",
              "      <td>2.309</td>\n",
              "    </tr>\n",
              "    <tr>\n",
              "      <th>2</th>\n",
              "      <td>XGBoost</td>\n",
              "      <td>0.3164</td>\n",
              "      <td>0.0405</td>\n",
              "      <td>2.633</td>\n",
              "    </tr>\n",
              "    <tr>\n",
              "      <th>3</th>\n",
              "      <td>SVR</td>\n",
              "      <td>0.6355</td>\n",
              "      <td>0.0226</td>\n",
              "      <td>33.875</td>\n",
              "    </tr>\n",
              "    <tr>\n",
              "      <th>4</th>\n",
              "      <td>AdaBoost</td>\n",
              "      <td>0.5167</td>\n",
              "      <td>0.0495</td>\n",
              "      <td>3.619</td>\n",
              "    </tr>\n",
              "    <tr>\n",
              "      <th>5</th>\n",
              "      <td>BaggingRegressor</td>\n",
              "      <td>0.2832</td>\n",
              "      <td>0.0491</td>\n",
              "      <td>2.250</td>\n",
              "    </tr>\n",
              "  </tbody>\n",
              "</table>\n",
              "</div>"
            ],
            "text/plain": [
              "          algorithm  score_rmsle_mean  score_std    time\n",
              "0  LinearRegression            0.7334     0.0178   0.125\n",
              "1    Random Forrest            0.2841     0.0486   2.309\n",
              "2           XGBoost            0.3164     0.0405   2.633\n",
              "3               SVR            0.6355     0.0226  33.875\n",
              "4          AdaBoost            0.5167     0.0495   3.619\n",
              "5  BaggingRegressor            0.2832     0.0491   2.250"
            ]
          },
          "metadata": {
            "tags": []
          },
          "execution_count": 50
        }
      ]
    },
    {
      "cell_type": "code",
      "metadata": {
        "id": "srBjlBi58tuJ",
        "colab_type": "code",
        "outputId": "51b4badf-d977-4a0e-d803-d02a0454a68a",
        "colab": {
          "base_uri": "https://localhost:8080/",
          "height": 377
        }
      },
      "source": [
        "def plot_performance(df,x,y):\n",
        "    \"\"\"\n",
        "    Function to bar plot algorithm performance.\n",
        "    Inputs\n",
        "    -------\n",
        "    - df: DataFrame generated by test_algorithms() function\n",
        "    - x: x column name, usually 'algorithm'\n",
        "    - y: y column name - 'score_rmsle_mean' or 'time'\n",
        "    \n",
        "    Returns\n",
        "    -------\n",
        "    Barplot of the performance\n",
        "    \"\"\"\n",
        "    assert_is_not_none(df)\n",
        "    assert_true(x in set(df.columns))\n",
        "    assert_true(y in set(df.columns))\n",
        "    \n",
        "    \n",
        "    sns.barplot(data=df, x=x,y=y)\n",
        "    plt.title('Performance of different algorithms')\n",
        "    plt.xticks( rotation='vertical')\n",
        "\n",
        "\n",
        "plot_performance(reg_performance, x='algorithm',y='score_rmsle_mean')\n"
      ],
      "execution_count": 51,
      "outputs": [
        {
          "output_type": "display_data",
          "data": {
            "image/png": "[encoded data removed]",
            "text/plain": [
              "<Figure size 432x288 with 1 Axes>"
            ]
          },
          "metadata": {
            "tags": []
          }
        }
      ]
    },
    {
      "cell_type": "markdown",
      "metadata": {
        "id": "lB3FToqPj1MP",
        "colab_type": "text"
      },
      "source": [
        "## 3.3.Cross validation\n",
        "The results from the graphic above shows that *Random Forrest, XGBoost* and *Bagging Regressor* are the top 3 algorithms that are performing well with the default settings. During this research they are tuned and evaluated with the testing set. The code requires 10-20 minutes to perform a GridSearchCV on these 3 algorithms. To save time of future use of the algorithms, the best estimators are exported with \"pickle\" to a single file. The files are uploaded on \"Dropbox\" and the links are saved below.\n",
        "For the splitting of the data is used TimeSeriesSplit, another solution is to try kfolds split."
      ]
    },
    {
      "cell_type": "code",
      "metadata": {
        "id": "kzq__guZVJb2",
        "colab_type": "code",
        "colab": {}
      },
      "source": [
        "#################CAUTION LONG_RUNNING_CODE#####################################\n",
        "\n",
        "\"\"\"\n",
        "The following code is used to optimize 3 machine learning algorithms and export\n",
        "the trained models to a pickle file. Uncomment if needed to check the results.\n",
        "\n",
        "\"\"\"\n",
        "\n",
        "\n",
        "def save_pickle(model):\n",
        "    \"\"\"\n",
        "    Export sklearn trained model to a file.\n",
        "    Input:\n",
        "    ----------\n",
        "    - model:sklearn trained model\n",
        "    \"\"\"\n",
        "    pickle.dump(model, open(model.__class__.__name__ + '.model', 'wb'))\n",
        "    print('Model saved as ' + model.__class__.__name__ + '.model')\n",
        "\n",
        "###############################################################################\n",
        "############################XGBoost############################################\n",
        "#grid_values = {'learning_rate': [0.001, 0.01, 0.1, 0.3],\n",
        "#               'n_estimators':[100,700,1000,1200],\n",
        "#               'max_depth': [3,5,8,10],\n",
        "#               #'min_child_weight': [1,2,3,4],\n",
        "#               #'gamma':[0, 0.1, 0.2, 0.3]\n",
        "#               #'reg_alpha': [0.1,1,200,500],#L1\n",
        "#               #'reg_lambda':[1,200,500],#L2\n",
        "#               }\n",
        "#\n",
        "#\n",
        "#\n",
        "#grid_xgb = GridSearchCV(XGBRegressor(objective = 'reg:squarederror',early_stopping_rounds=20, eval_metric=\"rmse\",random_state=42),\n",
        "#                        n_jobs=-1, param_grid = grid_values,cv=tscv,scoring = rmsle_scorer)\n",
        "#grid_xgb.fit(X_train, y_train)\n",
        "#save_pickle(grid_xgb.best_estimator_)\n",
        "#pd.DataFrame(grid_xgb.cv_results_).to_csv('XGB_cv_results.csv')\n",
        "##############################################################################\n",
        "######################RandomForrest###########################################\n",
        "#\n",
        "#grid_values_rf = {'n_estimators': [10,100,500,750,1000,1200],\n",
        "#                  'max_depth' : [5,7,8,9],\n",
        "#                  'min_samples_leaf': [5,10,25,50],\n",
        "#                #'max_features': ['auto', 'sqrt'],\n",
        "#                }\n",
        "#\n",
        "#grid_rf = GridSearchCV(RandomForestRegressor(random_state=42), param_grid = grid_values_rf,cv=tscv,scoring = rmsle_scorer)\n",
        "#grid_rf.fit(X_train, y_train)\n",
        "#save_pickle(grid_rf.best_estimator_)\n",
        "#pd.DataFrame(grid_rf.cv_results_).to_csv('RF_cs_results.csv')\n",
        "################################################################################\n",
        "########################BaggringRegressor#######################################\n",
        "#grid_values_br = {'n_estimators':[10,100,500,1000]}\n",
        "#\n",
        "#grid_br = GridSearchCV(BaggingRegressor(random_state=42) , param_grid = grid_values_br,cv=tscv,scoring = rmsle_scorer)\n",
        "#grid_br.fit(X_train, y_train)\n",
        "#\n",
        "##################save_pickle(grid_br.best_estimator_)#####skipped due very long size on disk\n",
        "#pd.DataFrame(grid_br.cv_results_).to_csv('BR_cv_results.csv')\n",
        "################################################################################\n",
        "################################################################################"
      ],
      "execution_count": 0,
      "outputs": []
    },
    {
      "cell_type": "code",
      "metadata": {
        "id": "Zu0kSKuf7wFe",
        "colab_type": "code",
        "colab": {}
      },
      "source": [
        "#!cp 'XGBRegressor.model' 'drive/My Drive/XGBRegressor.model'\n",
        "#!cp 'XGB_cv_results.csv' 'drive/My Drive/XGB_cv_results.csv'\n",
        "\n",
        "#!cp 'RandomForestRegressor.model' 'drive/My Drive/RandomForestRegressor.model'\n",
        "#!cp 'RF_cs_results.csv' 'drive/My Drive/RF_cs_results.csv'"
      ],
      "execution_count": 0,
      "outputs": []
    },
    {
      "cell_type": "code",
      "metadata": {
        "id": "_WOio0g5NdYq",
        "colab_type": "code",
        "colab": {}
      },
      "source": [
        "def load_pickle(url):\n",
        "    \"\"\"\n",
        "    Funtion to load existing trained model, previously saved by pickle.\n",
        "    Inputs\n",
        "    -------\n",
        "    - url: DataFrame generated by test_algorithms() function\n",
        "    \n",
        "    Returns\n",
        "    -------\n",
        "    - sklearn trained model\n",
        "    \n",
        "    \"\"\"\n",
        "    try:\n",
        "        loaded_model = pickle.load(urlopen(url))\n",
        "        print('Model loaded.')\n",
        "        return loaded_model\n",
        "    except:\n",
        "        print('Unable to load the model from url.')\n",
        "        return 0"
      ],
      "execution_count": 0,
      "outputs": []
    },
    {
      "cell_type": "markdown",
      "metadata": {
        "id": "kruGPoe8eJ9Z",
        "colab_type": "text"
      },
      "source": [
        "The BaggringRegressor is excluded from the saved models, because of very long size on disk after tuning. With '*n_estimators*' = 1000 the size on disk is **930 MB**. With the default '*n_estimators*' = 10, the size on disk is approximately 9MB, but the RMSLE will be higher that the tuned algorithms. This algorithm achieved on **testing set** RMSLE = 0.26813."
      ]
    },
    {
      "cell_type": "code",
      "metadata": {
        "id": "FO29-07xoiBf",
        "colab_type": "code",
        "colab": {}
      },
      "source": [
        "xgb_model_url = 'https://www.dropbox.com/s/zihko63rehvmpb6/XGBRegressor.model?dl=1'\n",
        "rf_model_url = 'https://www.dropbox.com/s/9o62bwl4d8zmqx8/RandomForestRegressor.model?dl=1'\n",
        "\n",
        "\n",
        "xgb_results_url = 'https://www.dropbox.com/s/tb7125oq2g5fqt4/XGB_cv_results.csv?dl=1'\n",
        "rf_results_url = 'https://www.dropbox.com/s/dluxmpewpu3fen7/RF_cs_results.csv?dl=1'\n",
        "\n",
        "\n",
        "br_results_url = 'https://www.dropbox.com/s/hkeselt1tbnsgx0/BR_cv_results.csv?dl=1'"
      ],
      "execution_count": 0,
      "outputs": []
    },
    {
      "cell_type": "code",
      "metadata": {
        "id": "QQ7ALo1ct8KR",
        "colab_type": "code",
        "outputId": "c03c559d-43b7-4eda-c47d-2a07436a914d",
        "colab": {
          "base_uri": "https://localhost:8080/",
          "height": 53
        }
      },
      "source": [
        "xgb_tuned = load_pickle(xgb_model_url)\n",
        "assert_is_not_none(xgb_tuned)\n",
        "rf_tuned = load_pickle(rf_model_url)\n",
        "assert_is_not_none(rf_tuned)"
      ],
      "execution_count": 56,
      "outputs": [
        {
          "output_type": "stream",
          "text": [
            "Model loaded.\n",
            "Model loaded.\n"
          ],
          "name": "stdout"
        }
      ]
    },
    {
      "cell_type": "markdown",
      "metadata": {
        "id": "rCWWy9G4m5NB",
        "colab_type": "text"
      },
      "source": [
        "The \"cv_results\" from the GridSearchCV are also exported and the code below shows the top 3 hyperparameter combinations, their RMSLE score and training time of every algorithm."
      ]
    },
    {
      "cell_type": "code",
      "metadata": {
        "id": "uElybnJ6yuDk",
        "colab_type": "code",
        "colab": {}
      },
      "source": [
        "xgb_cv = pd.read_csv(xgb_results_url)\n",
        "rf_cv = pd.read_csv(rf_results_url)\n",
        "br_cv = pd.read_csv(br_results_url)\n",
        "\n",
        "assert_is_not_none(xgb_cv)\n",
        "assert_is_not_none(rf_cv)\n",
        "assert_is_not_none(br_cv)\n"
      ],
      "execution_count": 0,
      "outputs": []
    },
    {
      "cell_type": "code",
      "metadata": {
        "id": "06z37cAEza_-",
        "colab_type": "code",
        "outputId": "705ed8de-c81f-4975-de60-36d8d8797290",
        "colab": {
          "base_uri": "https://localhost:8080/",
          "height": 337
        }
      },
      "source": [
        "xgb_cv[xgb_cv['rank_test_score']<4]"
      ],
      "execution_count": 58,
      "outputs": [
        {
          "output_type": "execute_result",
          "data": {
            "text/html": [
              "<div>\n",
              "<style scoped>\n",
              "    .dataframe tbody tr th:only-of-type {\n",
              "        vertical-align: middle;\n",
              "    }\n",
              "\n",
              "    .dataframe tbody tr th {\n",
              "        vertical-align: top;\n",
              "    }\n",
              "\n",
              "    .dataframe thead th {\n",
              "        text-align: right;\n",
              "    }\n",
              "</style>\n",
              "<table border=\"1\" class=\"dataframe\">\n",
              "  <thead>\n",
              "    <tr style=\"text-align: right;\">\n",
              "      <th></th>\n",
              "      <th>Unnamed: 0</th>\n",
              "      <th>mean_fit_time</th>\n",
              "      <th>std_fit_time</th>\n",
              "      <th>mean_score_time</th>\n",
              "      <th>std_score_time</th>\n",
              "      <th>param_learning_rate</th>\n",
              "      <th>param_max_depth</th>\n",
              "      <th>param_n_estimators</th>\n",
              "      <th>params</th>\n",
              "      <th>split0_test_score</th>\n",
              "      <th>split1_test_score</th>\n",
              "      <th>split2_test_score</th>\n",
              "      <th>split3_test_score</th>\n",
              "      <th>split4_test_score</th>\n",
              "      <th>mean_test_score</th>\n",
              "      <th>std_test_score</th>\n",
              "      <th>rank_test_score</th>\n",
              "    </tr>\n",
              "  </thead>\n",
              "  <tbody>\n",
              "    <tr>\n",
              "      <th>33</th>\n",
              "      <td>33</td>\n",
              "      <td>3.497402</td>\n",
              "      <td>1.566990</td>\n",
              "      <td>0.076649</td>\n",
              "      <td>0.002673</td>\n",
              "      <td>0.1</td>\n",
              "      <td>3</td>\n",
              "      <td>700</td>\n",
              "      <td>{'learning_rate': 0.1, 'max_depth': 3, 'n_esti...</td>\n",
              "      <td>-0.260154</td>\n",
              "      <td>-0.254605</td>\n",
              "      <td>-0.252486</td>\n",
              "      <td>-0.336358</td>\n",
              "      <td>-0.222330</td>\n",
              "      <td>-0.265187</td>\n",
              "      <td>0.037949</td>\n",
              "      <td>2</td>\n",
              "    </tr>\n",
              "    <tr>\n",
              "      <th>34</th>\n",
              "      <td>34</td>\n",
              "      <td>5.078070</td>\n",
              "      <td>2.297891</td>\n",
              "      <td>0.107770</td>\n",
              "      <td>0.006158</td>\n",
              "      <td>0.1</td>\n",
              "      <td>3</td>\n",
              "      <td>1000</td>\n",
              "      <td>{'learning_rate': 0.1, 'max_depth': 3, 'n_esti...</td>\n",
              "      <td>-0.258088</td>\n",
              "      <td>-0.252642</td>\n",
              "      <td>-0.254013</td>\n",
              "      <td>-0.335422</td>\n",
              "      <td>-0.224609</td>\n",
              "      <td>-0.264955</td>\n",
              "      <td>0.037180</td>\n",
              "      <td>1</td>\n",
              "    </tr>\n",
              "    <tr>\n",
              "      <th>35</th>\n",
              "      <td>35</td>\n",
              "      <td>6.052456</td>\n",
              "      <td>2.665480</td>\n",
              "      <td>0.129042</td>\n",
              "      <td>0.004138</td>\n",
              "      <td>0.1</td>\n",
              "      <td>3</td>\n",
              "      <td>1200</td>\n",
              "      <td>{'learning_rate': 0.1, 'max_depth': 3, 'n_esti...</td>\n",
              "      <td>-0.258826</td>\n",
              "      <td>-0.252185</td>\n",
              "      <td>-0.252354</td>\n",
              "      <td>-0.335962</td>\n",
              "      <td>-0.226670</td>\n",
              "      <td>-0.265199</td>\n",
              "      <td>0.037059</td>\n",
              "      <td>3</td>\n",
              "    </tr>\n",
              "  </tbody>\n",
              "</table>\n",
              "</div>"
            ],
            "text/plain": [
              "    Unnamed: 0  mean_fit_time  ...  std_test_score  rank_test_score\n",
              "33          33       3.497402  ...        0.037949                2\n",
              "34          34       5.078070  ...        0.037180                1\n",
              "35          35       6.052456  ...        0.037059                3\n",
              "\n",
              "[3 rows x 17 columns]"
            ]
          },
          "metadata": {
            "tags": []
          },
          "execution_count": 58
        }
      ]
    },
    {
      "cell_type": "code",
      "metadata": {
        "id": "mnrv-dPpzdtO",
        "colab_type": "code",
        "outputId": "90b58a78-28e8-4d30-bab1-4b6ede7b773e",
        "colab": {
          "base_uri": "https://localhost:8080/",
          "height": 285
        }
      },
      "source": [
        "rf_cv[rf_cv['rank_test_score']<4]"
      ],
      "execution_count": 59,
      "outputs": [
        {
          "output_type": "execute_result",
          "data": {
            "text/html": [
              "<div>\n",
              "<style scoped>\n",
              "    .dataframe tbody tr th:only-of-type {\n",
              "        vertical-align: middle;\n",
              "    }\n",
              "\n",
              "    .dataframe tbody tr th {\n",
              "        vertical-align: top;\n",
              "    }\n",
              "\n",
              "    .dataframe thead th {\n",
              "        text-align: right;\n",
              "    }\n",
              "</style>\n",
              "<table border=\"1\" class=\"dataframe\">\n",
              "  <thead>\n",
              "    <tr style=\"text-align: right;\">\n",
              "      <th></th>\n",
              "      <th>Unnamed: 0</th>\n",
              "      <th>mean_fit_time</th>\n",
              "      <th>std_fit_time</th>\n",
              "      <th>mean_score_time</th>\n",
              "      <th>std_score_time</th>\n",
              "      <th>param_max_depth</th>\n",
              "      <th>param_min_samples_leaf</th>\n",
              "      <th>param_n_estimators</th>\n",
              "      <th>params</th>\n",
              "      <th>split0_test_score</th>\n",
              "      <th>split1_test_score</th>\n",
              "      <th>split2_test_score</th>\n",
              "      <th>split3_test_score</th>\n",
              "      <th>split4_test_score</th>\n",
              "      <th>mean_test_score</th>\n",
              "      <th>std_test_score</th>\n",
              "      <th>rank_test_score</th>\n",
              "    </tr>\n",
              "  </thead>\n",
              "  <tbody>\n",
              "    <tr>\n",
              "      <th>74</th>\n",
              "      <td>74</td>\n",
              "      <td>6.612388</td>\n",
              "      <td>2.989932</td>\n",
              "      <td>0.105871</td>\n",
              "      <td>0.007141</td>\n",
              "      <td>9</td>\n",
              "      <td>5</td>\n",
              "      <td>500</td>\n",
              "      <td>{'max_depth': 9, 'min_samples_leaf': 5, 'n_est...</td>\n",
              "      <td>-0.408686</td>\n",
              "      <td>-0.294892</td>\n",
              "      <td>-0.278297</td>\n",
              "      <td>-0.369949</td>\n",
              "      <td>-0.243278</td>\n",
              "      <td>-0.319020</td>\n",
              "      <td>0.061010</td>\n",
              "      <td>1</td>\n",
              "    </tr>\n",
              "    <tr>\n",
              "      <th>75</th>\n",
              "      <td>75</td>\n",
              "      <td>9.933559</td>\n",
              "      <td>4.478371</td>\n",
              "      <td>0.155697</td>\n",
              "      <td>0.012245</td>\n",
              "      <td>9</td>\n",
              "      <td>5</td>\n",
              "      <td>750</td>\n",
              "      <td>{'max_depth': 9, 'min_samples_leaf': 5, 'n_est...</td>\n",
              "      <td>-0.408514</td>\n",
              "      <td>-0.294931</td>\n",
              "      <td>-0.279140</td>\n",
              "      <td>-0.370003</td>\n",
              "      <td>-0.242958</td>\n",
              "      <td>-0.319109</td>\n",
              "      <td>0.060934</td>\n",
              "      <td>2</td>\n",
              "    </tr>\n",
              "    <tr>\n",
              "      <th>77</th>\n",
              "      <td>77</td>\n",
              "      <td>15.919977</td>\n",
              "      <td>7.166965</td>\n",
              "      <td>0.266166</td>\n",
              "      <td>0.050405</td>\n",
              "      <td>9</td>\n",
              "      <td>5</td>\n",
              "      <td>1200</td>\n",
              "      <td>{'max_depth': 9, 'min_samples_leaf': 5, 'n_est...</td>\n",
              "      <td>-0.409843</td>\n",
              "      <td>-0.294634</td>\n",
              "      <td>-0.278849</td>\n",
              "      <td>-0.369899</td>\n",
              "      <td>-0.242969</td>\n",
              "      <td>-0.319239</td>\n",
              "      <td>0.061367</td>\n",
              "      <td>3</td>\n",
              "    </tr>\n",
              "  </tbody>\n",
              "</table>\n",
              "</div>"
            ],
            "text/plain": [
              "    Unnamed: 0  mean_fit_time  ...  std_test_score  rank_test_score\n",
              "74          74       6.612388  ...        0.061010                1\n",
              "75          75       9.933559  ...        0.060934                2\n",
              "77          77      15.919977  ...        0.061367                3\n",
              "\n",
              "[3 rows x 17 columns]"
            ]
          },
          "metadata": {
            "tags": []
          },
          "execution_count": 59
        }
      ]
    },
    {
      "cell_type": "code",
      "metadata": {
        "id": "IsTWryyi1rlH",
        "colab_type": "code",
        "outputId": "311eddb5-ca60-4c2d-90af-0478ae33f42b",
        "colab": {
          "base_uri": "https://localhost:8080/",
          "height": 233
        }
      },
      "source": [
        "br_cv[br_cv['rank_test_score']<4]"
      ],
      "execution_count": 60,
      "outputs": [
        {
          "output_type": "execute_result",
          "data": {
            "text/html": [
              "<div>\n",
              "<style scoped>\n",
              "    .dataframe tbody tr th:only-of-type {\n",
              "        vertical-align: middle;\n",
              "    }\n",
              "\n",
              "    .dataframe tbody tr th {\n",
              "        vertical-align: top;\n",
              "    }\n",
              "\n",
              "    .dataframe thead th {\n",
              "        text-align: right;\n",
              "    }\n",
              "</style>\n",
              "<table border=\"1\" class=\"dataframe\">\n",
              "  <thead>\n",
              "    <tr style=\"text-align: right;\">\n",
              "      <th></th>\n",
              "      <th>Unnamed: 0</th>\n",
              "      <th>mean_fit_time</th>\n",
              "      <th>std_fit_time</th>\n",
              "      <th>mean_score_time</th>\n",
              "      <th>std_score_time</th>\n",
              "      <th>param_n_estimators</th>\n",
              "      <th>params</th>\n",
              "      <th>split0_test_score</th>\n",
              "      <th>split1_test_score</th>\n",
              "      <th>split2_test_score</th>\n",
              "      <th>split3_test_score</th>\n",
              "      <th>split4_test_score</th>\n",
              "      <th>mean_test_score</th>\n",
              "      <th>std_test_score</th>\n",
              "      <th>rank_test_score</th>\n",
              "    </tr>\n",
              "  </thead>\n",
              "  <tbody>\n",
              "    <tr>\n",
              "      <th>1</th>\n",
              "      <td>1</td>\n",
              "      <td>2.601228</td>\n",
              "      <td>1.288873</td>\n",
              "      <td>0.055840</td>\n",
              "      <td>0.009157</td>\n",
              "      <td>100</td>\n",
              "      <td>{'n_estimators': 100}</td>\n",
              "      <td>-0.388734</td>\n",
              "      <td>-0.265766</td>\n",
              "      <td>-0.281777</td>\n",
              "      <td>-0.351639</td>\n",
              "      <td>-0.225950</td>\n",
              "      <td>-0.302773</td>\n",
              "      <td>0.059143</td>\n",
              "      <td>3</td>\n",
              "    </tr>\n",
              "    <tr>\n",
              "      <th>2</th>\n",
              "      <td>2</td>\n",
              "      <td>13.103074</td>\n",
              "      <td>6.651733</td>\n",
              "      <td>0.267295</td>\n",
              "      <td>0.042216</td>\n",
              "      <td>500</td>\n",
              "      <td>{'n_estimators': 500}</td>\n",
              "      <td>-0.388584</td>\n",
              "      <td>-0.266261</td>\n",
              "      <td>-0.277952</td>\n",
              "      <td>-0.350944</td>\n",
              "      <td>-0.224200</td>\n",
              "      <td>-0.301588</td>\n",
              "      <td>0.059665</td>\n",
              "      <td>2</td>\n",
              "    </tr>\n",
              "    <tr>\n",
              "      <th>3</th>\n",
              "      <td>3</td>\n",
              "      <td>25.663069</td>\n",
              "      <td>12.917455</td>\n",
              "      <td>0.526832</td>\n",
              "      <td>0.083553</td>\n",
              "      <td>1000</td>\n",
              "      <td>{'n_estimators': 1000}</td>\n",
              "      <td>-0.386537</td>\n",
              "      <td>-0.266222</td>\n",
              "      <td>-0.278553</td>\n",
              "      <td>-0.350982</td>\n",
              "      <td>-0.223919</td>\n",
              "      <td>-0.301242</td>\n",
              "      <td>0.059109</td>\n",
              "      <td>1</td>\n",
              "    </tr>\n",
              "  </tbody>\n",
              "</table>\n",
              "</div>"
            ],
            "text/plain": [
              "   Unnamed: 0  mean_fit_time  ...  std_test_score  rank_test_score\n",
              "1           1       2.601228  ...        0.059143                3\n",
              "2           2      13.103074  ...        0.059665                2\n",
              "3           3      25.663069  ...        0.059109                1\n",
              "\n",
              "[3 rows x 15 columns]"
            ]
          },
          "metadata": {
            "tags": []
          },
          "execution_count": 60
        }
      ]
    },
    {
      "cell_type": "code",
      "metadata": {
        "id": "EHrNmERkOhDt",
        "colab_type": "code",
        "outputId": "0c83dc70-c5c9-4157-d81a-4d7a5511f167",
        "colab": {
          "base_uri": "https://localhost:8080/",
          "height": 520
        }
      },
      "source": [
        "def convert_df(df,name):\n",
        "    \"\"\"\n",
        "    Function to convert the cv_result DataFrame for plotting.\n",
        "    \n",
        "    Inputs\n",
        "    -------\n",
        "    - df: DataFrame generated by GridSearchCV\n",
        "    - name: name of the algorithm tuned with GridSearchCV\n",
        "    \n",
        "    Returns\n",
        "    -------\n",
        "    - converted DataFrame suitable for barplot\n",
        "    \"\"\"\n",
        "    assert_is_not_none(df)\n",
        "    assert_is_instance(df, pd.DataFrame)\n",
        "    test_set = set(['rank_test_score','split0_test_score','split1_test_score','split2_test_score',\n",
        "                   'split3_test_score','split4_test_score'])\n",
        "    assert_true(test_set.issubset(set(df.columns)))\n",
        "\n",
        "    \n",
        "    t = df[df['rank_test_score']==1][['split0_test_score','split1_test_score','split2_test_score','split3_test_score','split4_test_score']]\n",
        "    t = -t.T\n",
        "    t=t.reset_index()\n",
        "    t.columns=['algorithm','RMSLE_score']\n",
        "    t.algorithm = name\n",
        "    return t\n",
        "clean = convert_df(xgb_cv,'XGBoost')\n",
        "clean = clean.append(convert_df(rf_cv,'RandomForest'))\n",
        "clean = clean.append(convert_df(br_cv,'BaggingRegressor'))\n",
        "clean"
      ],
      "execution_count": 61,
      "outputs": [
        {
          "output_type": "execute_result",
          "data": {
            "text/html": [
              "<div>\n",
              "<style scoped>\n",
              "    .dataframe tbody tr th:only-of-type {\n",
              "        vertical-align: middle;\n",
              "    }\n",
              "\n",
              "    .dataframe tbody tr th {\n",
              "        vertical-align: top;\n",
              "    }\n",
              "\n",
              "    .dataframe thead th {\n",
              "        text-align: right;\n",
              "    }\n",
              "</style>\n",
              "<table border=\"1\" class=\"dataframe\">\n",
              "  <thead>\n",
              "    <tr style=\"text-align: right;\">\n",
              "      <th></th>\n",
              "      <th>algorithm</th>\n",
              "      <th>RMSLE_score</th>\n",
              "    </tr>\n",
              "  </thead>\n",
              "  <tbody>\n",
              "    <tr>\n",
              "      <th>0</th>\n",
              "      <td>XGBoost</td>\n",
              "      <td>0.258088</td>\n",
              "    </tr>\n",
              "    <tr>\n",
              "      <th>1</th>\n",
              "      <td>XGBoost</td>\n",
              "      <td>0.252642</td>\n",
              "    </tr>\n",
              "    <tr>\n",
              "      <th>2</th>\n",
              "      <td>XGBoost</td>\n",
              "      <td>0.254013</td>\n",
              "    </tr>\n",
              "    <tr>\n",
              "      <th>3</th>\n",
              "      <td>XGBoost</td>\n",
              "      <td>0.335422</td>\n",
              "    </tr>\n",
              "    <tr>\n",
              "      <th>4</th>\n",
              "      <td>XGBoost</td>\n",
              "      <td>0.224609</td>\n",
              "    </tr>\n",
              "    <tr>\n",
              "      <th>0</th>\n",
              "      <td>RandomForest</td>\n",
              "      <td>0.408686</td>\n",
              "    </tr>\n",
              "    <tr>\n",
              "      <th>1</th>\n",
              "      <td>RandomForest</td>\n",
              "      <td>0.294892</td>\n",
              "    </tr>\n",
              "    <tr>\n",
              "      <th>2</th>\n",
              "      <td>RandomForest</td>\n",
              "      <td>0.278297</td>\n",
              "    </tr>\n",
              "    <tr>\n",
              "      <th>3</th>\n",
              "      <td>RandomForest</td>\n",
              "      <td>0.369949</td>\n",
              "    </tr>\n",
              "    <tr>\n",
              "      <th>4</th>\n",
              "      <td>RandomForest</td>\n",
              "      <td>0.243278</td>\n",
              "    </tr>\n",
              "    <tr>\n",
              "      <th>0</th>\n",
              "      <td>BaggingRegressor</td>\n",
              "      <td>0.386537</td>\n",
              "    </tr>\n",
              "    <tr>\n",
              "      <th>1</th>\n",
              "      <td>BaggingRegressor</td>\n",
              "      <td>0.266222</td>\n",
              "    </tr>\n",
              "    <tr>\n",
              "      <th>2</th>\n",
              "      <td>BaggingRegressor</td>\n",
              "      <td>0.278553</td>\n",
              "    </tr>\n",
              "    <tr>\n",
              "      <th>3</th>\n",
              "      <td>BaggingRegressor</td>\n",
              "      <td>0.350982</td>\n",
              "    </tr>\n",
              "    <tr>\n",
              "      <th>4</th>\n",
              "      <td>BaggingRegressor</td>\n",
              "      <td>0.223919</td>\n",
              "    </tr>\n",
              "  </tbody>\n",
              "</table>\n",
              "</div>"
            ],
            "text/plain": [
              "          algorithm  RMSLE_score\n",
              "0           XGBoost     0.258088\n",
              "1           XGBoost     0.252642\n",
              "2           XGBoost     0.254013\n",
              "3           XGBoost     0.335422\n",
              "4           XGBoost     0.224609\n",
              "0      RandomForest     0.408686\n",
              "1      RandomForest     0.294892\n",
              "2      RandomForest     0.278297\n",
              "3      RandomForest     0.369949\n",
              "4      RandomForest     0.243278\n",
              "0  BaggingRegressor     0.386537\n",
              "1  BaggingRegressor     0.266222\n",
              "2  BaggingRegressor     0.278553\n",
              "3  BaggingRegressor     0.350982\n",
              "4  BaggingRegressor     0.223919"
            ]
          },
          "metadata": {
            "tags": []
          },
          "execution_count": 61
        }
      ]
    },
    {
      "cell_type": "markdown",
      "metadata": {
        "id": "BytQtdtToLRZ",
        "colab_type": "text"
      },
      "source": [
        "The results of cross validation shows that XGBoost have the smallest RMSLE error min rmlse=0.22 and max rmsle=0.34. The next steps are feature importance analysis, to test the algorithms on the testing set and residuals analysis of XGBoost and Random Forrest. A code block from [21] is used for the feature importance graphics."
      ]
    },
    {
      "cell_type": "code",
      "metadata": {
        "id": "ejeulJTSUcKb",
        "colab_type": "code",
        "outputId": "1c887c84-d2af-4f55-cfef-42e0616667e3",
        "colab": {
          "base_uri": "https://localhost:8080/",
          "height": 377
        }
      },
      "source": [
        "plot_performance(clean, x='algorithm',y='RMSLE_score')"
      ],
      "execution_count": 62,
      "outputs": [
        {
          "output_type": "display_data",
          "data": {
            "image/png": "[encoded data removed]",
            "text/plain": [
              "<Figure size 432x288 with 1 Axes>"
            ]
          },
          "metadata": {
            "tags": []
          }
        }
      ]
    },
    {
      "cell_type": "markdown",
      "metadata": {
        "id": "2EHfs0bOumBB",
        "colab_type": "text"
      },
      "source": [
        "## 3.4.Feature importance"
      ]
    },
    {
      "cell_type": "code",
      "metadata": {
        "id": "5D2gIn9Iht_F",
        "colab_type": "code",
        "outputId": "3986582d-2b47-4b00-c074-eedb27596cc8",
        "colab": {
          "base_uri": "https://localhost:8080/",
          "height": 573
        }
      },
      "source": [
        "def plot_importance(model):\n",
        "    \"\"\"\n",
        "    Fuction to plot variable importance from machine learning model.\n",
        "    Note: the model requires to have \"model.feature_importances_\".\n",
        "    \n",
        "    Inputs\n",
        "    -------\n",
        "    - model: a model with a object \".feature_importances_\"\n",
        "\n",
        "    Returns\n",
        "    -------\n",
        "    - feature importance plot\n",
        "    \n",
        "\n",
        "    \"\"\"\n",
        "    assert_is_not_none(model.feature_importances_)\n",
        "\n",
        "    feature_importance = model.feature_importances_\n",
        "    # make importances relative to max importance\n",
        "    feature_importance = 100.0 * (feature_importance / feature_importance.max())\n",
        "    sorted_idx = np.argsort(feature_importance)\n",
        "    pos = np.arange(sorted_idx.shape[0]) + .5\n",
        "    plt.barh(pos, feature_importance[sorted_idx], align='center')\n",
        "    plt.yticks(pos, X_train.columns[sorted_idx])\n",
        "    plt.xlabel('Relative Importance')\n",
        "    plt.title(f'Variable Importance {model.__class__.__name__}')\n",
        "    plt.show()\n",
        "\n",
        "plot_importance(xgb_tuned)\n",
        "plot_importance(rf_tuned)"
      ],
      "execution_count": 63,
      "outputs": [
        {
          "output_type": "display_data",
          "data": {
            "image/png": "[encoded data removed]",
            "text/plain": [
              "<Figure size 432x288 with 1 Axes>"
            ]
          },
          "metadata": {
            "tags": []
          }
        },
        {
          "output_type": "display_data",
          "data": {
            "image/png": "[encoded data removed]",
            "text/plain": [
              "<Figure size 432x288 with 1 Axes>"
            ]
          },
          "metadata": {
            "tags": []
          }
        }
      ]
    },
    {
      "cell_type": "markdown",
      "metadata": {
        "id": "ki5_kp76ub27",
        "colab_type": "text"
      },
      "source": [
        "## 3.5.Scoring on the testing set."
      ]
    },
    {
      "cell_type": "code",
      "metadata": {
        "id": "O_joNOt1HVOg",
        "colab_type": "code",
        "colab": {}
      },
      "source": [
        "def plot_scores(model,X_train,y_train):\n",
        "    \"\"\"\n",
        "    Functon to plot scores RMSE, MAE, R^2, RMSLE from model.\n",
        "    \n",
        "    Inputs\n",
        "    -------\n",
        "    - model: a trained model\n",
        "    - X_train: X_train or X_test DataFrame/Series\n",
        "    - y_train: y_train or y_test DataFrame/Series\n",
        "    \n",
        "    \n",
        "    \"\"\"\n",
        "\n",
        "    assert(y_train.shape[0] == X_train.shape[0])\n",
        "    \n",
        "    print(\"Model parameters \", model.__class__.__name__)\n",
        "    prediction_train = np.expm1((model.predict(X_train).clip(min=0)))\n",
        "    y_train = np.expm1(y_train)\n",
        "    print(\"Root Mean Squared Error: \" + str(np.sqrt(mean_squared_error(y_train, prediction_train))))\n",
        "    print(\"Mean Absolute Error: \" + str(mean_absolute_error(y_train, prediction_train)))\n",
        "    print(\"R^2 Coefficient of Determination: \" + str(r2_score(y_train, prediction_train)))\n",
        "    print('RMSLE:', np.sqrt(mean_squared_log_error(y_train, prediction_train)))\n",
        "    "
      ],
      "execution_count": 0,
      "outputs": []
    },
    {
      "cell_type": "code",
      "metadata": {
        "id": "2CRgwJ-ceKSK",
        "colab_type": "code",
        "outputId": "29be0240-b494-49c7-8e20-fed66411c598",
        "colab": {
          "base_uri": "https://localhost:8080/",
          "height": 106
        }
      },
      "source": [
        "plot_scores(xgb_tuned,X_test,y_test)"
      ],
      "execution_count": 65,
      "outputs": [
        {
          "output_type": "stream",
          "text": [
            "Model parameters  XGBRegressor\n",
            "Root Mean Squared Error: 312.3925589930224\n",
            "Mean Absolute Error: 175.33530488849257\n",
            "R^2 Coefficient of Determination: 0.9282696382019374\n",
            "RMSLE: 0.26110838087194405\n"
          ],
          "name": "stdout"
        }
      ]
    },
    {
      "cell_type": "code",
      "metadata": {
        "id": "e_3aguqeeVnT",
        "colab_type": "code",
        "outputId": "a5719d01-e4d8-40d9-aa33-d9c9a94161f8",
        "colab": {
          "base_uri": "https://localhost:8080/",
          "height": 106
        }
      },
      "source": [
        "plot_scores(rf_tuned,X_test,y_test)"
      ],
      "execution_count": 66,
      "outputs": [
        {
          "output_type": "stream",
          "text": [
            "Model parameters  RandomForestRegressor\n",
            "Root Mean Squared Error: 356.48627546107673\n",
            "Mean Absolute Error: 214.03176966061656\n",
            "R^2 Coefficient of Determination: 0.9065913084155957\n",
            "RMSLE: 0.2807316617430389\n"
          ],
          "name": "stdout"
        }
      ]
    },
    {
      "cell_type": "markdown",
      "metadata": {
        "id": "OBF83o3LvWcG",
        "colab_type": "text"
      },
      "source": [
        "The XGBoost is performing better compared to the Random Forest,another possible optimization is to take the mean of the 2 algorithms. "
      ]
    },
    {
      "cell_type": "code",
      "metadata": {
        "id": "JokIEKxHe76D",
        "colab_type": "code",
        "outputId": "4c0b9c61-b73f-4b77-e04f-bd14b2b67ffd",
        "colab": {
          "base_uri": "https://localhost:8080/",
          "height": 35
        }
      },
      "source": [
        "algo_xgb = xgb_tuned.predict(X_test)\n",
        "algo_rf = rf_tuned.predict(X_test)\n",
        "mean =  (np.expm1(algo_xgb) + np.expm1(algo_rf))/2\n",
        "mean_log = np.log1p(mean)\n",
        "print(\"RMSLE of combined XGBoost and Random Forrest = \",rmsle(y_test,mean_log))"
      ],
      "execution_count": 67,
      "outputs": [
        {
          "output_type": "stream",
          "text": [
            "RMSLE of combined XGBoost and Random Forrest =  0.25573199619778525\n"
          ],
          "name": "stdout"
        }
      ]
    },
    {
      "cell_type": "markdown",
      "metadata": {
        "id": "Eu6VBEkMuprW",
        "colab_type": "text"
      },
      "source": [
        "## 3.6.Analysing residuals"
      ]
    },
    {
      "cell_type": "markdown",
      "metadata": {
        "id": "aLVN8paNxEMz",
        "colab_type": "text"
      },
      "source": [
        "There are different methods to perform a normal distribution test [19]. Some of them are Shapiro-Wilk Test, D’Agostino’s K^2 Test, Anderson-Darling Test. The Shapiro-Wilk Test requires the maximum size of the distribution to be less than 5000. The testing set is slightly bigger that this value, so for the research is performed D’Agostino’s K^2 Test.  \n",
        "For further analysis 3 plots are created - scatter plot, histogram and Q-Q plot of the residuals."
      ]
    },
    {
      "cell_type": "code",
      "metadata": {
        "id": "OVhrgL8D3LfX",
        "colab_type": "code",
        "outputId": "6b59cbfe-cf80-4e0f-a36a-9917a2f4f400",
        "colab": {
          "base_uri": "https://localhost:8080/",
          "height": 888
        }
      },
      "source": [
        "\n",
        "def residual_plot(y_test, y_predicted,main_title):\n",
        "    \"\"\"\n",
        "    Function to plot the residual distribution calculated from y_test and y_predicted.\n",
        "    \n",
        "    Inputs\n",
        "    -------\n",
        "    - y_test: the log transformed target values\n",
        "    - y_predicted: raw predictions from the algorithm\n",
        "    - main_title: main title of the plot\n",
        "    \n",
        "    Returns\n",
        "    -------\n",
        "    - a plot containing 3 subplots: Scatter plot, Histogram and Q-Q plot\n",
        "    \n",
        "    \n",
        "    \"\"\"\n",
        "    res =  np.expm1(y_test) - np.expm1(y_predicted)\n",
        "    fig, axs = plt.subplots(1,3, figsize=(25, 5))\n",
        "    ##D’Agostino’s K^2 Test\n",
        "    stat, p = stats.normaltest(res)\n",
        "    print(\"Performing a D’Agostino’s K^2 Test for a normal distribution of residuals.\")\n",
        "    print(\"H0 = The distribution is Gaussian.P value to reject H0 is p= 0.05 = 5%\")\n",
        "    print('Statistics=%.3f, p=%.5f' % (stat, p))\n",
        "    # interpretation of the test\n",
        "    alpha = 0.05\n",
        "    if p > alpha:\n",
        "        print(\"failed to reject H0 (H0 = The distribution is Gaussian).Can't accept any hypothesis. \")\n",
        "    else:\n",
        "        print('The distribution does not look Gaussian (H0 is rejected)')\n",
        "    #End of D’Agostino’s K^2 Test\n",
        "    #Begin of plotting\n",
        "    plt.suptitle(f'{main_title} ; mean_residual =  {res.mean():.1f}, std= {res.std():.1f},  skew =  {res.skew():.4f} , kurtosis= {res.kurtosis():.2f}'  )\n",
        "    axs[0].title.set_text('Scatter Plot y_test vs residuals(true-predicted)')\n",
        "    axs[0].scatter(np.expm1(y_test),res)\n",
        "    axs[1].title.set_text('Histogram of residuals')\n",
        "    sns.distplot(res, fit=norm, ax = axs[1]);\n",
        "    axs[2].title.set_text('Q-Q plot')\n",
        "    sm.qqplot(res, stats.t, distargs=(4,),line = 's', ax=axs[2])\n",
        "    plt.show()\n",
        "\n",
        "residual_plot(y_test, xgb_tuned.predict(X_test) ,\"Residual plots of XGBoost predictions\")\n",
        "residual_plot(y_test, rf_tuned.predict(X_test) ,\"Residual plots of RandomForrest predictions\")\n",
        "\n"
      ],
      "execution_count": 71,
      "outputs": [
        {
          "output_type": "stream",
          "text": [
            "Performing a D’Agostino’s K^2 Test for a normal distribution of residuals.\n",
            "H0 = The distribution is Gaussian.P value to reject H0 is p= 0.05 = 5%\n",
            "Statistics=1688.031, p=0.00000\n",
            "The distribution does not look Gaussian (H0 is rejected)\n"
          ],
          "name": "stdout"
        },
        {
          "output_type": "display_data",
          "data": {
            "image/png": "[encoded data removed]",
            "text/plain": [
              "<Figure size 1800x360 with 3 Axes>"
            ]
          },
          "metadata": {
            "tags": []
          }
        },
        {
          "output_type": "stream",
          "text": [
            "Performing a D’Agostino’s K^2 Test for a normal distribution of residuals.\n",
            "H0 = The distribution is Gaussian.P value to reject H0 is p= 0.05 = 5%\n",
            "Statistics=1570.389, p=0.00000\n",
            "The distribution does not look Gaussian (H0 is rejected)\n"
          ],
          "name": "stdout"
        },
        {
          "output_type": "display_data",
          "data": {
            "image/png": "[encoded data removed]",
            "text/plain": [
              "<Figure size 1800x360 with 3 Axes>"
            ]
          },
          "metadata": {
            "tags": []
          }
        }
      ]
    },
    {
      "cell_type": "markdown",
      "metadata": {
        "id": "9OwOiNhU1Tm4",
        "colab_type": "text"
      },
      "source": [
        "There are some outliers that are visible in the scatter plot and histogram, but most of the quantity of residuals are near 0. The shape of residuals on the scatter plot is affected by the RMSLE metric. Underestimates have greater penalty than overestimates and the scoring is performed on percentage error - huge difference on high value predictions are not so much penalized. This metric reduces the effect of errors generated by outliers in dataset.\n",
        "The residuals of both models 'XGBoost' and 'Random Forest' are not normally distributed(Gaussian). The **H<sub>0</sub>** - *'The distribution is Gaussian'* is rejected with the D’Agostino’s K^2 Test with P value = 0.0000. On both models residual's mean is positive and close to 0. \n",
        "\n",
        ">\"*A distribution with kurtosis >3 (excess kurtosis >0) is called **leptokurtic**. Compared to a normal distribution, its tails are longer and fatter, and often its central peak is higher and sharper.*\" - [17]\n",
        "\n",
        ">\"*In general, leptokurtic distributions have heavier tails or a higher probability of extreme outlier values when compared to mesokurtic or platykurtic distributions.*\" - [18]  \n",
        "\n",
        "> \"*Quantile plots : This type of is to assess whether the distribution of the residual is normal or not. The graph is between the actual distribution of residual quantiles and a perfectly normal distribution residuals. If the graph is perfectly overlaying on the diagonal, the residual is normally distributed. *\"-[28]  \n",
        "\n",
        "In the Q-Q plot the actual distribution of residuals are not well fitted to the theoretical quantiles(the red line), also the residuals are in between [-11σ ;11σ] which is very big interval for a normal distribution.   \n",
        "The Random forest residuals have positive skew and positive mean. Also with increasing of the predicting variable the residuals also increase, but only in positive direction. The variance of the residuals is increasing and there is a positive systematic error with increasing of the predicted variable.  \n",
        "The residuals of XGBoost looks better in this terms, still there are outliers, but the mean of the residuals is closer to zero, Q-Q plot is better fitted than Random Forest."
      ]
    },
    {
      "cell_type": "markdown",
      "metadata": {
        "id": "ccdBZdH4sVVK",
        "colab_type": "text"
      },
      "source": [
        "## 3.7.Performance evaluation"
      ]
    },
    {
      "cell_type": "markdown",
      "metadata": {
        "id": "zEV1ithtzkbn",
        "colab_type": "text"
      },
      "source": [
        "With the XGBoost the best achieved RMSLE score is 0.2611, converted to a standard deviation is e<sup>0.2611</sup> is 1.30. So the upper and lower boundary of probability interval, calculated with ±1standart deviation are 1.30 times greater and lesser than the actual prediction (similar example in [31] - page637). If we take the average of transformed predictions of both algorithms the RMLSE score is 0.2557. Converted this to a standard deviation is e<sup>0.2557</sup> is 1.29 times of a prediction.  \n",
        "The XGBoost have overfitting problems, even overfits on test set, when the predictions on the both sets are good, but on production have poor performance."
      ]
    },
    {
      "cell_type": "code",
      "metadata": {
        "id": "RRU6QPufKnLr",
        "colab_type": "code",
        "outputId": "b1134d48-3dae-4442-a7b2-500474f5e3ab",
        "colab": {
          "base_uri": "https://localhost:8080/",
          "height": 499
        }
      },
      "source": [
        "print('---------Model evaluation on train set---------------')\n",
        "plot_scores(xgb_tuned,X_train,y_train)\n",
        "print('\\n--------Model evaluation on test set---------------')\n",
        "plot_scores(xgb_tuned,X_test,y_test)\n",
        "\n",
        "print('\\n---------Model evaluation on train set---------------')\n",
        "plot_scores(rf_tuned,X_train,y_train)\n",
        "print('\\n--------Model evaluation on test set---------------')\n",
        "plot_scores(rf_tuned,X_test,y_test)"
      ],
      "execution_count": 69,
      "outputs": [
        {
          "output_type": "stream",
          "text": [
            "---------Model evaluation on train set---------------\n",
            "Model parameters  XGBRegressor\n",
            "Root Mean Squared Error: 198.52900708916587\n",
            "Mean Absolute Error: 108.53044065888105\n",
            "R^2 Coefficient of Determination: 0.9638006035466156\n",
            "RMSLE: 0.18768209217187684\n",
            "\n",
            "--------Model evaluation on test set---------------\n",
            "Model parameters  XGBRegressor\n",
            "Root Mean Squared Error: 312.3925589930224\n",
            "Mean Absolute Error: 175.33530488849257\n",
            "R^2 Coefficient of Determination: 0.9282696382019374\n",
            "RMSLE: 0.26110838087194405\n",
            "\n",
            "---------Model evaluation on train set---------------\n",
            "Model parameters  RandomForestRegressor\n",
            "Root Mean Squared Error: 258.4845798704384\n",
            "Mean Absolute Error: 141.39096739435507\n",
            "R^2 Coefficient of Determination: 0.9386347272945318\n",
            "RMSLE: 0.22211807213954796\n",
            "\n",
            "--------Model evaluation on test set---------------\n",
            "Model parameters  RandomForestRegressor\n",
            "Root Mean Squared Error: 356.48627546107673\n",
            "Mean Absolute Error: 214.03176966061656\n",
            "R^2 Coefficient of Determination: 0.9065913084155957\n",
            "RMSLE: 0.2807316617430389\n"
          ],
          "name": "stdout"
        }
      ]
    },
    {
      "cell_type": "code",
      "metadata": {
        "id": "mYoJfTZWNFXj",
        "colab_type": "code",
        "outputId": "1e4ad435-2475-4389-fb6e-89855f8eab72",
        "colab": {
          "base_uri": "https://localhost:8080/",
          "height": 35
        }
      },
      "source": [
        "target_rmsle = np.log(1.25)\n",
        "target_rmsle"
      ],
      "execution_count": 70,
      "outputs": [
        {
          "output_type": "execute_result",
          "data": {
            "text/plain": [
              "0.22314355131420976"
            ]
          },
          "metadata": {
            "tags": []
          },
          "execution_count": 70
        }
      ]
    },
    {
      "cell_type": "markdown",
      "metadata": {
        "id": "HJ3rL0z5k1Vb",
        "colab_type": "text"
      },
      "source": [
        "If we accept a target(base) error for our predictions of 25% and convert this to RMSLE score = 0.2231."
      ]
    },
    {
      "cell_type": "markdown",
      "metadata": {
        "id": "Rr0HToPhqVZI",
        "colab_type": "text"
      },
      "source": [
        "<table class=\"tg\">\n",
        "  <tr>\n",
        "    <th class=\"tg-0lax\"></th>\n",
        "    <th class=\"tg-0lax\">algorithm</th>\n",
        "    <th class=\"tg-0pky\">RMSLE score</th>\n",
        "    <th class=\"tg-dvpl\">difference in RMSLE(test-train score)<br></th>\n",
        "  </tr>\n",
        "  <tr>\n",
        "    <td class=\"tg-0lax\">train</td>\n",
        "    <td class=\"tg-0lax\">XGboost</td>\n",
        "    <td class=\"tg-0pky\">0.1877</td>\n",
        "    <td class=\"tg-0pky\" rowspan=\"2\">0.0734</td>\n",
        "  </tr>\n",
        "  <tr>\n",
        "    <td class=\"tg-0lax\">test</td>\n",
        "    <td class=\"tg-0lax\">XGboost</td>\n",
        "    <td class=\"tg-0pky\">0.2611</td>\n",
        "  </tr>\n",
        "  <tr>\n",
        "    <td class=\"tg-0lax\">train</td>\n",
        "    <td class=\"tg-0lax\">Random Forest</td>\n",
        "    <td class=\"tg-0pky\">0.2221</td>\n",
        "    <td class=\"tg-0pky\" rowspan=\"2\">0.0586</td>\n",
        "  </tr>\n",
        "  <tr>\n",
        "    <td class=\"tg-0lax\">test</td>\n",
        "    <td class=\"tg-0lax\">Random Forest</td>\n",
        "    <td class=\"tg-0pky\">0.2807</td>\n",
        "  </tr>\n",
        "</table>"
      ]
    },
    {
      "cell_type": "markdown",
      "metadata": {
        "id": "DR-2F5FEsWv5",
        "colab_type": "text"
      },
      "source": [
        "Both algorithms performed great on the train set - low bias. The difference between train and test set scores shows high variance."
      ]
    },
    {
      "cell_type": "markdown",
      "metadata": {
        "id": "EB4fgipy3uy2",
        "colab_type": "text"
      },
      "source": [
        "## **Conclusion**:  \n",
        "The tuned algorithms (XGBoost and Random Forest) suffer from high variance. The next possible steps are to try to reduce this affect: adding more data and increase the effect of the regularization. The bike shares during the winter are less than the rest of the year. The algorithm is trained on year and a half training data and validated on half year test set. Maybe adding more data during the winter will help of the performance during this period or use oversampling. The models that could be tied also for this dataset are ARIMA, SARIMA, Prophet."
      ]
    },
    {
      "cell_type": "markdown",
      "metadata": {
        "id": "3fMtTz3njn7H",
        "colab_type": "text"
      },
      "source": [
        "## References:  \n",
        "[1] London bike sharing dataset - https://www.kaggle.com/hmavrodiev/london-bike-sharing-dataset  \n",
        "[2] Source of London bike usage - https://tfl.gov.uk/info-for/open-data-users/our-open-data#on-this-page-5  \n",
        "[3] MSLE - https://peltarion.com/knowledge-center/documentation/modeling-view/build-an-ai-model/loss-functions/mean-squared-logarithmic-error  \n",
        "[4] MAE; R^2; RMSLE - https://hrngok.github.io/posts/metrics/  \n",
        "[5] RMSE vs RMSLE - https://medium.com/analytics-vidhya/root-mean-square-log-error-rmse-vs-rmlse-935c6cc1802a  \n",
        "[6] Choosing an evaluation metric - https://towardsdatascience.com/how-to-select-the-right-evaluation-metric-for-machine-learning-models-part-1-regrression-metrics-3606e25beae0  \n",
        "[7] Deal with highly skewed data - https://becominghuman.ai/how-to-deal-with-skewed-dataset-in-machine-learning-afd2928011cc  \n",
        "[8] Common variance stabilizing transformations  - https://stats.stackexchange.com/questions/18844/when-and-why-should-you-take-the-log-of-a-distribution-of-numbers/18852  \n",
        "[9] London bike sharing data exploration - https://medium.com/@AJOhrn/data-footprint-of-bike-sharing-in-london-be9e11425248  \n",
        "[10] Bike sharing kaggle competition - https://www.kaggle.com/c/bike-sharing-demand  \n",
        "[11] One-hot encoder on ensemble models - https://towardsdatascience.com/one-hot-encoding-is-making-your-tree-based-ensembles-worse-heres-why-d64b282b5769  \n",
        "[12] TimeSeriesSplit - https://scikit-learn.org/stable/modules/generated/sklearn.model_selection.TimeSeriesSplit.html  \n",
        "[13] TimeSeries nested cross validation - https://towardsdatascience.com/time-series-nested-cross-validation-76adba623eb9  \n",
        "[14] Avoiding data leakage in ML - https://conlanscientific.com/posts/category/blog/post/avoiding-data-leakage-machine-learning/  \n",
        "[15] Random Forest tuning - https://towardsdatascience.com/hyperparameter-tuning-the-random-forest-in-python-using-scikit-learn-28d2aa77dd74  \n",
        "[16] Bike sharing map - https://bikesharemap.com/london/#/12/-0.0691/51.4535/  \n",
        "[17] Skewness and kurtosis - https://brownmath.com/stat/shape.htm  \n",
        "[18] Leptokurtic distribution - https://www.investopedia.com/terms/l/leptokurtic.asp  \n",
        "[19] Normality test in python - QQ plot; Shapiro-Wilk Test;D’Agostino’s K^2 Test; Anderson-Darling Test; - https://machinelearningmastery.com/a-gentle-introduction-to-normality-tests-in-python/  \n",
        "[20] Q-Q plot and normality tests Medium article - https://medium.com/@rrfd/testing-for-normality-applications-with-python-6bf06ed646a9  \n",
        "[21] Feature importance in ensemble models - https://scikit-learn.org/stable/auto_examples/ensemble/plot_gradient_boosting_regression.html  \n",
        "[22] Comparing Regression models - https://www.kaggle.com/ankitjha/comparing-regression-models  \n",
        "[23] QQPLot interpretation - https://stats.stackexchange.com/questions/101274/how-to-interpret-a-qq-plot/101290#101290  \n",
        "[24] QQPlot - Spring 2016 - https://math.illinois.edu/system/files/inline-files/Proj9AY1516-report2.pdf  \n",
        "[25] https://medium.com/data-distilled/residual-plots-part-2-normal-qq-plots-c220ee9ed9fc  \n",
        "[26] Create a diagnostic plots - https://robert-alvarez.github.io/2018-06-04-diagnostic_plots/  \n",
        "[27] Interpreting residual plots to improve regression - http://docs.statwing.com/interpreting-residual-plots-to-improve-your-regression/#transform  \n",
        "[28] Diagnose residual plots in regression - https://www.analyticsvidhya.com/blog/2013/12/residual-plots-regression-model/  \n",
        "[29] How to check the quality of regression model - https://towardsdatascience.com/how-do-you-check-the-quality-of-your-regression-model-in-python-fa61759ff685  \n",
        "[30] Optimize RMSLE in XGBoost - https://www.kaggle.com/c/grupo-bimbo-inventory-demand/discussion/22759  \n",
        "[31] RMSLE interpretation - https://books.google.bg/books?id=WaZ-DwAAQBAJ&pg=PA637&lpg=PA637&dq=rmsle+score+meaning&source=bl&ots=RuzEardmbM&sig=ACfU3U0sokwpzgXKPBjRSGEY6oORYwvsbQ&hl=en&sa=X&ved=2ahUKEwiklMiSo7TlAhXRoFwKHR-jCXcQ6AEwE3oECAkQAg#v=onepage&q=rmsle%20score%20meaning&f=false  \n",
        "[32] XGBoost docs - https://xgboost.readthedocs.io/en/latest/parameter.html  \n",
        "[33] XGBoost tuning - http://www.fantasyfutopia.com/python-for-fantasy-football-random-forest-and-xgboost-hyperparameter-tuning/"
      ]
    }
  ]
}