{
  "nbformat": 4,
  "nbformat_minor": 0,
  "metadata": {
    "colab": {
      "name": "SoftUni Fund - 06.ipynb",
      "provenance": [],
      "collapsed_sections": [],
      "authorship_tag": "ABX9TyO5vlQ0c7D5Tcdwy9Xemoc+"
    },
    "kernelspec": {
      "name": "python3",
      "display_name": "Python 3"
    }
  },
  "cells": [
    {
      "cell_type": "markdown",
      "metadata": {
        "id": "7s_YE_xvXWnp",
        "colab_type": "text"
      },
      "source": [
        "1.\tJenny's Secret Message\n",
        "Jenny studies programming with python and wants to create a program that greets a user when he/she gives his/her name. Jenny however is in love with Johnny, and would like to greet him differently. Can you help her?  \n",
        "Examples  \n",
        "Input\tOutput  \n",
        "Peter\tHello, Peter!  \n",
        "Amy\tHello, Amy!  \n",
        "Johnny\tHello, my love!  \n"
      ]
    },
    {
      "cell_type": "code",
      "metadata": {
        "id": "Q09Vl7I1WmZS",
        "colab_type": "code",
        "outputId": "f62cc48b-4d10-4db6-e4aa-68dd1cac119d",
        "colab": {
          "base_uri": "https://localhost:8080/",
          "height": 50
        }
      },
      "source": [
        "name = input()\n",
        "  \n",
        "if name ==\"Johnny\":\n",
        "    print(f'Hello, my love!')\n",
        "else:\n",
        "\tprint(f'Hello, {name}!')"
      ],
      "execution_count": 0,
      "outputs": [
        {
          "output_type": "stream",
          "text": [
            "Test\n",
            "Hello, Test!\n"
          ],
          "name": "stdout"
        }
      ]
    },
    {
      "cell_type": "markdown",
      "metadata": {
        "id": "f0syIKobP2X8",
        "colab_type": "text"
      },
      "source": [
        "2.\tDrink Something\n",
        "Kids drink toddy, Teens drink coke, Young adults drink beer, Adults drink whisky.\n",
        "Make a program that receives an age, and returns what they drink.  \n",
        "Rules:  \n",
        "Kids under 14 years old.  \n",
        "Teens under 18 years old.  \n",
        "Young adults under 21 years old.  \n",
        "Adults above 21.  \n",
        "Note: All the values except the last one are inclusive!  \n",
        "Examples  \n",
        "Input\tOutput  \n",
        "13\tdrink toddy  \n",
        "17\tdrink coke  \n",
        "21\tdrink beer  \n",
        "30\tdrink whisky  \n"
      ]
    },
    {
      "cell_type": "code",
      "metadata": {
        "id": "ijaAwJ6IWrab",
        "colab_type": "code",
        "colab": {
          "base_uri": "https://localhost:8080/",
          "height": 50
        },
        "outputId": "f15db684-29a7-44d9-9b69-82bd8fabe217"
      },
      "source": [
        "age = int(input())\n",
        "drink = \"\"\n",
        "\n",
        "if age <=14:\n",
        "    drink = \"toddy\"\n",
        "elif age <=18:\n",
        "    drink = \"coke\"\n",
        "elif age <=21:\n",
        "    drink = \"beer\"\n",
        "else:\n",
        "    drink =\"whisky\"\n",
        "\n",
        "print(f'drink {drink}')"
      ],
      "execution_count": 2,
      "outputs": [
        {
          "output_type": "stream",
          "text": [
            "1\n",
            "drink toddy\n"
          ],
          "name": "stdout"
        }
      ]
    },
    {
      "cell_type": "markdown",
      "metadata": {
        "id": "6SYfTePaVcP1",
        "colab_type": "text"
      },
      "source": [
        "3.\tLeonardo DiCaprio Oscars\n",
        "Write a program that receives a single integer number and prints different messages depending on the number:\n",
        "-\tIf Oscar is 88 - \"Leo finally won the Oscar! Leo is happy\".\n",
        "-\tIf Oscar is 86 - \"Not even for Wolf of Wall Street?!\"\n",
        "-\tIf Oscar is not 88 nor 86 (and below 88) - \"When will you give Leo an Oscar?\"\n",
        "-\tIf Oscar is over 88 - \"Leo got one already!\"\n"
      ]
    },
    {
      "cell_type": "code",
      "metadata": {
        "id": "qUPclAakQj7c",
        "colab_type": "code",
        "colab": {
          "base_uri": "https://localhost:8080/",
          "height": 50
        },
        "outputId": "6f4c7fcb-216c-4545-fecf-d3eccfb4bf51"
      },
      "source": [
        "oscar = int(input())\n",
        "\n",
        "if oscar == 88:\n",
        "    print(\"Leo finally won the Oscar! Leo is happy\")\n",
        "elif oscar == 86:\n",
        "    print(\"Not even for Wolf of Wall Street?!\")\n",
        "elif oscar < 88 and oscar != 86:\n",
        "    print(\"When will you give Leo an Oscar?\")\n",
        "elif oscar > 88:\n",
        "    print(\"Leo got one already!\")"
      ],
      "execution_count": 4,
      "outputs": [
        {
          "output_type": "stream",
          "text": [
            "86\n",
            "Not even for Wolf of Wall Street?!\n"
          ],
          "name": "stdout"
        }
      ]
    },
    {
      "cell_type": "markdown",
      "metadata": {
        "id": "u_V-F4z2UnQU",
        "colab_type": "text"
      },
      "source": [
        "4.\tDouble Char\n",
        "Given a string, you have to print a string in which each character (case-sensitive) is repeated.  \n",
        "Examples  \n",
        "Input\tOutput  \n",
        "Hello World\tHHeelllloo  WWoorrlldd  \n",
        "1234!\t11223344!!  \n"
      ]
    },
    {
      "cell_type": "code",
      "metadata": {
        "id": "avl3qpOUUQza",
        "colab_type": "code",
        "colab": {
          "base_uri": "https://localhost:8080/",
          "height": 50
        },
        "outputId": "73bfa153-c4df-4fe8-b289-5d47b1f5887c"
      },
      "source": [
        "text = str(input())\n",
        "for letter in text:\n",
        "    print(letter * 2, end = \"\")"
      ],
      "execution_count": 5,
      "outputs": [
        {
          "output_type": "stream",
          "text": [
            "test\n",
            "tteesstt"
          ],
          "name": "stdout"
        }
      ]
    },
    {
      "cell_type": "markdown",
      "metadata": {
        "id": "qLNacVTsVuCu",
        "colab_type": "text"
      },
      "source": [
        "5.\tCan't Sleep? Count Sheep\n",
        "If you can't sleep, just count sheep! Given a non-negative integer, 3 for example, return a string with a murmur: \"1 sheep...2 sheep...3 sheep...\" Input will always be valid, i.e. no negative integers.\n",
        "Examples  \n",
        "Input\tOutput  \n",
        "5\t1 sheep...2 sheep...3 sheep...4 sheep...5 sheep...  \n",
        "1\t1 sheep...  \n"
      ]
    },
    {
      "cell_type": "code",
      "metadata": {
        "id": "C_YiwCvaU8os",
        "colab_type": "code",
        "colab": {}
      },
      "source": [
        ""
      ],
      "execution_count": 0,
      "outputs": []
    }
  ]
}